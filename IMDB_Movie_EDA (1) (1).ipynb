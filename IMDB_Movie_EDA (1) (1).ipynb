{
 "cells": [
  {
   "cell_type": "markdown",
   "metadata": {
    "application/vnd.databricks.v1+cell": {
     "cellMetadata": {
      "byteLimit": 2048000,
      "rowLimit": 10000
     },
     "inputWidgets": {},
     "nuid": "f327f375-17da-41d4-bd7d-964bc996cd87",
     "showTitle": false,
     "tableResultSettingsMap": {},
     "title": ""
    }
   },
   "source": [
    "# <font color = blue> IMDb Movie EDA </font>\n",
    "\n",
    "You have the data for the 100 top-rated movies from the past decade along with various pieces of information about the movie, its actors, and the voters who have rated these movies online. In this assignment, you will try to find some interesting insights into these movies and their voters, using Python."
   ]
  },
  {
   "cell_type": "code",
   "execution_count": 0,
   "metadata": {
    "application/vnd.databricks.v1+cell": {
     "cellMetadata": {
      "byteLimit": 2048000,
      "rowLimit": 10000
     },
     "inputWidgets": {},
     "nuid": "08cdbd2c-c645-477b-9ac9-7b80dc1ffe11",
     "showTitle": false,
     "tableResultSettingsMap": {},
     "title": ""
    }
   },
   "outputs": [
    {
     "output_type": "display_data",
     "data": {
      "application/vnd.databricks.v1+bamboolib_hint": "{\"pd.DataFrames\": [], \"version\": \"0.0.1\"}",
      "text/plain": []
     },
     "metadata": {},
     "output_type": "display_data"
    }
   ],
   "source": [
    "# Importing the required libraries\n",
    "\n",
    "import numpy as np\n",
    "import pandas as pd\n",
    "import seaborn as sns\n",
    "import matplotlib.pyplot as plt"
   ]
  },
  {
   "cell_type": "markdown",
   "metadata": {
    "application/vnd.databricks.v1+cell": {
     "cellMetadata": {
      "byteLimit": 2048000,
      "rowLimit": 10000
     },
     "inputWidgets": {},
     "nuid": "06502b41-6426-40b8-b2a4-afa2a56a3fbf",
     "showTitle": false,
     "tableResultSettingsMap": {},
     "title": ""
    }
   },
   "source": [
    "##  Task 1: Reading the data"
   ]
  },
  {
   "cell_type": "markdown",
   "metadata": {
    "application/vnd.databricks.v1+cell": {
     "cellMetadata": {
      "byteLimit": 2048000,
      "rowLimit": 10000
     },
     "inputWidgets": {},
     "nuid": "cae3d303-9838-4219-9976-231dd4783c26",
     "showTitle": false,
     "tableResultSettingsMap": {},
     "title": ""
    }
   },
   "source": [
    "- ### Subtask 1.1: Read the Movies Data.\n",
    "\n",
    "Read the movies data file provided and store it in a dataframe `movies`."
   ]
  },
  {
   "cell_type": "code",
   "execution_count": 0,
   "metadata": {
    "application/vnd.databricks.v1+cell": {
     "cellMetadata": {
      "byteLimit": 2048000,
      "rowLimit": 10000
     },
     "inputWidgets": {},
     "nuid": "7478b6d8-30b4-46e3-8546-61baacc99b7d",
     "showTitle": false,
     "tableResultSettingsMap": {},
     "title": ""
    }
   },
   "outputs": [],
   "source": [
    "# Read the csv file using 'read_csv'. Please write your dataset location here.\n",
    "\n",
    "movies = spark.read.csv(\"/FileStore/tables/IMDB_Movies.csv\", header=True, inferSchema=True)\n"
   ]
  },
  {
   "cell_type": "code",
   "execution_count": 0,
   "metadata": {
    "application/vnd.databricks.v1+cell": {
     "cellMetadata": {
      "byteLimit": 2048000,
      "rowLimit": 10000
     },
     "inputWidgets": {},
     "nuid": "66a6b631-ac0a-4adb-9ed5-629e525c5631",
     "showTitle": false,
     "tableResultSettingsMap": {},
     "title": ""
    }
   },
   "outputs": [
    {
     "output_type": "stream",
     "name": "stdout",
     "output_type": "stream",
     "text": [
      "Out[3]: Row(Title='La La Land', title_year=2016, budget=30000000, Gross=151101803, actor_1_name='Ryan Gosling', actor_2_name='Emma Stone', actor_3_name='Amiée Conn', actor_1_facebook_likes=14000, actor_2_facebook_likes=19000, actor_3_facebook_likes=None, IMDb_rating=8.2, genre_1='Comedy', genre_2='Drama', genre_3='Music', MetaCritic=93, Runtime=128, CVotes10=74245, CVotes09=71191, CVotes08=64640, CVotes07=38831, CVotes06=17377, CVotes05=8044, CVotes04=3998, CVotes03=2839, CVotes02=2407, CVotes01=6802, CVotesMale=157693, CVotesFemale=56713, CVotesU18=2675, CVotesU18M=1784, CVotesU18F=868, CVotes1829=113008, CVotes1829M=78998, CVotes1829F=32730, CVotes3044=66058, CVotes3044M=50835, CVotes3044F=14165, CVotes45A=15765, CVotes45AM=12148, CVotes45AF=3302, CVotes1000=454, CVotesUS=33360, CVotesnUS=117987, VotesM=8.2, VotesF=8.1, VotesU18=8.9, VotesU18M=9.0, VotesU18F=8.7, Votes1829=8.4, Votes1829M=8.4, Votes1829F=8.2, Votes3044=7.9, Votes3044M=7.9, Votes3044F=7.8, Votes45A=7.6, Votes45AM=7.6, Votes45AF=7.5, Votes1000=7.1, VotesUS=8.3, VotesnUS=8.1, content_rating='PG-13', Country='USA')"
     ]
    }
   ],
   "source": [
    "movies.head()"
   ]
  },
  {
   "cell_type": "markdown",
   "metadata": {
    "application/vnd.databricks.v1+cell": {
     "cellMetadata": {
      "byteLimit": 2048000,
      "rowLimit": 10000
     },
     "inputWidgets": {},
     "nuid": "291682fc-7202-47ce-905b-d18bcc9d7c45",
     "showTitle": false,
     "tableResultSettingsMap": {},
     "title": ""
    }
   },
   "source": [
    "- ###  Subtask 1.2: Inspect the Dataframe\n",
    "\n",
    "Inspect the dataframe for dimensions, null-values, and summary of different numeric columns."
   ]
  },
  {
   "cell_type": "code",
   "execution_count": 0,
   "metadata": {
    "application/vnd.databricks.v1+cell": {
     "cellMetadata": {
      "byteLimit": 2048000,
      "rowLimit": 10000
     },
     "inputWidgets": {},
     "nuid": "e106aaa7-210d-4d65-9f52-b92c72cddcdb",
     "showTitle": false,
     "tableResultSettingsMap": {},
     "title": ""
    }
   },
   "outputs": [
    {
     "output_type": "stream",
     "name": "stdout",
     "output_type": "stream",
     "text": [
      "Out[4]: (100, 62)"
     ]
    }
   ],
   "source": [
    "# Check the number of rows and columns in the dataframe\n",
    "movies.count(), len(movies.columns)\n"
   ]
  },
  {
   "cell_type": "code",
   "execution_count": 0,
   "metadata": {
    "application/vnd.databricks.v1+cell": {
     "cellMetadata": {
      "byteLimit": 2048000,
      "rowLimit": 10000
     },
     "inputWidgets": {},
     "nuid": "1751c094-ecf2-4bed-b09a-0e9f4c8bf2f9",
     "showTitle": false,
     "tableResultSettingsMap": {},
     "title": ""
    }
   },
   "outputs": [
    {
     "output_type": "stream",
     "name": "stdout",
     "output_type": "stream",
     "text": [
      "root\n |-- Title: string (nullable = true)\n |-- title_year: integer (nullable = true)\n |-- budget: integer (nullable = true)\n |-- Gross: integer (nullable = true)\n |-- actor_1_name: string (nullable = true)\n |-- actor_2_name: string (nullable = true)\n |-- actor_3_name: string (nullable = true)\n |-- actor_1_facebook_likes: integer (nullable = true)\n |-- actor_2_facebook_likes: integer (nullable = true)\n |-- actor_3_facebook_likes: integer (nullable = true)\n |-- IMDb_rating: double (nullable = true)\n |-- genre_1: string (nullable = true)\n |-- genre_2: string (nullable = true)\n |-- genre_3: string (nullable = true)\n |-- MetaCritic: integer (nullable = true)\n |-- Runtime: integer (nullable = true)\n |-- CVotes10: integer (nullable = true)\n |-- CVotes09: integer (nullable = true)\n |-- CVotes08: integer (nullable = true)\n |-- CVotes07: integer (nullable = true)\n |-- CVotes06: integer (nullable = true)\n |-- CVotes05: integer (nullable = true)\n |-- CVotes04: integer (nullable = true)\n |-- CVotes03: integer (nullable = true)\n |-- CVotes02: integer (nullable = true)\n |-- CVotes01: integer (nullable = true)\n |-- CVotesMale: integer (nullable = true)\n |-- CVotesFemale: integer (nullable = true)\n |-- CVotesU18: integer (nullable = true)\n |-- CVotesU18M: integer (nullable = true)\n |-- CVotesU18F: integer (nullable = true)\n |-- CVotes1829: integer (nullable = true)\n |-- CVotes1829M: integer (nullable = true)\n |-- CVotes1829F: integer (nullable = true)\n |-- CVotes3044: integer (nullable = true)\n |-- CVotes3044M: integer (nullable = true)\n |-- CVotes3044F: integer (nullable = true)\n |-- CVotes45A: integer (nullable = true)\n |-- CVotes45AM: integer (nullable = true)\n |-- CVotes45AF: integer (nullable = true)\n |-- CVotes1000: integer (nullable = true)\n |-- CVotesUS: integer (nullable = true)\n |-- CVotesnUS: integer (nullable = true)\n |-- VotesM: double (nullable = true)\n |-- VotesF: double (nullable = true)\n |-- VotesU18: double (nullable = true)\n |-- VotesU18M: double (nullable = true)\n |-- VotesU18F: double (nullable = true)\n |-- Votes1829: double (nullable = true)\n |-- Votes1829M: double (nullable = true)\n |-- Votes1829F: double (nullable = true)\n |-- Votes3044: double (nullable = true)\n |-- Votes3044M: double (nullable = true)\n |-- Votes3044F: double (nullable = true)\n |-- Votes45A: double (nullable = true)\n |-- Votes45AM: double (nullable = true)\n |-- Votes45AF: double (nullable = true)\n |-- Votes1000: double (nullable = true)\n |-- VotesUS: double (nullable = true)\n |-- VotesnUS: double (nullable = true)\n |-- content_rating: string (nullable = true)\n |-- Country: string (nullable = true)\n\n"
     ]
    }
   ],
   "source": [
    "# Check the column-wise info of the dataframe\n",
    "movies.printSchema()\n"
   ]
  },
  {
   "cell_type": "code",
   "execution_count": 0,
   "metadata": {
    "application/vnd.databricks.v1+cell": {
     "cellMetadata": {
      "byteLimit": 2048000,
      "rowLimit": 10000
     },
     "inputWidgets": {},
     "nuid": "85239b7a-1c8e-4bfe-8488-68b6b3bc8117",
     "showTitle": false,
     "tableResultSettingsMap": {},
     "title": ""
    }
   },
   "outputs": [
    {
     "output_type": "stream",
     "name": "stdout",
     "output_type": "stream",
     "text": [
      "Out[6]: DataFrame[summary: string, Title: string, title_year: string, budget: string, Gross: string, actor_1_name: string, actor_2_name: string, actor_3_name: string, actor_1_facebook_likes: string, actor_2_facebook_likes: string, actor_3_facebook_likes: string, IMDb_rating: string, genre_1: string, genre_2: string, genre_3: string, MetaCritic: string, Runtime: string, CVotes10: string, CVotes09: string, CVotes08: string, CVotes07: string, CVotes06: string, CVotes05: string, CVotes04: string, CVotes03: string, CVotes02: string, CVotes01: string, CVotesMale: string, CVotesFemale: string, CVotesU18: string, CVotesU18M: string, CVotesU18F: string, CVotes1829: string, CVotes1829M: string, CVotes1829F: string, CVotes3044: string, CVotes3044M: string, CVotes3044F: string, CVotes45A: string, CVotes45AM: string, CVotes45AF: string, CVotes1000: string, CVotesUS: string, CVotesnUS: string, VotesM: string, VotesF: string, VotesU18: string, VotesU18M: string, VotesU18F: string, Votes1829: string, Votes1829M: string, Votes1829F: string, Votes3044: string, Votes3044M: string, Votes3044F: string, Votes45A: string, Votes45AM: string, Votes45AF: string, Votes1000: string, VotesUS: string, VotesnUS: string, content_rating: string, Country: string]"
     ]
    }
   ],
   "source": [
    "# Check the summary for the numeric columns \n",
    "movies.describe()\n"
   ]
  },
  {
   "cell_type": "markdown",
   "metadata": {
    "application/vnd.databricks.v1+cell": {
     "cellMetadata": {
      "byteLimit": 2048000,
      "rowLimit": 10000
     },
     "inputWidgets": {},
     "nuid": "dad97ba9-9922-4d75-a63d-844a5bdb6f77",
     "showTitle": false,
     "tableResultSettingsMap": {},
     "title": ""
    }
   },
   "source": [
    "## Task 2: Data Analysis\n",
    "\n",
    "Now that we have loaded the dataset and inspected it, we see that most of the data is in place. As of now, no data cleaning is required, so let's start with some data manipulation, analysis, and visualisation to get various insights about the data. "
   ]
  },
  {
   "cell_type": "markdown",
   "metadata": {
    "application/vnd.databricks.v1+cell": {
     "cellMetadata": {
      "byteLimit": 2048000,
      "rowLimit": 10000
     },
     "inputWidgets": {},
     "nuid": "cb4909a5-d7e9-4665-883f-f917e1414af9",
     "showTitle": false,
     "tableResultSettingsMap": {},
     "title": ""
    }
   },
   "source": [
    "-  ###  Subtask 2.1: Reduce those Digits!\n",
    "\n",
    "These numbers in the `budget` and `gross` are too big, compromising its readability. Let's convert the unit of the `budget` and `gross` columns from `$` to `million $` first."
   ]
  },
  {
   "cell_type": "code",
   "execution_count": 0,
   "metadata": {
    "application/vnd.databricks.v1+cell": {
     "cellMetadata": {
      "byteLimit": 2048000,
      "rowLimit": 10000
     },
     "inputWidgets": {},
     "nuid": "3a2ceab2-24a7-482e-a55a-3e92b54d6925",
     "showTitle": false,
     "tableResultSettingsMap": {},
     "title": ""
    }
   },
   "outputs": [],
   "source": [
    "# Divide the 'gross' and 'budget' columns by 1000000 to convert '$' to 'million $'\n",
    "\n",
    "from pyspark.sql.functions import col\n",
    "\n",
    "# Convert 'budget' and 'Gross' columns from dollars to million dollars\n",
    "movies = movies.withColumn(\"budget\", col(\"budget\") / 1000000)\n",
    "movies = movies.withColumn(\"Gross\", col(\"Gross\") / 1000000)"
   ]
  },
  {
   "cell_type": "code",
   "execution_count": 0,
   "metadata": {
    "application/vnd.databricks.v1+cell": {
     "cellMetadata": {
      "byteLimit": 2048000,
      "rowLimit": 10000
     },
     "inputWidgets": {},
     "nuid": "07dfada7-2fff-4a4c-94b8-b19bd3a0f26a",
     "showTitle": false,
     "tableResultSettingsMap": {},
     "title": ""
    }
   },
   "outputs": [
    {
     "output_type": "stream",
     "name": "stdout",
     "output_type": "stream",
     "text": [
      "Out[8]: Row(Title='La La Land', title_year=2016, budget=30.0, Gross=151.101803, actor_1_name='Ryan Gosling', actor_2_name='Emma Stone', actor_3_name='Amiée Conn', actor_1_facebook_likes=14000, actor_2_facebook_likes=19000, actor_3_facebook_likes=None, IMDb_rating=8.2, genre_1='Comedy', genre_2='Drama', genre_3='Music', MetaCritic=93, Runtime=128, CVotes10=74245, CVotes09=71191, CVotes08=64640, CVotes07=38831, CVotes06=17377, CVotes05=8044, CVotes04=3998, CVotes03=2839, CVotes02=2407, CVotes01=6802, CVotesMale=157693, CVotesFemale=56713, CVotesU18=2675, CVotesU18M=1784, CVotesU18F=868, CVotes1829=113008, CVotes1829M=78998, CVotes1829F=32730, CVotes3044=66058, CVotes3044M=50835, CVotes3044F=14165, CVotes45A=15765, CVotes45AM=12148, CVotes45AF=3302, CVotes1000=454, CVotesUS=33360, CVotesnUS=117987, VotesM=8.2, VotesF=8.1, VotesU18=8.9, VotesU18M=9.0, VotesU18F=8.7, Votes1829=8.4, Votes1829M=8.4, Votes1829F=8.2, Votes3044=7.9, Votes3044M=7.9, Votes3044F=7.8, Votes45A=7.6, Votes45AM=7.6, Votes45AF=7.5, Votes1000=7.1, VotesUS=8.3, VotesnUS=8.1, content_rating='PG-13', Country='USA')"
     ]
    }
   ],
   "source": [
    "movies.head()"
   ]
  },
  {
   "cell_type": "markdown",
   "metadata": {
    "application/vnd.databricks.v1+cell": {
     "cellMetadata": {
      "byteLimit": 2048000,
      "rowLimit": 10000
     },
     "inputWidgets": {},
     "nuid": "61614000-bf86-473f-9e1e-81cc9fe8228c",
     "showTitle": false,
     "tableResultSettingsMap": {},
     "title": ""
    }
   },
   "source": [
    "-  ###  Subtask 2.2: Let's Talk Profit!\n",
    "\n",
    "    1. Create a new column called `profit` which contains the difference of the two columns: `gross` and `budget`.\n",
    "    2. Sort the dataframe using the `profit` column as reference.\n",
    "    3. Extract the top ten profiting movies in descending order and store them in a new dataframe - `top10`.\n",
    "    4. Plot a scatter or a joint plot between the columns `budget` and `profit` and write a few words on what you observed.\n",
    "    5. Extract the movies with a negative profit and store them in a new dataframe - `neg_profit`"
   ]
  },
  {
   "cell_type": "code",
   "execution_count": 0,
   "metadata": {
    "application/vnd.databricks.v1+cell": {
     "cellMetadata": {
      "byteLimit": 2048000,
      "rowLimit": 10000
     },
     "inputWidgets": {},
     "nuid": "6f2b4c8a-9457-4b59-99ad-50473cf345aa",
     "showTitle": false,
     "tableResultSettingsMap": {},
     "title": ""
    }
   },
   "outputs": [],
   "source": [
    "# Create the new column named 'profit' by subtracting the 'budget' column from the 'gross' column\n",
    "\n",
    "#TODO\n",
    "from pyspark.sql.functions import col\n",
    "\n",
    "movies = movies.withColumn(\"profit\", col(\"Gross\") - col(\"budget\"))\n",
    "\n",
    "\n"
   ]
  },
  {
   "cell_type": "code",
   "execution_count": 0,
   "metadata": {
    "application/vnd.databricks.v1+cell": {
     "cellMetadata": {
      "byteLimit": 2048000,
      "rowLimit": 10000
     },
     "inputWidgets": {},
     "nuid": "602938d1-f4cc-49bc-a88f-f2cd47a34ce0",
     "showTitle": false,
     "tableResultSettingsMap": {},
     "title": ""
    }
   },
   "outputs": [],
   "source": [
    "# Sort the dataframe with the 'profit' column as reference using the 'sort_values' function. Make sure to set the argument\n",
    "\n",
    "#TODO\n",
    "movies = movies.orderBy(col(\"profit\").desc())\n",
    "\n"
   ]
  },
  {
   "cell_type": "code",
   "execution_count": 0,
   "metadata": {
    "application/vnd.databricks.v1+cell": {
     "cellMetadata": {
      "byteLimit": 2048000,
      "rowLimit": 10000
     },
     "inputWidgets": {},
     "nuid": "1d80ed35-efcd-4b7c-ac03-53b7ed816cc0",
     "showTitle": false,
     "tableResultSettingsMap": {},
     "title": ""
    }
   },
   "outputs": [
    {
     "output_type": "display_data",
     "data": {
      "text/html": [
       "<style scoped>\n",
       "  .table-result-container {\n",
       "    max-height: 300px;\n",
       "    overflow: auto;\n",
       "  }\n",
       "  table, th, td {\n",
       "    border: 1px solid black;\n",
       "    border-collapse: collapse;\n",
       "  }\n",
       "  th, td {\n",
       "    padding: 5px;\n",
       "  }\n",
       "  th {\n",
       "    text-align: left;\n",
       "  }\n",
       "</style><div class='table-result-container'><table class='table-result'><thead style='background-color: white'><tr><th>Title</th><th>title_year</th><th>budget</th><th>Gross</th><th>actor_1_name</th><th>actor_2_name</th><th>actor_3_name</th><th>actor_1_facebook_likes</th><th>actor_2_facebook_likes</th><th>actor_3_facebook_likes</th><th>IMDb_rating</th><th>genre_1</th><th>genre_2</th><th>genre_3</th><th>MetaCritic</th><th>Runtime</th><th>CVotes10</th><th>CVotes09</th><th>CVotes08</th><th>CVotes07</th><th>CVotes06</th><th>CVotes05</th><th>CVotes04</th><th>CVotes03</th><th>CVotes02</th><th>CVotes01</th><th>CVotesMale</th><th>CVotesFemale</th><th>CVotesU18</th><th>CVotesU18M</th><th>CVotesU18F</th><th>CVotes1829</th><th>CVotes1829M</th><th>CVotes1829F</th><th>CVotes3044</th><th>CVotes3044M</th><th>CVotes3044F</th><th>CVotes45A</th><th>CVotes45AM</th><th>CVotes45AF</th><th>CVotes1000</th><th>CVotesUS</th><th>CVotesnUS</th><th>VotesM</th><th>VotesF</th><th>VotesU18</th><th>VotesU18M</th><th>VotesU18F</th><th>Votes1829</th><th>Votes1829M</th><th>Votes1829F</th><th>Votes3044</th><th>Votes3044M</th><th>Votes3044F</th><th>Votes45A</th><th>Votes45AM</th><th>Votes45AF</th><th>Votes1000</th><th>VotesUS</th><th>VotesnUS</th><th>content_rating</th><th>Country</th><th>profit</th></tr></thead><tbody><tr><td>Star Wars: Episode VII - The Force Awakens</td><td>2015</td><td>245.0</td><td>936.662225</td><td>Doug Walker</td><td>Rob Walker</td><td>0</td><td>131</td><td>12</td><td>0</td><td>8.1</td><td>Action</td><td>Adventure</td><td>Fantasy</td><td>81</td><td>136</td><td>155391</td><td>161810</td><td>166378</td><td>99402</td><td>40734</td><td>18060</td><td>8751</td><td>5970</td><td>4489</td><td>15768</td><td>425971</td><td>68664</td><td>4722</td><td>3919</td><td>768</td><td>220467</td><td>183671</td><td>34366</td><td>187138</td><td>162918</td><td>21362</td><td>42942</td><td>36441</td><td>5729</td><td>712</td><td>85141</td><td>250769</td><td>8.0</td><td>8.3</td><td>8.5</td><td>8.5</td><td>8.6</td><td>8.2</td><td>8.2</td><td>8.3</td><td>8.0</td><td>7.9</td><td>8.2</td><td>7.9</td><td>7.8</td><td>8.2</td><td>7.7</td><td>8.2</td><td>7.9</td><td>PG-13</td><td>USA</td><td>691.662225</td></tr><tr><td>The Avengers</td><td>2012</td><td>220.0</td><td>623.279547</td><td>Chris Hemsworth</td><td>Robert Downey Jr.</td><td>Scarlett Johansson</td><td>26000</td><td>21000</td><td>19000</td><td>8.1</td><td>Action</td><td>Sci-Fi</td><td>null</td><td>69</td><td>143</td><td>260257</td><td>234203</td><td>264290</td><td>162604</td><td>67579</td><td>27957</td><td>12176</td><td>7201</td><td>4996</td><td>15528</td><td>691783</td><td>151617</td><td>4953</td><td>3767</td><td>1150</td><td>432999</td><td>343012</td><td>85465</td><td>295318</td><td>247617</td><td>43303</td><td>54282</td><td>44183</td><td>9138</td><td>842</td><td>145826</td><td>423958</td><td>8.0</td><td>8.2</td><td>8.2</td><td>8.2</td><td>8.5</td><td>8.1</td><td>8.1</td><td>8.3</td><td>8.0</td><td>8.0</td><td>8.1</td><td>7.9</td><td>7.9</td><td>8.1</td><td>7.4</td><td>8.3</td><td>7.9</td><td>PG-13</td><td>USA</td><td>403.279547</td></tr><tr><td>Deadpool</td><td>2016</td><td>58.0</td><td>363.024263</td><td>Ryan Reynolds</td><td>Ed Skrein</td><td>Stefan Kapicic</td><td>16000</td><td>805</td><td>361</td><td>8.0</td><td>Action</td><td>Adventure</td><td>Comedy</td><td>65</td><td>108</td><td>147467</td><td>147966</td><td>170810</td><td>105717</td><td>41811</td><td>15510</td><td>7046</td><td>4273</td><td>3037</td><td>8538</td><td>391955</td><td>79804</td><td>4598</td><td>3601</td><td>969</td><td>232840</td><td>186139</td><td>44316</td><td>159222</td><td>135428</td><td>21521</td><td>28753</td><td>24218</td><td>4009</td><td>667</td><td>67933</td><td>241138</td><td>8.0</td><td>8.1</td><td>8.4</td><td>8.4</td><td>8.6</td><td>8.1</td><td>8.1</td><td>8.1</td><td>7.9</td><td>7.9</td><td>7.9</td><td>7.8</td><td>7.8</td><td>7.9</td><td>7.3</td><td>8.1</td><td>7.9</td><td>R</td><td>USA</td><td>305.024263</td></tr><tr><td>The Hunger Games: Catching Fire</td><td>2013</td><td>130.0</td><td>424.645577</td><td>Jennifer Lawrence</td><td>Josh Hutcherson</td><td>Sandra Ellis Lafferty</td><td>34000</td><td>14000</td><td>523</td><td>7.6</td><td>Action</td><td>Adventure</td><td>Mystery</td><td>76</td><td>146</td><td>85219</td><td>83874</td><td>150153</td><td>121748</td><td>50575</td><td>18571</td><td>7591</td><td>4094</td><td>2675</td><td>6978</td><td>307237</td><td>115421</td><td>3650</td><td>1956</td><td>1664</td><td>218884</td><td>148652</td><td>67934</td><td>140683</td><td>109976</td><td>28735</td><td>27789</td><td>21545</td><td>5771</td><td>693</td><td>68521</td><td>221430</td><td>7.4</td><td>8.1</td><td>8.0</td><td>7.7</td><td>8.5</td><td>7.8</td><td>7.6</td><td>8.2</td><td>7.3</td><td>7.2</td><td>7.9</td><td>7.3</td><td>7.2</td><td>7.9</td><td>6.7</td><td>7.7</td><td>7.4</td><td>PG-13</td><td>USA</td><td>294.645577</td></tr><tr><td>Toy Story 3</td><td>2010</td><td>200.0</td><td>414.984497</td><td>Tom Hanks</td><td>John Ratzenberger</td><td>Don Rickles</td><td>15000</td><td>1000</td><td>721</td><td>8.3</td><td>Animation</td><td>Adventure</td><td>Comedy</td><td>92</td><td>103</td><td>139773</td><td>149992</td><td>158704</td><td>88289</td><td>31291</td><td>11850</td><td>4859</td><td>2932</td><td>2119</td><td>6586</td><td>389014</td><td>98386</td><td>3202</td><td>2405</td><td>776</td><td>260519</td><td>199962</td><td>58366</td><td>169886</td><td>140253</td><td>27658</td><td>32457</td><td>26171</td><td>5806</td><td>769</td><td>105490</td><td>267692</td><td>8.3</td><td>8.3</td><td>8.2</td><td>8.3</td><td>8.0</td><td>8.4</td><td>8.5</td><td>8.4</td><td>8.2</td><td>8.2</td><td>8.3</td><td>8.1</td><td>8.1</td><td>8.1</td><td>8.1</td><td>8.5</td><td>8.3</td><td>G</td><td>USA</td><td>214.98449699999998</td></tr><tr><td>The Dark Knight Rises</td><td>2012</td><td>250.0</td><td>448.130642</td><td>Tom Hardy</td><td>Christian Bale</td><td>Joseph Gordon-Levitt</td><td>27000</td><td>23000</td><td>23000</td><td>8.4</td><td>Action</td><td>Thriller</td><td>null</td><td>78</td><td>164</td><td>380589</td><td>341965</td><td>281426</td><td>134959</td><td>50406</td><td>20106</td><td>9589</td><td>5713</td><td>4073</td><td>11988</td><td>842343</td><td>143070</td><td>4726</td><td>4023</td><td>672</td><td>509635</td><td>425041</td><td>79826</td><td>348324</td><td>299862</td><td>43434</td><td>55689</td><td>46968</td><td>7741</td><td>840</td><td>160533</td><td>501687</td><td>8.5</td><td>8.4</td><td>8.6</td><td>8.5</td><td>8.6</td><td>8.7</td><td>8.7</td><td>8.6</td><td>8.3</td><td>8.3</td><td>8.2</td><td>7.9</td><td>7.9</td><td>7.9</td><td>7.8</td><td>8.4</td><td>8.4</td><td>PG-13</td><td>USA</td><td>198.13064200000002</td></tr><tr><td>The Lego Movie</td><td>2014</td><td>60.0</td><td>257.756197</td><td>Morgan Freeman</td><td>Will Ferrell</td><td>Alison Brie</td><td>11000</td><td>8000</td><td>2000</td><td>7.8</td><td>Animation</td><td>Action</td><td>Adventure</td><td>83</td><td>100</td><td>41269</td><td>50795</td><td>83773</td><td>55181</td><td>21793</td><td>8596</td><td>3680</td><td>2053</td><td>1466</td><td>2918</td><td>180122</td><td>37351</td><td>1887</td><td>1464</td><td>414</td><td>111043</td><td>89180</td><td>20677</td><td>77271</td><td>65191</td><td>11020</td><td>13346</td><td>11079</td><td>2032</td><td>579</td><td>42963</td><td>114308</td><td>7.8</td><td>7.7</td><td>8.2</td><td>8.2</td><td>7.9</td><td>7.9</td><td>8.0</td><td>7.7</td><td>7.6</td><td>7.6</td><td>7.5</td><td>7.4</td><td>7.4</td><td>7.4</td><td>7.2</td><td>8.0</td><td>7.6</td><td>PG</td><td>Australia</td><td>197.756197</td></tr><tr><td>Zootopia</td><td>2016</td><td>150.0</td><td>341.268248</td><td>Ginnifer Goodwin</td><td>Jason Bateman</td><td>Idris Elba</td><td>2800</td><td>28000</td><td>27000</td><td>8.1</td><td>Animation</td><td>Adventure</td><td>Comedy</td><td>78</td><td>108</td><td>53626</td><td>70912</td><td>102352</td><td>57261</td><td>16719</td><td>4539</td><td>1467</td><td>733</td><td>496</td><td>1386</td><td>176202</td><td>52345</td><td>2362</td><td>1641</td><td>706</td><td>119637</td><td>87499</td><td>30813</td><td>75474</td><td>61358</td><td>13034</td><td>12353</td><td>9959</td><td>2151</td><td>518</td><td>35975</td><td>122844</td><td>8.0</td><td>8.3</td><td>8.4</td><td>8.3</td><td>8.7</td><td>8.2</td><td>8.1</td><td>8.4</td><td>7.8</td><td>7.8</td><td>8.1</td><td>7.8</td><td>7.8</td><td>8.1</td><td>7.6</td><td>8.0</td><td>8.0</td><td>PG</td><td>USA</td><td>191.26824800000003</td></tr><tr><td>Despicable Me</td><td>2010</td><td>69.0</td><td>251.501645</td><td>Steve Carell</td><td>Miranda Cosgrove</td><td>Jack McBrayer</td><td>7000</td><td>2000</td><td>975</td><td>7.7</td><td>Animation</td><td>Adventure</td><td>Comedy</td><td>72</td><td>124</td><td>56474</td><td>66298</td><td>136943</td><td>102534</td><td>35207</td><td>11448</td><td>4000</td><td>1862</td><td>1024</td><td>1825</td><td>251408</td><td>91545</td><td>2241</td><td>1523</td><td>700</td><td>179397</td><td>122880</td><td>54800</td><td>123041</td><td>95843</td><td>25612</td><td>21471</td><td>16853</td><td>4293</td><td>721</td><td>57957</td><td>196751</td><td>7.6</td><td>8.0</td><td>7.7</td><td>7.6</td><td>7.9</td><td>7.8</td><td>7.7</td><td>8.1</td><td>7.6</td><td>7.5</td><td>7.9</td><td>7.6</td><td>7.5</td><td>7.9</td><td>7.0</td><td>7.6</td><td>7.6</td><td>PG</td><td>USA</td><td>182.501645</td></tr><tr><td>Inside Out</td><td>2015</td><td>175.0</td><td>356.454367</td><td>Amy Poehler</td><td>Mindy Kaling</td><td>Phyllis Smith</td><td>1000</td><td>767</td><td>384</td><td>8.2</td><td>Animation</td><td>Adventure</td><td>Comedy</td><td>94</td><td>95</td><td>87509</td><td>113244</td><td>119801</td><td>67153</td><td>24210</td><td>8542</td><td>3349</td><td>1872</td><td>1123</td><td>3450</td><td>244433</td><td>79081</td><td>3361</td><td>2294</td><td>1040</td><td>170056</td><td>121574</td><td>46685</td><td>108560</td><td>86312</td><td>20516</td><td>18694</td><td>14910</td><td>3416</td><td>587</td><td>48297</td><td>176446</td><td>8.2</td><td>8.2</td><td>8.4</td><td>8.4</td><td>8.3</td><td>8.3</td><td>8.3</td><td>8.3</td><td>8.1</td><td>8.1</td><td>8.1</td><td>7.9</td><td>7.9</td><td>7.9</td><td>7.6</td><td>8.2</td><td>8.1</td><td>PG</td><td>USA</td><td>181.454367</td></tr></tbody></table></div>"
      ]
     },
     "metadata": {
      "application/vnd.databricks.v1+output": {
       "addedWidgets": {},
       "aggData": [],
       "aggError": "",
       "aggOverflow": false,
       "aggSchema": [],
       "aggSeriesLimitReached": false,
       "aggType": "",
       "arguments": {},
       "columnCustomDisplayInfos": {},
       "data": [
        [
         "Star Wars: Episode VII - The Force Awakens",
         2015,
         245.0,
         936.662225,
         "Doug Walker",
         "Rob Walker",
         "0",
         131,
         12,
         0,
         8.1,
         "Action",
         "Adventure",
         "Fantasy",
         81,
         136,
         155391,
         161810,
         166378,
         99402,
         40734,
         18060,
         8751,
         5970,
         4489,
         15768,
         425971,
         68664,
         4722,
         3919,
         768,
         220467,
         183671,
         34366,
         187138,
         162918,
         21362,
         42942,
         36441,
         5729,
         712,
         85141,
         250769,
         8.0,
         8.3,
         8.5,
         8.5,
         8.6,
         8.2,
         8.2,
         8.3,
         8.0,
         7.9,
         8.2,
         7.9,
         7.8,
         8.2,
         7.7,
         8.2,
         7.9,
         "PG-13",
         "USA",
         691.662225
        ],
        [
         "The Avengers",
         2012,
         220.0,
         623.279547,
         "Chris Hemsworth",
         "Robert Downey Jr.",
         "Scarlett Johansson",
         26000,
         21000,
         19000,
         8.1,
         "Action",
         "Sci-Fi",
         null,
         69,
         143,
         260257,
         234203,
         264290,
         162604,
         67579,
         27957,
         12176,
         7201,
         4996,
         15528,
         691783,
         151617,
         4953,
         3767,
         1150,
         432999,
         343012,
         85465,
         295318,
         247617,
         43303,
         54282,
         44183,
         9138,
         842,
         145826,
         423958,
         8.0,
         8.2,
         8.2,
         8.2,
         8.5,
         8.1,
         8.1,
         8.3,
         8.0,
         8.0,
         8.1,
         7.9,
         7.9,
         8.1,
         7.4,
         8.3,
         7.9,
         "PG-13",
         "USA",
         403.279547
        ],
        [
         "Deadpool",
         2016,
         58.0,
         363.024263,
         "Ryan Reynolds",
         "Ed Skrein",
         "Stefan Kapicic",
         16000,
         805,
         361,
         8.0,
         "Action",
         "Adventure",
         "Comedy",
         65,
         108,
         147467,
         147966,
         170810,
         105717,
         41811,
         15510,
         7046,
         4273,
         3037,
         8538,
         391955,
         79804,
         4598,
         3601,
         969,
         232840,
         186139,
         44316,
         159222,
         135428,
         21521,
         28753,
         24218,
         4009,
         667,
         67933,
         241138,
         8.0,
         8.1,
         8.4,
         8.4,
         8.6,
         8.1,
         8.1,
         8.1,
         7.9,
         7.9,
         7.9,
         7.8,
         7.8,
         7.9,
         7.3,
         8.1,
         7.9,
         "R",
         "USA",
         305.024263
        ],
        [
         "The Hunger Games: Catching Fire",
         2013,
         130.0,
         424.645577,
         "Jennifer Lawrence",
         "Josh Hutcherson",
         "Sandra Ellis Lafferty",
         34000,
         14000,
         523,
         7.6,
         "Action",
         "Adventure",
         "Mystery",
         76,
         146,
         85219,
         83874,
         150153,
         121748,
         50575,
         18571,
         7591,
         4094,
         2675,
         6978,
         307237,
         115421,
         3650,
         1956,
         1664,
         218884,
         148652,
         67934,
         140683,
         109976,
         28735,
         27789,
         21545,
         5771,
         693,
         68521,
         221430,
         7.4,
         8.1,
         8.0,
         7.7,
         8.5,
         7.8,
         7.6,
         8.2,
         7.3,
         7.2,
         7.9,
         7.3,
         7.2,
         7.9,
         6.7,
         7.7,
         7.4,
         "PG-13",
         "USA",
         294.645577
        ],
        [
         "Toy Story 3",
         2010,
         200.0,
         414.984497,
         "Tom Hanks",
         "John Ratzenberger",
         "Don Rickles",
         15000,
         1000,
         721,
         8.3,
         "Animation",
         "Adventure",
         "Comedy",
         92,
         103,
         139773,
         149992,
         158704,
         88289,
         31291,
         11850,
         4859,
         2932,
         2119,
         6586,
         389014,
         98386,
         3202,
         2405,
         776,
         260519,
         199962,
         58366,
         169886,
         140253,
         27658,
         32457,
         26171,
         5806,
         769,
         105490,
         267692,
         8.3,
         8.3,
         8.2,
         8.3,
         8.0,
         8.4,
         8.5,
         8.4,
         8.2,
         8.2,
         8.3,
         8.1,
         8.1,
         8.1,
         8.1,
         8.5,
         8.3,
         "G",
         "USA",
         214.98449699999998
        ],
        [
         "The Dark Knight Rises",
         2012,
         250.0,
         448.130642,
         "Tom Hardy",
         "Christian Bale",
         "Joseph Gordon-Levitt",
         27000,
         23000,
         23000,
         8.4,
         "Action",
         "Thriller",
         null,
         78,
         164,
         380589,
         341965,
         281426,
         134959,
         50406,
         20106,
         9589,
         5713,
         4073,
         11988,
         842343,
         143070,
         4726,
         4023,
         672,
         509635,
         425041,
         79826,
         348324,
         299862,
         43434,
         55689,
         46968,
         7741,
         840,
         160533,
         501687,
         8.5,
         8.4,
         8.6,
         8.5,
         8.6,
         8.7,
         8.7,
         8.6,
         8.3,
         8.3,
         8.2,
         7.9,
         7.9,
         7.9,
         7.8,
         8.4,
         8.4,
         "PG-13",
         "USA",
         198.13064200000002
        ],
        [
         "The Lego Movie",
         2014,
         60.0,
         257.756197,
         "Morgan Freeman",
         "Will Ferrell",
         "Alison Brie",
         11000,
         8000,
         2000,
         7.8,
         "Animation",
         "Action",
         "Adventure",
         83,
         100,
         41269,
         50795,
         83773,
         55181,
         21793,
         8596,
         3680,
         2053,
         1466,
         2918,
         180122,
         37351,
         1887,
         1464,
         414,
         111043,
         89180,
         20677,
         77271,
         65191,
         11020,
         13346,
         11079,
         2032,
         579,
         42963,
         114308,
         7.8,
         7.7,
         8.2,
         8.2,
         7.9,
         7.9,
         8.0,
         7.7,
         7.6,
         7.6,
         7.5,
         7.4,
         7.4,
         7.4,
         7.2,
         8.0,
         7.6,
         "PG",
         "Australia",
         197.756197
        ],
        [
         "Zootopia",
         2016,
         150.0,
         341.268248,
         "Ginnifer Goodwin",
         "Jason Bateman",
         "Idris Elba",
         2800,
         28000,
         27000,
         8.1,
         "Animation",
         "Adventure",
         "Comedy",
         78,
         108,
         53626,
         70912,
         102352,
         57261,
         16719,
         4539,
         1467,
         733,
         496,
         1386,
         176202,
         52345,
         2362,
         1641,
         706,
         119637,
         87499,
         30813,
         75474,
         61358,
         13034,
         12353,
         9959,
         2151,
         518,
         35975,
         122844,
         8.0,
         8.3,
         8.4,
         8.3,
         8.7,
         8.2,
         8.1,
         8.4,
         7.8,
         7.8,
         8.1,
         7.8,
         7.8,
         8.1,
         7.6,
         8.0,
         8.0,
         "PG",
         "USA",
         191.26824800000003
        ],
        [
         "Despicable Me",
         2010,
         69.0,
         251.501645,
         "Steve Carell",
         "Miranda Cosgrove",
         "Jack McBrayer",
         7000,
         2000,
         975,
         7.7,
         "Animation",
         "Adventure",
         "Comedy",
         72,
         124,
         56474,
         66298,
         136943,
         102534,
         35207,
         11448,
         4000,
         1862,
         1024,
         1825,
         251408,
         91545,
         2241,
         1523,
         700,
         179397,
         122880,
         54800,
         123041,
         95843,
         25612,
         21471,
         16853,
         4293,
         721,
         57957,
         196751,
         7.6,
         8.0,
         7.7,
         7.6,
         7.9,
         7.8,
         7.7,
         8.1,
         7.6,
         7.5,
         7.9,
         7.6,
         7.5,
         7.9,
         7.0,
         7.6,
         7.6,
         "PG",
         "USA",
         182.501645
        ],
        [
         "Inside Out",
         2015,
         175.0,
         356.454367,
         "Amy Poehler",
         "Mindy Kaling",
         "Phyllis Smith",
         1000,
         767,
         384,
         8.2,
         "Animation",
         "Adventure",
         "Comedy",
         94,
         95,
         87509,
         113244,
         119801,
         67153,
         24210,
         8542,
         3349,
         1872,
         1123,
         3450,
         244433,
         79081,
         3361,
         2294,
         1040,
         170056,
         121574,
         46685,
         108560,
         86312,
         20516,
         18694,
         14910,
         3416,
         587,
         48297,
         176446,
         8.2,
         8.2,
         8.4,
         8.4,
         8.3,
         8.3,
         8.3,
         8.3,
         8.1,
         8.1,
         8.1,
         7.9,
         7.9,
         7.9,
         7.6,
         8.2,
         8.1,
         "PG",
         "USA",
         181.454367
        ]
       ],
       "datasetInfos": [],
       "dbfsResultPath": null,
       "isJsonSchema": true,
       "metadata": {},
       "overflow": false,
       "plotOptions": {
        "customPlotOptions": {},
        "displayType": "table",
        "pivotAggregation": null,
        "pivotColumns": null,
        "xColumns": null,
        "yColumns": null
       },
       "removedWidgets": [],
       "schema": [
        {
         "metadata": "{}",
         "name": "Title",
         "type": "\"string\""
        },
        {
         "metadata": "{}",
         "name": "title_year",
         "type": "\"integer\""
        },
        {
         "metadata": "{}",
         "name": "budget",
         "type": "\"double\""
        },
        {
         "metadata": "{}",
         "name": "Gross",
         "type": "\"double\""
        },
        {
         "metadata": "{}",
         "name": "actor_1_name",
         "type": "\"string\""
        },
        {
         "metadata": "{}",
         "name": "actor_2_name",
         "type": "\"string\""
        },
        {
         "metadata": "{}",
         "name": "actor_3_name",
         "type": "\"string\""
        },
        {
         "metadata": "{}",
         "name": "actor_1_facebook_likes",
         "type": "\"integer\""
        },
        {
         "metadata": "{}",
         "name": "actor_2_facebook_likes",
         "type": "\"integer\""
        },
        {
         "metadata": "{}",
         "name": "actor_3_facebook_likes",
         "type": "\"integer\""
        },
        {
         "metadata": "{}",
         "name": "IMDb_rating",
         "type": "\"double\""
        },
        {
         "metadata": "{}",
         "name": "genre_1",
         "type": "\"string\""
        },
        {
         "metadata": "{}",
         "name": "genre_2",
         "type": "\"string\""
        },
        {
         "metadata": "{}",
         "name": "genre_3",
         "type": "\"string\""
        },
        {
         "metadata": "{}",
         "name": "MetaCritic",
         "type": "\"integer\""
        },
        {
         "metadata": "{}",
         "name": "Runtime",
         "type": "\"integer\""
        },
        {
         "metadata": "{}",
         "name": "CVotes10",
         "type": "\"integer\""
        },
        {
         "metadata": "{}",
         "name": "CVotes09",
         "type": "\"integer\""
        },
        {
         "metadata": "{}",
         "name": "CVotes08",
         "type": "\"integer\""
        },
        {
         "metadata": "{}",
         "name": "CVotes07",
         "type": "\"integer\""
        },
        {
         "metadata": "{}",
         "name": "CVotes06",
         "type": "\"integer\""
        },
        {
         "metadata": "{}",
         "name": "CVotes05",
         "type": "\"integer\""
        },
        {
         "metadata": "{}",
         "name": "CVotes04",
         "type": "\"integer\""
        },
        {
         "metadata": "{}",
         "name": "CVotes03",
         "type": "\"integer\""
        },
        {
         "metadata": "{}",
         "name": "CVotes02",
         "type": "\"integer\""
        },
        {
         "metadata": "{}",
         "name": "CVotes01",
         "type": "\"integer\""
        },
        {
         "metadata": "{}",
         "name": "CVotesMale",
         "type": "\"integer\""
        },
        {
         "metadata": "{}",
         "name": "CVotesFemale",
         "type": "\"integer\""
        },
        {
         "metadata": "{}",
         "name": "CVotesU18",
         "type": "\"integer\""
        },
        {
         "metadata": "{}",
         "name": "CVotesU18M",
         "type": "\"integer\""
        },
        {
         "metadata": "{}",
         "name": "CVotesU18F",
         "type": "\"integer\""
        },
        {
         "metadata": "{}",
         "name": "CVotes1829",
         "type": "\"integer\""
        },
        {
         "metadata": "{}",
         "name": "CVotes1829M",
         "type": "\"integer\""
        },
        {
         "metadata": "{}",
         "name": "CVotes1829F",
         "type": "\"integer\""
        },
        {
         "metadata": "{}",
         "name": "CVotes3044",
         "type": "\"integer\""
        },
        {
         "metadata": "{}",
         "name": "CVotes3044M",
         "type": "\"integer\""
        },
        {
         "metadata": "{}",
         "name": "CVotes3044F",
         "type": "\"integer\""
        },
        {
         "metadata": "{}",
         "name": "CVotes45A",
         "type": "\"integer\""
        },
        {
         "metadata": "{}",
         "name": "CVotes45AM",
         "type": "\"integer\""
        },
        {
         "metadata": "{}",
         "name": "CVotes45AF",
         "type": "\"integer\""
        },
        {
         "metadata": "{}",
         "name": "CVotes1000",
         "type": "\"integer\""
        },
        {
         "metadata": "{}",
         "name": "CVotesUS",
         "type": "\"integer\""
        },
        {
         "metadata": "{}",
         "name": "CVotesnUS",
         "type": "\"integer\""
        },
        {
         "metadata": "{}",
         "name": "VotesM",
         "type": "\"double\""
        },
        {
         "metadata": "{}",
         "name": "VotesF",
         "type": "\"double\""
        },
        {
         "metadata": "{}",
         "name": "VotesU18",
         "type": "\"double\""
        },
        {
         "metadata": "{}",
         "name": "VotesU18M",
         "type": "\"double\""
        },
        {
         "metadata": "{}",
         "name": "VotesU18F",
         "type": "\"double\""
        },
        {
         "metadata": "{}",
         "name": "Votes1829",
         "type": "\"double\""
        },
        {
         "metadata": "{}",
         "name": "Votes1829M",
         "type": "\"double\""
        },
        {
         "metadata": "{}",
         "name": "Votes1829F",
         "type": "\"double\""
        },
        {
         "metadata": "{}",
         "name": "Votes3044",
         "type": "\"double\""
        },
        {
         "metadata": "{}",
         "name": "Votes3044M",
         "type": "\"double\""
        },
        {
         "metadata": "{}",
         "name": "Votes3044F",
         "type": "\"double\""
        },
        {
         "metadata": "{}",
         "name": "Votes45A",
         "type": "\"double\""
        },
        {
         "metadata": "{}",
         "name": "Votes45AM",
         "type": "\"double\""
        },
        {
         "metadata": "{}",
         "name": "Votes45AF",
         "type": "\"double\""
        },
        {
         "metadata": "{}",
         "name": "Votes1000",
         "type": "\"double\""
        },
        {
         "metadata": "{}",
         "name": "VotesUS",
         "type": "\"double\""
        },
        {
         "metadata": "{}",
         "name": "VotesnUS",
         "type": "\"double\""
        },
        {
         "metadata": "{}",
         "name": "content_rating",
         "type": "\"string\""
        },
        {
         "metadata": "{}",
         "name": "Country",
         "type": "\"string\""
        },
        {
         "metadata": "{}",
         "name": "profit",
         "type": "\"double\""
        }
       ],
       "type": "table"
      }
     },
     "output_type": "display_data"
    }
   ],
   "source": [
    "# Get the top 10 profitable movies by using position based indexing. Specify the rows till 10 (0-9)\n",
    "\n",
    "#TODO\n",
    "top_10_profitable = movies.orderBy(col(\"profit\").desc()).limit(10)\n",
    "display(top_10_profitable)\n",
    "\n",
    "\n"
   ]
  },
  {
   "cell_type": "code",
   "execution_count": 0,
   "metadata": {
    "application/vnd.databricks.v1+cell": {
     "cellMetadata": {
      "byteLimit": 2048000,
      "rowLimit": 10000
     },
     "inputWidgets": {},
     "nuid": "0c4f81b8-ead6-4959-ae72-abdfd007368e",
     "showTitle": false,
     "tableResultSettingsMap": {},
     "title": ""
    }
   },
   "outputs": [
    {
     "output_type": "display_data",
     "data": {
      "image/png": "[encoded data removed]"
     },
     "metadata": {
      "application/vnd.databricks.v1+output": {
       "addedWidgets": {},
       "arguments": {},
       "data": "data:image/png;base64,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\n",
       "datasetInfos": [],
       "metadata": {},
       "removedWidgets": [],
       "type": "image"
      }
     },
     "output_type": "display_data"
    }
   ],
   "source": [
    "#Plot profit vs budget using scatterplot\n",
    "\n",
    "# Convert to Pandas\n",
    "movies_pd = movies.select(\"budget\", \"profit\").dropna().toPandas()\n",
    "\n",
    "# Plot using matplotlib\n",
    "import matplotlib.pyplot as plt\n",
    "\n",
    "plt.figure(figsize=(10, 6))\n",
    "plt.scatter(movies_pd[\"budget\"], movies_pd[\"profit\"], alpha=0.6, color='skyblue')\n",
    "plt.xlabel(\"Budget (in million $)\")\n",
    "plt.ylabel(\"Profit (in million $)\")\n",
    "plt.title(\"Profit vs Budget\")\n",
    "plt.grid(True)\n",
    "plt.show()\n",
    "\n"
   ]
  },
  {
   "cell_type": "markdown",
   "metadata": {
    "application/vnd.databricks.v1+cell": {
     "cellMetadata": {
      "byteLimit": 2048000,
      "rowLimit": 10000
     },
     "inputWidgets": {},
     "nuid": "bdb5bfbc-1370-4bcd-9e22-e67b0843dff4",
     "showTitle": false,
     "tableResultSettingsMap": {},
     "title": ""
    }
   },
   "source": [
    "The dataset contains the 100 best performing movies from the year 2010 to 2016. However scatter plot tells a different story. You can notice that there are some movies with negative profit. Although good movies do incur losses, but there appear to be quite a few movie with losses. What can be the reason behind this? Lets have a closer look at this by finding the movies with negative profit."
   ]
  },
  {
   "cell_type": "code",
   "execution_count": 0,
   "metadata": {
    "application/vnd.databricks.v1+cell": {
     "cellMetadata": {
      "byteLimit": 2048000,
      "rowLimit": 10000
     },
     "inputWidgets": {},
     "nuid": "e62de634-6276-4cb3-9c07-4a8707b2e14d",
     "showTitle": false,
     "tableResultSettingsMap": {},
     "title": ""
    }
   },
   "outputs": [
    {
     "output_type": "stream",
     "name": "stdout",
     "output_type": "stream",
     "text": [
      "+---------------------------+------+----------+-------------------+\n|Title                      |budget|Gross     |profit             |\n+---------------------------+------+----------+-------------------+\n|Tucker and Dale vs Evil    |5.0   |0.223838  |-4.776162          |\n|Amour                      |8.9   |0.225377  |-8.674623          |\n|Rush                       |38.0  |26.903709 |-11.096291         |\n|Warrior                    |25.0  |13.651662 |-11.348338         |\n|Flipped                    |14.0  |1.752214  |-12.247786         |\n|X-Men: First Class         |160.0 |146.405371|-13.594628999999998|\n|Scott Pilgrim vs. the World|60.0  |31.49427  |-28.50573          |\n|Tangled                    |260.0 |200.807262|-59.19273799999999 |\n|Edge of Tomorrow           |178.0 |100.189501|-77.810499         |\n|The Little Prince          |81.2  |1.339152  |-79.860848         |\n|Hugo                       |170.0 |73.820094 |-96.179906         |\n+---------------------------+------+----------+-------------------+\n\n"
     ]
    }
   ],
   "source": [
    "#Find the movies with negative profit\n",
    "\n",
    "negative_profit_movies = movies.filter(col(\"profit\") < 0)\n",
    "negative_profit_movies.select(\"Title\", \"budget\", \"Gross\", \"profit\").show(truncate=False)\n",
    "\n"
   ]
  },
  {
   "cell_type": "markdown",
   "metadata": {
    "application/vnd.databricks.v1+cell": {
     "cellMetadata": {
      "byteLimit": 2048000,
      "rowLimit": 10000
     },
     "inputWidgets": {},
     "nuid": "95302c99-8846-4033-968b-f274946f7210",
     "showTitle": false,
     "tableResultSettingsMap": {},
     "title": ""
    }
   },
   "source": [
    "**`Checkpoint 1:`** Can you spot the movie `Tangled` in the dataset? You may be aware of the movie 'Tangled'. Although its one of the highest grossing movies of all time, it has negative profit as per this result. If you cross check the gross values of this movie (link: https://www.imdb.com/title/tt0398286/), you can see that the gross in the dataset accounts only for the domestic gross and not the worldwide gross. This is true for may other movies also in the list."
   ]
  },
  {
   "cell_type": "markdown",
   "metadata": {
    "application/vnd.databricks.v1+cell": {
     "cellMetadata": {
      "byteLimit": 2048000,
      "rowLimit": 10000
     },
     "inputWidgets": {},
     "nuid": "1dcadab9-217d-4dab-856b-f56e8154da36",
     "showTitle": false,
     "tableResultSettingsMap": {},
     "title": ""
    }
   },
   "source": [
    "- ### Subtask 2.3: The General Audience and the Critics\n",
    "\n",
    "You might have noticed the column `MetaCritic` in this dataset. This is a very popular website where an average score is determined through the scores given by the top-rated critics. Second, you also have another column `IMDb_rating` which tells you the IMDb rating of a movie. This rating is determined by taking the average of hundred-thousands of ratings from the general audience. \n",
    "\n",
    "As a part of this subtask, you are required to find out the highest rated movies which have been liked by critics and audiences alike.\n",
    "1. Firstly you will notice that the `MetaCritic` score is on a scale of `100` whereas the `IMDb_rating` is on a scale of 10. First convert the `MetaCritic` column to a scale of 10.\n",
    "2. Now, to find out the movies which have been liked by both critics and audiences alike and also have a high rating overall, you need to -\n",
    "    - Create a new column `Avg_rating` which will have the average of the `MetaCritic` and `Rating` columns\n",
    "    - Retain only the movies in which the absolute difference(using abs() function) between the `IMDb_rating` and `Metacritic` columns is less than 0.5. Refer to this link to know how abs() funtion works - https://www.geeksforgeeks.org/abs-in-python/ .\n",
    "    - Sort these values in a descending order of `Avg_rating` and retain only the movies with a rating equal to higher than `8` and store these movies in a new dataframe `UniversalAcclaim`.\n",
    "    "
   ]
  },
  {
   "cell_type": "code",
   "execution_count": 0,
   "metadata": {
    "application/vnd.databricks.v1+cell": {
     "cellMetadata": {
      "byteLimit": 2048000,
      "rowLimit": 10000
     },
     "inputWidgets": {},
     "nuid": "66eeafbf-5396-407b-834e-bce83a76398f",
     "showTitle": false,
     "tableResultSettingsMap": {},
     "title": ""
    }
   },
   "outputs": [],
   "source": [
    "# Change the scale of MetaCritic column from 100 to 10\n",
    "\n",
    "from pyspark.sql.functions import col\n",
    "\n",
    "movies = movies.withColumn(\"MetaCritic\", col(\"MetaCritic\").cast(\"double\") / 10)\n",
    "\n",
    "\n"
   ]
  },
  {
   "cell_type": "code",
   "execution_count": 0,
   "metadata": {
    "application/vnd.databricks.v1+cell": {
     "cellMetadata": {
      "byteLimit": 2048000,
      "rowLimit": 10000
     },
     "inputWidgets": {},
     "nuid": "e57ba7b5-464f-4b09-8d03-8ea7a7d7e452",
     "showTitle": false,
     "tableResultSettingsMap": {},
     "title": ""
    }
   },
   "outputs": [
    {
     "output_type": "display_data",
     "data": {
      "text/html": [
       "<style scoped>\n",
       "  .table-result-container {\n",
       "    max-height: 300px;\n",
       "    overflow: auto;\n",
       "  }\n",
       "  table, th, td {\n",
       "    border: 1px solid black;\n",
       "    border-collapse: collapse;\n",
       "  }\n",
       "  th, td {\n",
       "    padding: 5px;\n",
       "  }\n",
       "  th {\n",
       "    text-align: left;\n",
       "  }\n",
       "</style><div class='table-result-container'><table class='table-result'><thead style='background-color: white'><tr><th>Title</th><th>IMDb_rating</th><th>MetaCritic</th><th>avg_rating</th></tr></thead><tbody><tr><td>Star Wars: Episode VII - The Force Awakens</td><td>8.1</td><td>8.1</td><td>4.455</td></tr><tr><td>The Avengers</td><td>8.1</td><td>6.9</td><td>4.395</td></tr><tr><td>Deadpool</td><td>8.0</td><td>6.5</td><td>4.325</td></tr><tr><td>The Hunger Games: Catching Fire</td><td>7.6</td><td>7.6</td><td>4.18</td></tr><tr><td>Toy Story 3</td><td>8.3</td><td>9.2</td><td>4.61</td></tr><tr><td>The Dark Knight Rises</td><td>8.4</td><td>7.8</td><td>4.59</td></tr><tr><td>The Lego Movie</td><td>7.8</td><td>8.3</td><td>4.3149999999999995</td></tr><tr><td>Zootopia</td><td>8.1</td><td>7.8</td><td>4.4399999999999995</td></tr><tr><td>Despicable Me</td><td>7.7</td><td>7.2</td><td>4.21</td></tr><tr><td>Inside Out</td><td>8.2</td><td>9.4</td><td>4.569999999999999</td></tr><tr><td>Gravity</td><td>7.8</td><td>9.6</td><td>4.38</td></tr><tr><td>Guardians of the Galaxy</td><td>8.1</td><td>7.6</td><td>4.43</td></tr><tr><td>Captain America: Civil War</td><td>7.9</td><td>7.5</td><td>4.325</td></tr><tr><td>Harry Potter and the Deathly Hallows: Part I</td><td>7.7</td><td>6.5</td><td>4.175</td></tr><tr><td>The Help</td><td>8.1</td><td>6.2</td><td>4.359999999999999</td></tr><tr><td>True Grit</td><td>7.6</td><td>8.0</td><td>4.2</td></tr><tr><td>Straight Outta Compton</td><td>7.9</td><td>7.2</td><td>4.3100000000000005</td></tr><tr><td>Inception</td><td>8.8</td><td>7.4</td><td>4.7700000000000005</td></tr><tr><td>The King's Speech</td><td>8.0</td><td>8.8</td><td>4.44</td></tr><tr><td>The Hobbit: An Unexpected Journey</td><td>7.9</td><td>null</td><td>null</td></tr><tr><td>La La Land</td><td>8.2</td><td>9.3</td><td>4.5649999999999995</td></tr><tr><td>The Martian</td><td>8.0</td><td>8.0</td><td>4.4</td></tr><tr><td>The Fault in Our Stars</td><td>7.8</td><td>6.9</td><td>4.245</td></tr><tr><td>Silver Linings Playbook</td><td>7.8</td><td>8.1</td><td>4.305</td></tr><tr><td>Gone Girl</td><td>8.1</td><td>7.9</td><td>4.445</td></tr><tr><td>Skyfall</td><td>7.8</td><td>8.1</td><td>4.305</td></tr><tr><td>Black Swan</td><td>8.0</td><td>7.9</td><td>4.395</td></tr><tr><td>Argo</td><td>7.7</td><td>8.6</td><td>4.28</td></tr><tr><td>Captain America: The Winter Soldier</td><td>7.8</td><td>7.0</td><td>4.25</td></tr><tr><td>Les MisÃ©rables</td><td>7.6</td><td>6.3</td><td>4.115</td></tr><tr><td>Lone Survivor</td><td>7.5</td><td>null</td><td>null</td></tr><tr><td>Rise of the Planet of the Apes</td><td>7.6</td><td>6.8</td><td>4.14</td></tr><tr><td>The Imitation Game</td><td>8.1</td><td>7.3</td><td>4.415</td></tr><tr><td>Creed</td><td>7.6</td><td>8.2</td><td>4.21</td></tr><tr><td>The Fighter</td><td>7.8</td><td>7.9</td><td>4.295</td></tr><tr><td>Doctor Strange</td><td>7.6</td><td>7.2</td><td>4.16</td></tr><tr><td>Django Unchained</td><td>8.4</td><td>8.1</td><td>4.605</td></tr><tr><td>Big Hero 6</td><td>7.8</td><td>7.4</td><td>4.27</td></tr><tr><td>The Social Network</td><td>7.7</td><td>9.5</td><td>4.325</td></tr><tr><td>The Town</td><td>7.6</td><td>7.4</td><td>4.17</td></tr><tr><td>Arrival</td><td>8.0</td><td>8.1</td><td>4.405</td></tr><tr><td>How to Train Your Dragon</td><td>8.1</td><td>7.4</td><td>4.42</td></tr><tr><td>Captain Phillips</td><td>7.8</td><td>8.3</td><td>4.3149999999999995</td></tr><tr><td>The Revenant</td><td>8.0</td><td>7.6</td><td>4.38</td></tr><tr><td>Shutter Island</td><td>8.1</td><td>6.3</td><td>4.365</td></tr><tr><td>The Big Short</td><td>7.8</td><td>8.1</td><td>4.305</td></tr><tr><td>Midnight in Paris</td><td>7.7</td><td>8.1</td><td>4.255</td></tr><tr><td>Lion</td><td>8.1</td><td>6.9</td><td>4.395</td></tr><tr><td>Star Trek Into Darkness</td><td>7.8</td><td>7.2</td><td>4.26</td></tr><tr><td>Manchester by the Sea</td><td>7.9</td><td>9.6</td><td>4.43</td></tr><tr><td>Dawn of the Planet of the Apes</td><td>7.6</td><td>7.9</td><td>4.195</td></tr><tr><td>12 Years a Slave</td><td>8.1</td><td>9.6</td><td>4.529999999999999</td></tr><tr><td>The Grand Budapest Hotel</td><td>8.1</td><td>8.8</td><td>4.49</td></tr><tr><td>End of Watch</td><td>7.7</td><td>6.8</td><td>4.19</td></tr><tr><td>X-Men: Days of Future Past</td><td>8.0</td><td>7.4</td><td>4.37</td></tr><tr><td>The Hobbit: The Desolation of Smaug</td><td>7.9</td><td>6.6</td><td>4.28</td></tr><tr><td>Bridge of Spies</td><td>7.6</td><td>8.1</td><td>4.205</td></tr><tr><td>How to Train Your Dragon 2</td><td>7.9</td><td>7.6</td><td>4.33</td></tr><tr><td>The Artist</td><td>7.9</td><td>8.9</td><td>4.3950000000000005</td></tr><tr><td>Moonrise Kingdom</td><td>7.8</td><td>8.4</td><td>4.32</td></tr><tr><td>50/50</td><td>7.7</td><td>7.2</td><td>4.21</td></tr><tr><td>Philomena</td><td>7.6</td><td>7.7</td><td>4.185</td></tr><tr><td>Moneyball</td><td>7.6</td><td>8.7</td><td>4.234999999999999</td></tr><tr><td>Spotlight</td><td>8.1</td><td>9.3</td><td>4.515</td></tr><tr><td>Wreck-It Ralph</td><td>7.7</td><td>7.2</td><td>4.21</td></tr><tr><td>Birdman or (The Unexpected Virtue of Ignorance)</td><td>7.8</td><td>8.8</td><td>4.34</td></tr><tr><td>Nightcrawler</td><td>7.9</td><td>7.6</td><td>4.33</td></tr><tr><td>Interstellar</td><td>8.6</td><td>7.4</td><td>4.67</td></tr><tr><td>Dallas Buyers Club</td><td>8.0</td><td>8.4</td><td>4.42</td></tr><tr><td>Boyhood</td><td>7.9</td><td>10.0</td><td>4.45</td></tr><tr><td>The Theory of Everything</td><td>7.7</td><td>7.2</td><td>4.21</td></tr><tr><td>Drive</td><td>7.8</td><td>7.8</td><td>4.29</td></tr><tr><td>Kick-Ass</td><td>7.7</td><td>6.6</td><td>4.18</td></tr><tr><td>Fury</td><td>7.6</td><td>6.4</td><td>4.12</td></tr><tr><td>Sicario</td><td>7.6</td><td>8.2</td><td>4.21</td></tr><tr><td>The Wolf of Wall Street</td><td>8.2</td><td>7.5</td><td>4.475</td></tr><tr><td>Hell or High Water</td><td>7.7</td><td>8.8</td><td>4.29</td></tr><tr><td>Prisoners</td><td>8.1</td><td>7.4</td><td>4.42</td></tr><tr><td>The Girl with the Dragon Tattoo</td><td>7.8</td><td>7.1</td><td>4.255</td></tr><tr><td>Ex Machina</td><td>7.7</td><td>7.8</td><td>4.24</td></tr><tr><td>Whiplash</td><td>8.5</td><td>8.8</td><td>4.69</td></tr><tr><td>Nebraska</td><td>7.7</td><td>8.6</td><td>4.28</td></tr><tr><td>Before Midnight</td><td>7.9</td><td>9.4</td><td>4.42</td></tr><tr><td>The Perks of Being a Wallflower</td><td>8.0</td><td>6.7</td><td>4.335</td></tr><tr><td>Mad Max: Fury Road</td><td>8.1</td><td>9.0</td><td>4.5</td></tr><tr><td>About Time</td><td>7.8</td><td>null</td><td>null</td></tr><tr><td>Her</td><td>8.0</td><td>9.0</td><td>4.45</td></tr><tr><td>The Book Thief</td><td>7.6</td><td>null</td><td>null</td></tr><tr><td>127 Hours</td><td>7.6</td><td>8.2</td><td>4.21</td></tr><tr><td>Tucker and Dale vs Evil</td><td>7.6</td><td>6.5</td><td>4.125</td></tr><tr><td>Amour</td><td>7.9</td><td>9.4</td><td>4.42</td></tr><tr><td>Rush</td><td>8.1</td><td>7.5</td><td>4.425</td></tr><tr><td>Warrior</td><td>8.2</td><td>7.1</td><td>4.455</td></tr><tr><td>Flipped</td><td>7.7</td><td>null</td><td>null</td></tr><tr><td>X-Men: First Class</td><td>7.8</td><td>6.5</td><td>4.225</td></tr><tr><td>Scott Pilgrim vs. the World</td><td>7.5</td><td>6.9</td><td>4.095</td></tr><tr><td>Tangled</td><td>7.8</td><td>7.1</td><td>4.255</td></tr><tr><td>Edge of Tomorrow</td><td>7.9</td><td>7.1</td><td>4.305</td></tr><tr><td>The Little Prince</td><td>7.8</td><td>7.0</td><td>4.25</td></tr><tr><td>Hugo</td><td>7.5</td><td>8.3</td><td>4.165</td></tr></tbody></table></div>"
      ]
     },
     "metadata": {
      "application/vnd.databricks.v1+output": {
       "addedWidgets": {},
       "aggData": [],
       "aggError": "",
       "aggOverflow": false,
       "aggSchema": [],
       "aggSeriesLimitReached": false,
       "aggType": "",
       "arguments": {},
       "columnCustomDisplayInfos": {},
       "data": [
        [
         "Star Wars: Episode VII - The Force Awakens",
         8.1,
         8.1,
         4.455
        ],
        [
         "The Avengers",
         8.1,
         6.9,
         4.395
        ],
        [
         "Deadpool",
         8.0,
         6.5,
         4.325
        ],
        [
         "The Hunger Games: Catching Fire",
         7.6,
         7.6,
         4.18
        ],
        [
         "Toy Story 3",
         8.3,
         9.2,
         4.61
        ],
        [
         "The Dark Knight Rises",
         8.4,
         7.8,
         4.59
        ],
        [
         "The Lego Movie",
         7.8,
         8.3,
         4.3149999999999995
        ],
        [
         "Zootopia",
         8.1,
         7.8,
         4.4399999999999995
        ],
        [
         "Despicable Me",
         7.7,
         7.2,
         4.21
        ],
        [
         "Inside Out",
         8.2,
         9.4,
         4.569999999999999
        ],
        [
         "Gravity",
         7.8,
         9.6,
         4.38
        ],
        [
         "Guardians of the Galaxy",
         8.1,
         7.6,
         4.43
        ],
        [
         "Captain America: Civil War",
         7.9,
         7.5,
         4.325
        ],
        [
         "Harry Potter and the Deathly Hallows: Part I",
         7.7,
         6.5,
         4.175
        ],
        [
         "The Help",
         8.1,
         6.2,
         4.359999999999999
        ],
        [
         "True Grit",
         7.6,
         8.0,
         4.2
        ],
        [
         "Straight Outta Compton",
         7.9,
         7.2,
         4.3100000000000005
        ],
        [
         "Inception",
         8.8,
         7.4,
         4.7700000000000005
        ],
        [
         "The King's Speech",
         8.0,
         8.8,
         4.44
        ],
        [
         "The Hobbit: An Unexpected Journey",
         7.9,
         null,
         null
        ],
        [
         "La La Land",
         8.2,
         9.3,
         4.5649999999999995
        ],
        [
         "The Martian",
         8.0,
         8.0,
         4.4
        ],
        [
         "The Fault in Our Stars",
         7.8,
         6.9,
         4.245
        ],
        [
         "Silver Linings Playbook",
         7.8,
         8.1,
         4.305
        ],
        [
         "Gone Girl",
         8.1,
         7.9,
         4.445
        ],
        [
         "Skyfall",
         7.8,
         8.1,
         4.305
        ],
        [
         "Black Swan",
         8.0,
         7.9,
         4.395
        ],
        [
         "Argo",
         7.7,
         8.6,
         4.28
        ],
        [
         "Captain America: The Winter Soldier",
         7.8,
         7.0,
         4.25
        ],
        [
         "Les MisÃ©rables",
         7.6,
         6.3,
         4.115
        ],
        [
         "Lone Survivor",
         7.5,
         null,
         null
        ],
        [
         "Rise of the Planet of the Apes",
         7.6,
         6.8,
         4.14
        ],
        [
         "The Imitation Game",
         8.1,
         7.3,
         4.415
        ],
        [
         "Creed",
         7.6,
         8.2,
         4.21
        ],
        [
         "The Fighter",
         7.8,
         7.9,
         4.295
        ],
        [
         "Doctor Strange",
         7.6,
         7.2,
         4.16
        ],
        [
         "Django Unchained",
         8.4,
         8.1,
         4.605
        ],
        [
         "Big Hero 6",
         7.8,
         7.4,
         4.27
        ],
        [
         "The Social Network",
         7.7,
         9.5,
         4.325
        ],
        [
         "The Town",
         7.6,
         7.4,
         4.17
        ],
        [
         "Arrival",
         8.0,
         8.1,
         4.405
        ],
        [
         "How to Train Your Dragon",
         8.1,
         7.4,
         4.42
        ],
        [
         "Captain Phillips",
         7.8,
         8.3,
         4.3149999999999995
        ],
        [
         "The Revenant",
         8.0,
         7.6,
         4.38
        ],
        [
         "Shutter Island",
         8.1,
         6.3,
         4.365
        ],
        [
         "The Big Short",
         7.8,
         8.1,
         4.305
        ],
        [
         "Midnight in Paris",
         7.7,
         8.1,
         4.255
        ],
        [
         "Lion",
         8.1,
         6.9,
         4.395
        ],
        [
         "Star Trek Into Darkness",
         7.8,
         7.2,
         4.26
        ],
        [
         "Manchester by the Sea",
         7.9,
         9.6,
         4.43
        ],
        [
         "Dawn of the Planet of the Apes",
         7.6,
         7.9,
         4.195
        ],
        [
         "12 Years a Slave",
         8.1,
         9.6,
         4.529999999999999
        ],
        [
         "The Grand Budapest Hotel",
         8.1,
         8.8,
         4.49
        ],
        [
         "End of Watch",
         7.7,
         6.8,
         4.19
        ],
        [
         "X-Men: Days of Future Past",
         8.0,
         7.4,
         4.37
        ],
        [
         "The Hobbit: The Desolation of Smaug",
         7.9,
         6.6,
         4.28
        ],
        [
         "Bridge of Spies",
         7.6,
         8.1,
         4.205
        ],
        [
         "How to Train Your Dragon 2",
         7.9,
         7.6,
         4.33
        ],
        [
         "The Artist",
         7.9,
         8.9,
         4.3950000000000005
        ],
        [
         "Moonrise Kingdom",
         7.8,
         8.4,
         4.32
        ],
        [
         "50/50",
         7.7,
         7.2,
         4.21
        ],
        [
         "Philomena",
         7.6,
         7.7,
         4.185
        ],
        [
         "Moneyball",
         7.6,
         8.7,
         4.234999999999999
        ],
        [
         "Spotlight",
         8.1,
         9.3,
         4.515
        ],
        [
         "Wreck-It Ralph",
         7.7,
         7.2,
         4.21
        ],
        [
         "Birdman or (The Unexpected Virtue of Ignorance)",
         7.8,
         8.8,
         4.34
        ],
        [
         "Nightcrawler",
         7.9,
         7.6,
         4.33
        ],
        [
         "Interstellar",
         8.6,
         7.4,
         4.67
        ],
        [
         "Dallas Buyers Club",
         8.0,
         8.4,
         4.42
        ],
        [
         "Boyhood",
         7.9,
         10.0,
         4.45
        ],
        [
         "The Theory of Everything",
         7.7,
         7.2,
         4.21
        ],
        [
         "Drive",
         7.8,
         7.8,
         4.29
        ],
        [
         "Kick-Ass",
         7.7,
         6.6,
         4.18
        ],
        [
         "Fury",
         7.6,
         6.4,
         4.12
        ],
        [
         "Sicario",
         7.6,
         8.2,
         4.21
        ],
        [
         "The Wolf of Wall Street",
         8.2,
         7.5,
         4.475
        ],
        [
         "Hell or High Water",
         7.7,
         8.8,
         4.29
        ],
        [
         "Prisoners",
         8.1,
         7.4,
         4.42
        ],
        [
         "The Girl with the Dragon Tattoo",
         7.8,
         7.1,
         4.255
        ],
        [
         "Ex Machina",
         7.7,
         7.8,
         4.24
        ],
        [
         "Whiplash",
         8.5,
         8.8,
         4.69
        ],
        [
         "Nebraska",
         7.7,
         8.6,
         4.28
        ],
        [
         "Before Midnight",
         7.9,
         9.4,
         4.42
        ],
        [
         "The Perks of Being a Wallflower",
         8.0,
         6.7,
         4.335
        ],
        [
         "Mad Max: Fury Road",
         8.1,
         9.0,
         4.5
        ],
        [
         "About Time",
         7.8,
         null,
         null
        ],
        [
         "Her",
         8.0,
         9.0,
         4.45
        ],
        [
         "The Book Thief",
         7.6,
         null,
         null
        ],
        [
         "127 Hours",
         7.6,
         8.2,
         4.21
        ],
        [
         "Tucker and Dale vs Evil",
         7.6,
         6.5,
         4.125
        ],
        [
         "Amour",
         7.9,
         9.4,
         4.42
        ],
        [
         "Rush",
         8.1,
         7.5,
         4.425
        ],
        [
         "Warrior",
         8.2,
         7.1,
         4.455
        ],
        [
         "Flipped",
         7.7,
         null,
         null
        ],
        [
         "X-Men: First Class",
         7.8,
         6.5,
         4.225
        ],
        [
         "Scott Pilgrim vs. the World",
         7.5,
         6.9,
         4.095
        ],
        [
         "Tangled",
         7.8,
         7.1,
         4.255
        ],
        [
         "Edge of Tomorrow",
         7.9,
         7.1,
         4.305
        ],
        [
         "The Little Prince",
         7.8,
         7.0,
         4.25
        ],
        [
         "Hugo",
         7.5,
         8.3,
         4.165
        ]
       ],
       "datasetInfos": [],
       "dbfsResultPath": null,
       "isJsonSchema": true,
       "metadata": {},
       "overflow": false,
       "plotOptions": {
        "customPlotOptions": {},
        "displayType": "table",
        "pivotAggregation": null,
        "pivotColumns": null,
        "xColumns": null,
        "yColumns": null
       },
       "removedWidgets": [],
       "schema": [
        {
         "metadata": "{}",
         "name": "Title",
         "type": "\"string\""
        },
        {
         "metadata": "{}",
         "name": "IMDb_rating",
         "type": "\"double\""
        },
        {
         "metadata": "{}",
         "name": "MetaCritic",
         "type": "\"double\""
        },
        {
         "metadata": "{}",
         "name": "avg_rating",
         "type": "\"double\""
        }
       ],
       "type": "table"
      }
     },
     "output_type": "display_data"
    }
   ],
   "source": [
    "# Find the average ratings including MetaCritic and IMDb_rating\n",
    "# Find the average ratings including MetaCritic and IMDb_rating\n",
    "\n",
    "from pyspark.sql.functions import col, expr\n",
    "\n",
    "movies_with_avg = movies.withColumn(\n",
    "    \"Avg_rating\",\n",
    "    expr(\"(IMDb_rating + (MetaCritic / 10)) / 2\")\n",
    ")\n",
    "\n",
    "display(movies_with_avg.select(\"Title\", \"IMDb_rating\", \"MetaCritic\", \"avg_rating\"))\n",
    "\n"
   ]
  },
  {
   "cell_type": "code",
   "execution_count": 0,
   "metadata": {
    "application/vnd.databricks.v1+cell": {
     "cellMetadata": {
      "byteLimit": 2048000,
      "rowLimit": 10000
     },
     "inputWidgets": {},
     "nuid": "07116855-a1a8-42ed-b8cd-13842acf1c4c",
     "showTitle": false,
     "tableResultSettingsMap": {},
     "title": ""
    }
   },
   "outputs": [
    {
     "output_type": "stream",
     "name": "stdout",
     "output_type": "stream",
     "text": [
      "+------------------------------------------+-----------+------------------+------------------+\n|Title                                     |IMDb_rating|MetaCritic        |Avg_rating        |\n+------------------------------------------+-----------+------------------+------------------+\n|Inception                                 |8.8        |0.74              |4.7700000000000005|\n|Whiplash                                  |8.5        |0.8800000000000001|4.69              |\n|Interstellar                              |8.6        |0.74              |4.67              |\n|Toy Story 3                               |8.3        |0.9199999999999999|4.61              |\n|Django Unchained                          |8.4        |0.8099999999999999|4.605             |\n|The Dark Knight Rises                     |8.4        |0.78              |4.59              |\n|Inside Out                                |8.2        |0.9400000000000001|4.569999999999999 |\n|La La Land                                |8.2        |0.93              |4.5649999999999995|\n|12 Years a Slave                          |8.1        |0.96              |4.529999999999999 |\n|Spotlight                                 |8.1        |0.93              |4.515             |\n|Mad Max: Fury Road                        |8.1        |0.9               |4.5               |\n|The Grand Budapest Hotel                  |8.1        |0.8800000000000001|4.49              |\n|The Wolf of Wall Street                   |8.2        |0.75              |4.475             |\n|Warrior                                   |8.2        |0.71              |4.455             |\n|Star Wars: Episode VII - The Force Awakens|8.1        |0.8099999999999999|4.455             |\n|Her                                       |8.0        |0.9               |4.45              |\n|Boyhood                                   |7.9        |1.0               |4.45              |\n|Gone Girl                                 |8.1        |0.79              |4.445             |\n|The King's Speech                         |8.0        |0.8800000000000001|4.44              |\n|Zootopia                                  |8.1        |0.78              |4.4399999999999995|\n+------------------------------------------+-----------+------------------+------------------+\nonly showing top 20 rows\n\n"
     ]
    }
   ],
   "source": [
    "#Sort in descending order of average rating\n",
    "\n",
    "from pyspark.sql.functions import col\n",
    "\n",
    "# Ensure MetaCritic is scaled to 10\n",
    "movies = movies.withColumn(\"MetaCritic\", col(\"MetaCritic\").cast(\"double\") / 10)\n",
    "\n",
    "# Create the Avg_rating column by averaging MetaCritic and IMDb_rating\n",
    "movies = movies.withColumn(\"Avg_rating\", (col(\"MetaCritic\") + col(\"IMDb_rating\")) / 2)\n",
    "\n",
    "# Sort the movies by Avg_rating in descending order\n",
    "movies_sorted_by_avg = movies.orderBy(col(\"Avg_rating\").desc())\n",
    "\n",
    "# Show the top results\n",
    "movies_sorted_by_avg.select(\"Title\", \"IMDb_rating\", \"MetaCritic\", \"Avg_rating\").show(truncate=False)\n"
   ]
  },
  {
   "cell_type": "code",
   "execution_count": 0,
   "metadata": {
    "application/vnd.databricks.v1+cell": {
     "cellMetadata": {
      "byteLimit": 2048000,
      "rowLimit": 10000
     },
     "inputWidgets": {},
     "nuid": "4f11c7c7-ee8c-4413-9561-e3b326517880",
     "showTitle": false,
     "tableResultSettingsMap": {},
     "title": ""
    }
   },
   "outputs": [
    {
     "output_type": "stream",
     "name": "stdout",
     "output_type": "stream",
     "text": [
      "+-----+----------+----------+\n|Title|MetaCritic|Avg_rating|\n+-----+----------+----------+\n+-----+----------+----------+\n\n"
     ]
    }
   ],
   "source": [
    "# Find the movies with metacritic-rating < 0.5 and also with the average rating of > 4\n",
    "\n",
    "# Filter movies with MetaCritic < 0.5 and Avg_rating > 4\n",
    "movies_filtered = movies.filter((col(\"MetaCritic\") < 0.5) & (col(\"Avg_rating\") > 4))\n",
    "\n",
    "# Show the results\n",
    "movies_filtered.select(\"Title\", \"MetaCritic\", \"Avg_rating\").show(truncate=False)\n",
    "\n",
    "\n"
   ]
  },
  {
   "cell_type": "markdown",
   "metadata": {
    "application/vnd.databricks.v1+cell": {
     "cellMetadata": {
      "byteLimit": 2048000,
      "rowLimit": 10000
     },
     "inputWidgets": {},
     "nuid": "1e7f26b9-334c-4c72-9406-42365ae14596",
     "showTitle": false,
     "tableResultSettingsMap": {},
     "title": ""
    }
   },
   "source": [
    "**`Checkpoint 2:`** Can you spot a `Star Wars` movie in your final dataset?"
   ]
  },
  {
   "cell_type": "markdown",
   "metadata": {
    "application/vnd.databricks.v1+cell": {
     "cellMetadata": {
      "byteLimit": 2048000,
      "rowLimit": 10000
     },
     "inputWidgets": {},
     "nuid": "1eed842e-d09f-4e0a-8c1c-f15d29b08f76",
     "showTitle": false,
     "tableResultSettingsMap": {},
     "title": ""
    }
   },
   "source": [
    "- ### Subtask 2.4: Find the Most Popular Trios - I\n",
    "\n",
    "You're a producer looking to make a blockbuster movie. There will primarily be three lead roles in your movie and you wish to cast the most popular actors for it. Now, since you don't want to take a risk, you will cast a trio which has already acted in together in a movie before. The metric that you've chosen to check the popularity is the Facebook likes of each of these actors.\n",
    "\n",
    "The dataframe has three columns to help you out for the same, viz. `actor_1_facebook_likes`, `actor_2_facebook_likes`, and `actor_3_facebook_likes`. Your objective is to find the trios which has the most number of Facebook likes combined. That is, the sum of `actor_1_facebook_likes`, `actor_2_facebook_likes` and `actor_3_facebook_likes` should be maximum.\n",
    "Find out the top 5 popular trios, and output their names in a list.\n"
   ]
  },
  {
   "cell_type": "code",
   "execution_count": 0,
   "metadata": {
    "application/vnd.databricks.v1+cell": {
     "cellMetadata": {
      "byteLimit": 2048000,
      "rowLimit": 10000
     },
     "inputWidgets": {},
     "nuid": "885c4051-5fdc-4106-90a3-03c848693bd6",
     "showTitle": false,
     "tableResultSettingsMap": {},
     "title": ""
    }
   },
   "outputs": [
    {
     "output_type": "stream",
     "name": "stdout",
     "output_type": "stream",
     "text": [
      "+----------------------+----------------------+\n|actor_2_facebook_likes|actor_3_facebook_likes|\n+----------------------+----------------------+\n|                 19000|                  null|\n|                  null|                 46000|\n|                  5300|                  null|\n+----------------------+----------------------+\n\n"
     ]
    }
   ],
   "source": [
    "#checking head to see if any actor_x_facebook_likes rows have NaN values\n",
    "#checking head to see if any actor_x_facebook_likes rows have NaN values\n",
    "from pyspark.sql.functions import isnan, isnull\n",
    "\n",
    "movies.select(\"actor_2_facebook_likes\", \"actor_3_facebook_likes\") \\\n",
    "    .filter(isnull(\"actor_2_facebook_likes\") | isnan(\"actor_2_facebook_likes\") |\n",
    "            isnull(\"actor_3_facebook_likes\") | isnan(\"actor_3_facebook_likes\")) \\\n",
    "    .show()"
   ]
  },
  {
   "cell_type": "code",
   "execution_count": 0,
   "metadata": {
    "application/vnd.databricks.v1+cell": {
     "cellMetadata": {
      "byteLimit": 2048000,
      "rowLimit": 10000
     },
     "inputWidgets": {},
     "nuid": "d6e72600-dbf7-4773-8924-582c5a7513ca",
     "showTitle": false,
     "tableResultSettingsMap": {},
     "title": ""
    }
   },
   "outputs": [],
   "source": [
    "# Write your code here\n",
    "#cleaning actor_x_facebook_likes rows coz they have NaN values\n",
    "\n",
    "movies = movies.fillna({\n",
    "    \"actor_1_facebook_likes\": 0,\n",
    "    \"actor_2_facebook_likes\": 0,\n",
    "    \"actor_3_facebook_likes\": 0\n",
    "})\n"
   ]
  },
  {
   "cell_type": "code",
   "execution_count": 0,
   "metadata": {
    "application/vnd.databricks.v1+cell": {
     "cellMetadata": {
      "byteLimit": 2048000,
      "rowLimit": 10000
     },
     "inputWidgets": {},
     "nuid": "67abdd1e-7176-4403-8d0e-c2b31e3bb8ed",
     "showTitle": false,
     "tableResultSettingsMap": {},
     "title": ""
    }
   },
   "outputs": [
    {
     "output_type": "stream",
     "name": "stdout",
     "output_type": "stream",
     "text": [
      "Out[20]: Row(Title='Star Wars: Episode VII - The Force Awakens', title_year=2015, budget=245.0, Gross=936.662225, actor_1_name='Doug Walker', actor_2_name='Rob Walker', actor_3_name='0', actor_1_facebook_likes=131, actor_2_facebook_likes=12, actor_3_facebook_likes=0, IMDb_rating=8.1, genre_1='Action', genre_2='Adventure', genre_3='Fantasy', MetaCritic=0.8099999999999999, Runtime=136, CVotes10=155391, CVotes09=161810, CVotes08=166378, CVotes07=99402, CVotes06=40734, CVotes05=18060, CVotes04=8751, CVotes03=5970, CVotes02=4489, CVotes01=15768, CVotesMale=425971, CVotesFemale=68664, CVotesU18=4722, CVotesU18M=3919, CVotesU18F=768, CVotes1829=220467, CVotes1829M=183671, CVotes1829F=34366, CVotes3044=187138, CVotes3044M=162918, CVotes3044F=21362, CVotes45A=42942, CVotes45AM=36441, CVotes45AF=5729, CVotes1000=712, CVotesUS=85141, CVotesnUS=250769, VotesM=8.0, VotesF=8.3, VotesU18=8.5, VotesU18M=8.5, VotesU18F=8.6, Votes1829=8.2, Votes1829M=8.2, Votes1829F=8.3, Votes3044=8.0, Votes3044M=7.9, Votes3044F=8.2, Votes45A=7.9, Votes45AM=7.8, Votes45AF=8.2, Votes1000=7.7, VotesUS=8.2, VotesnUS=7.9, content_rating='PG-13', Country='USA', profit=691.662225, Avg_rating=4.455)"
     ]
    }
   ],
   "source": [
    "movies.head()"
   ]
  },
  {
   "cell_type": "code",
   "execution_count": 0,
   "metadata": {
    "application/vnd.databricks.v1+cell": {
     "cellMetadata": {
      "byteLimit": 2048000,
      "rowLimit": 10000
     },
     "inputWidgets": {},
     "nuid": "297cd789-4960-4cf4-8100-f7bfd91e37eb",
     "showTitle": false,
     "tableResultSettingsMap": {},
     "title": ""
    }
   },
   "outputs": [],
   "source": [
    "#adding a new row here to sum all the facebook likes of the trio of every movie\n",
    "\n",
    "from pyspark.sql.functions import col\n",
    "\n",
    "movies = movies.withColumn(\n",
    "    \"Total_Facebook_Likes\",\n",
    "    (col(\"actor_1_facebook_likes\") + col(\"actor_2_facebook_likes\") + col(\"actor_3_facebook_likes\"))\n",
    ")\n"
   ]
  },
  {
   "cell_type": "code",
   "execution_count": 0,
   "metadata": {
    "application/vnd.databricks.v1+cell": {
     "cellMetadata": {
      "byteLimit": 2048000,
      "rowLimit": 10000
     },
     "inputWidgets": {},
     "nuid": "e1ea5fb0-a54d-4de1-859a-b0da712864c0",
     "showTitle": false,
     "tableResultSettingsMap": {},
     "title": ""
    }
   },
   "outputs": [
    {
     "output_type": "stream",
     "name": "stdout",
     "output_type": "stream",
     "text": [
      "+--------------------------+-----------------+------------------+--------------------+----------------------+----------------------+----------------------+--------------------+\n|Title                     |actor_1_name     |actor_2_name      |actor_3_name        |actor_1_facebook_likes|actor_2_facebook_likes|actor_3_facebook_likes|Total_Facebook_Likes|\n+--------------------------+-----------------+------------------+--------------------+----------------------+----------------------+----------------------+--------------------+\n|Lion                      |Dev Patel        |Nicole Kidman     |Rooney Mara         |33000                 |96000                 |9800                  |138800              |\n|Inception                 |Leonardo DiCaprio|Tom Hardy         |Joseph Gordon-Levitt|29000                 |27000                 |23000                 |79000               |\n|X-Men: Days of Future Past|Jennifer Lawrence|Peter Dinklage    |Hugh Jackman        |34000                 |22000                 |20000                 |76000               |\n|Manchester by the Sea     |Casey Affleck    |Michelle Williams |Kyle Chandler       |518                   |71000                 |3300                  |74818               |\n|The Dark Knight Rises     |Tom Hardy        |Christian Bale    |Joseph Gordon-Levitt|27000                 |23000                 |23000                 |73000               |\n+--------------------------+-----------------+------------------+--------------------+----------------------+----------------------+----------------------+--------------------+\n\n"
     ]
    }
   ],
   "source": [
    "#sorting by facebook_likes_combined and getting top 5 trio\n",
    "top5_trios = movies.orderBy(col(\"Total_Facebook_Likes\").desc()).select(\n",
    "    \"Title\",\n",
    "    \"actor_1_name\", \"actor_2_name\", \"actor_3_name\",\n",
    "    \"actor_1_facebook_likes\", \"actor_2_facebook_likes\", \"actor_3_facebook_likes\",\n",
    "    \"Total_Facebook_Likes\"\n",
    ").limit(5)\n",
    "\n",
    "top5_trios.show(truncate=False)\n"
   ]
  },
  {
   "cell_type": "markdown",
   "metadata": {
    "application/vnd.databricks.v1+cell": {
     "cellMetadata": {
      "byteLimit": 2048000,
      "rowLimit": 10000
     },
     "inputWidgets": {},
     "nuid": "5a2e581d-6ffe-4df4-87bc-e5ca6d1ee468",
     "showTitle": false,
     "tableResultSettingsMap": {},
     "title": ""
    }
   },
   "source": [
    "- ### Subtask 2.5: Find the Most Popular Trios - II\n",
    "\n",
    "In the previous subtask you found the popular trio based on the total number of facebook likes. Let's add a small condition to it and make sure that all three actors are popular. The condition is **none of the three actors' Facebook likes should be less than half of the other two**. For example, the following is a valid combo:\n",
    "- actor_1_facebook_likes: 70000\n",
    "- actor_2_facebook_likes: 40000\n",
    "- actor_3_facebook_likes: 50000\n",
    "\n",
    "But the below one is not:\n",
    "- actor_1_facebook_likes: 70000\n",
    "- actor_2_facebook_likes: 40000\n",
    "- actor_3_facebook_likes: 30000\n",
    "\n",
    "since in this case, `actor_3_facebook_likes` is 30000, which is less than half of `actor_1_facebook_likes`.\n",
    "\n",
    "Having this condition ensures that you aren't getting any unpopular actor in your trio (since the total likes calculated in the previous question doesn't tell anything about the individual popularities of each actor in the trio.).\n",
    "\n",
    "You can do a manual inspection of the top 5 popular trios you have found in the previous subtask and check how many of those trios satisfy this condition. Also, which is the most popular trio after applying the condition above?"
   ]
  },
  {
   "cell_type": "markdown",
   "metadata": {
    "application/vnd.databricks.v1+cell": {
     "cellMetadata": {
      "byteLimit": 2048000,
      "rowLimit": 10000
     },
     "inputWidgets": {},
     "nuid": "dffe1d5a-8e33-4fdf-904e-8890ff52c102",
     "showTitle": false,
     "tableResultSettingsMap": {},
     "title": ""
    }
   },
   "source": [
    "**Write your answers below.**\n",
    "\n",
    "- **`No. of trios that satisfy the above condition:`** **2**\n",
    "\n",
    "- **`Most popular trio after applying the condition:`** **Leonardo DiCaprio\tTom Hardy\tJoseph Gordon-Levitt**"
   ]
  },
  {
   "cell_type": "markdown",
   "metadata": {
    "application/vnd.databricks.v1+cell": {
     "cellMetadata": {
      "byteLimit": 2048000,
      "rowLimit": 10000
     },
     "inputWidgets": {},
     "nuid": "82518beb-8a5f-4e22-89a9-e15e6318a400",
     "showTitle": false,
     "tableResultSettingsMap": {},
     "title": ""
    }
   },
   "source": [
    "Even though you are finding this out by a natural inspection of the dataframe, can you also achieve this through some *if-else* statements to incorporate this. You can try this out on your own time after you are done with the assignment."
   ]
  },
  {
   "cell_type": "code",
   "execution_count": 0,
   "metadata": {
    "application/vnd.databricks.v1+cell": {
     "cellMetadata": {
      "byteLimit": 2048000,
      "rowLimit": 10000
     },
     "inputWidgets": {},
     "nuid": "368cb34a-ab2b-4647-b672-191953c0c2b3",
     "showTitle": false,
     "tableResultSettingsMap": {},
     "title": ""
    }
   },
   "outputs": [],
   "source": [
    "# No. of trios that satisfy the above condition. Display Most popular trio after applying the condition\n",
    "\n",
    "\n"
   ]
  },
  {
   "cell_type": "markdown",
   "metadata": {
    "application/vnd.databricks.v1+cell": {
     "cellMetadata": {
      "byteLimit": 2048000,
      "rowLimit": 10000
     },
     "inputWidgets": {},
     "nuid": "85fba268-b642-46da-aa4a-ec357cb34ad4",
     "showTitle": false,
     "tableResultSettingsMap": {},
     "title": ""
    }
   },
   "source": [
    "- ### Subtask 2.6: Runtime Analysis\n",
    "\n",
    "There is a column named `Runtime` in the dataframe which primarily shows the length of the movie. It might be intersting to see how this variable this distributed. Plot a `histogram` or `distplot` of seaborn to find the `Runtime` range most of the movies fall into."
   ]
  },
  {
   "cell_type": "code",
   "execution_count": 0,
   "metadata": {
    "application/vnd.databricks.v1+cell": {
     "cellMetadata": {
      "byteLimit": 2048000,
      "rowLimit": 10000
     },
     "inputWidgets": {},
     "nuid": "f100b38b-55d3-4f63-b546-36c5d228598f",
     "showTitle": false,
     "tableResultSettingsMap": {},
     "title": ""
    }
   },
   "outputs": [
    {
     "output_type": "display_data",
     "data": {
      "image/png": "[encoded data removed]"
     },
     "metadata": {
      "application/vnd.databricks.v1+output": {
       "addedWidgets": {},
       "arguments": {},
       "data": "data:image/png;base64,iVBORw0KGgoAAAANSUhEUgAAAl4AAAGDCAYAAAD6aR7qAAAAOXRFWHRTb2Z0d2FyZQBNYXRwbG90bGliIHZlcnNpb24zLjUuMSwgaHR0cHM6Ly9tYXRwbG90bGliLm9yZy/YYfK9AAAACXBIWXMAAAsTAAALEwEAmpwYAABAz0lEQVR4nO3deXxV1bn/8c+ThJCEMIoGwhRBRBEBTZyn4IhD1aqtc52qHa6dbm1/tbe3lNvbq7fDbW1ve21rrbO0DnXEAYeIEypREQQVUcYwz2EmeX5/rE2NMYGTkLP3ycn3/XqdF2fc6zln5yRf1l57LXN3RERERCT9cpIuQERERKSjUPASERERiYmCl4iIiEhMFLxEREREYqLgJSIiIhITBS8RERGRmCh4iXRQZjbQzGrNLDfpWgDM7Idmdksbbq/WzAZH128zs/9sw23fbGb/3lbba0G7XzOzpdF72yOB9tt0H4l0RKZ5vEQyh5nNBUqAOqAWeBK41t1r22jbX3b3Z3Z3W61ouwo4HNgGODAbuA/4tbtvacW27nL3lAOAmd0GLHT3H7Wkrei1lxM+t6Nb+tq2ZGadgHXA4e4+rYnHy4CPgbfd/aAG9/cGaoAady+Lp1oRaY56vEQyz+fcvRgYDRwEXJ9sOW3mWnfvCvQFvgtcAEw0M2vLRswsry23l0FKgALg3V08r8jMRjS4fREhkIlIBlDwEslQ7r4EeIoQwDCzSjNb2PA5ZjbXzE6Mrv/EzP5uZneY2Xoze9fMKqLH7gQGAo9Gh6m+b2ZlZuY7goqZVZnZf5rZK9FzHjWzPczsbjNbZ2ZvRL0qO9rez8wmmdkqM3vfzL6Y4vva4O5VwJnAEcDpDeq/K7peYGZ3mdlKM1sTtV1iZj8DjgH+N6rxf6Pnu5n9i5nNJvSm7bhvnwZN947qXW9mL5jZoOh5n/ocGnwWXzaz/YGbgSOi9tZEj3/q0KWZXW1mH0afxSNmVtrgMTezr5rZ7Oi9/L65sGlmnc3sN2ZWE11+E923L/B+9LQ1ZvbcTj7iO4HLGtz+EnBHo3b2j97jmujn5Mzo/sPMbEnDw89m9nkze6fxPopuHx79vKwxs2lmVtngscvN7KPo8/7YzC7eSc0iHYaCl0iGMrP+wKnAhy142ZnABKAH8AjwvwDufikwn6g3zd1/3szrLwAuBfoBQ4BXgb8CvYBZwLioti7AJOAeYK/odX8ws+GpFuru84GphCDV2GVAd2AAsAfwVWCTu/8b8CKh96zY3a9t8JqzgcOA5mq4GPgp0Bt4G7g7hRpnRW2/GrXXo/FzzOx44Abgi4TevHmEfdDQGcAhwMjoeac00+S/EQ7JjgZGAYcCP3L3D4ADouf0cPfjd1L2XcAFZpYb7Y9i4LUG9XYCHgWeJuy7bwB3m9kwd38N2AA03P5FhP3c+H33Ax4H/pPw83Ed8ICZ7Rn9fPwWODXq5TyS8JmLdHgKXiKZ5yEzWw8sAJYRhZ0UveTuE929jtDzMaqFbf/V3ee4+1rgCWCOuz/j7tsJY7J2jB06A5jr7n919+3u/hbwAPCFFrZXQ/ij3dg2QuDax93r3L3a3dftYls3uPsqd9/UzOOPu/vkaEzZvxF6sQa0sN6mXAzc6u5vRtu+Ptp2WYPn3Ojua6Kw+TxRL2Yz2/oPd1/m7suB8YQg3BILCb1jJxJ6u+5s9PjhhDB2o7tvdffngMeAC6PH791x3cy6AqdF9zV2CTAx+nmrd/dJhCB9WvR4PTDCzArdfbG77+oQqUiHoOAlknnOjnoJKoH9CD00qVrS4PpGoKCFY56WNri+qYnbxdH1QcBh0SGmNdEhuIuBPi1oC0LP2qom7r+TcJh1QnTI7edRT83OLEj18ehkhVVAafNPT1kpoZer4bZXEt7bDo33SzFN+9S2ouutqfEO4HJCgGocvEqBBe5e36idHfXeA5xjZp2Bc4A33X0enzUI+EKjn4Gjgb7uvgE4n9BbuNjMHjez/VrxPkSyjoKXSIZy9xeA24BfRndtAIp2PB6Nw9mzJZtss+JCiHnB3Xs0uBS7+9dS3UDU21ROOHT46ULdt7n7eHcfTjhMdQah9waafx+7en//7N0ys2JCT1sN4XOFBp8tnw6Qu9puDSGE7Nh2F0Jv3aJdvG6X2yKMy6tpxXYeIIyd+yjqZWvcxgAza/j7fyBRve4+kxDETqWZw4yRBcCdjX4Gurj7jdF2nnL3kwiHX98D/tyK9yGSdRS8RDLbb4CTzGwU8AGhB+v0qPfnR0DnFmxrKTC4jep6DNjXzC41s07R5ZBoMPpOmVmRmR0HPAy8Dkxs4jljzOzAKFyuIxx63NFD09r3cZqZHW1m+YSxXlPcfUF0SG8RcEk0LupKwvi2HZYC/aPXNeVe4AozGx31Ev0X8Jq7z21FjfcCP4rGSfUGfkwYs9UiUY/T8cCXm3j4NUKv2/ej/VYJfI5Pj0u7B/gWcCzhEHNT7gI+Z2anRJ9bgYUTQPpbOBHirCiEbiFMjVLfzHZEOhQFL5EMFoWCO4AfR+Ouvg7cQggKGwjjeVJ1A+GP+hozu24361oPnEwYVF9DOJT23+w8CP5vNHZtKSFQPgCMbXTIa4c+wP2E0DULeIFPDpndBJxnZqvN7LctKPsewni5VYSetksaPHY18D3CIcIDgFcaPPYcYQqHJWa2ovFGo3nR/j16P4sJoe2CFtTV0H8Sxkm9A0wH3ozuazF3n+ruc5q4fyshaJ0KrAD+AHzJ3d9r8LR7geOA59z9M+852s4C4Czgh8ByQg/Y9wh/V3KAfyX8bKyKtpVyb6hINtMEqiIiIiIxUY+XiIiISEwUvERERERiouAlIiIiEhMFLxEREZGYKHiJiIiIxKQlM1onpnfv3l5WVpZ0Ge3Khg0b6NKlS9JlyG7SfswO2o/ZQfsxO8SxH6urq1e4e5MTXLeL4FVWVsbUqVOTLqNdqaqqorKyMukyZDdpP2YH7cfsoP2YHeLYj2bW1DJbgA41ioiIiMRGwUtEREQkJgpeIiIiIjFR8BIRERGJiYKXiIiISEwUvERERERiouAlIiIiEhMFLxEREZGYKHiJiIiIxETBS0RERCQmCl4iIiIiMVHwEhEREYmJgpeIiIhITBS8RLJI2aD+mFlaL2WD+if9NkVE2q28pAsQkbYzb/4ifNq4tLZho8andfsiItlMPV4iIiIiMVHwEhEREYmJgpeIiIhITBS8RERERGKi4CUiIiISEwUvERERkZgoeImIiIjERMFLREREJCYKXiIiIiIxUfASERERiYmCl4iIiEhMFLxEREREYqLgJSIiIhKTtAUvM7vVzJaZ2YxG93/DzN4zs3fN7Ofpal9EREQk06Szx+s2YGzDO8xsDHAWMMrdDwB+mcb2RURERDJK2oKXu08GVjW6+2vAje6+JXrOsnS1LyIiIpJpzN3Tt3GzMuAxdx8R3X4beJjQE7YZuM7d32jmtdcA1wCUlJSUT5gwIW11ZqPa2lqKi4uTLkN2U0v3Y3V1NeXDS9NYEVTPrKG8vDytbWQbfR+zg/ZjdohjP44ZM6ba3Suaeizu4DUDeB74JnAI8DdgsO+iiIqKCp86dWra6sxGVVVVVFZWJl2G7KaW7kczw6eNS19BgI0aTzp/b2QjfR+zg/ZjdohjP5pZs8Er7rMaFwIPevA6UA/0jrkGERERkUTEHbweAsYAmNm+QD6wIuYaRERERBKRl64Nm9m9QCXQ28wWAuOAW4Fbo0OOW4HLdnWYUURERCRbpC14ufuFzTx0SbraFBEREclkmrleREREJCYKXiIiIiIxUfASERERiYmCl4iIiEhMFLxEREREYqLgJSIiIhITBS8RERGRmCh4iYiIiMREwUtEREQkJgpeIiIiIjFR8BIRERGJiYKXiIiISEwUvERERERiouAlIiIiEhMFLxEREZGYKHiJiIiIxETBS0RERCQmCl4iIiIiMVHwEhEREYmJgpeIiIhITBS8RERERGKi4CUiIiISEwUvERERkZgoeImIiIjERMFLREREJCYKXiIiIiIxUfASERERiYmCl4iIiEhM0ha8zOxWM1tmZjOaeOy7ZuZm1jtd7YuIiIhkmnT2eN0GjG18p5kNAE4G5qexbREREZGMk7bg5e6TgVVNPPRr4PuAp6ttERERkUxk7unLP2ZWBjzm7iOi22cBx7v7t8xsLlDh7iuaee01wDUAJSUl5RMmTEhbndmotraW4uLipMuQ3dTS/VhdXU358NI0VgTVM2soLy9PaxvZRt/H7KD9mB3i2I9jxoypdveKph6LLXiZWRHwPHCyu6/dVfBqqKKiwqdOnZq2OrNRVVUVlZWVSZchu6ml+9HM8Gnj0lcQYKPGk87fG9lI38fsoP2YHeLYj2bWbPCK86zGIcDewLQodPUH3jSzPjHWICIiIpKYvLgacvfpwF47brekx0tEREQkG6RzOol7gVeBYWa20MyuSldbIiIiIu1B2nq83P3CXTxelq62RURERDKRZq4XERERiYmCl4iIiEhMFLxEREREYqLgJSIiIhITBS8RERGRmCh4iYiIiMREwUtEREQkJgpeIiIiIjFR8BIRERGJiYKXiIiISEwUvERERERiouAlIiIiEhMFLxEREZGYKHiJiIiIxETBS0RERCQmCl4iIiIiMVHwEhEREYmJgpeIiIhITBS8RERERGKi4CUiIiISEwUvERERkZgoeImIiIjERMFLREREJCYKXiIiIiIxUfASERERiYmCl4iIiEhMFLxEREREYpK24GVmt5rZMjOb0eC+X5jZe2b2jpn9w8x6pKt9ERERkUyTzh6v24Cxje6bBIxw95HAB8D1aWxfREREJKOkLXi5+2RgVaP7nnb37dHNKUD/dLUvIiIikmmSHON1JfBEgu2LiIiIxMrcPX0bNysDHnP3EY3u/zegAjjHmynAzK4BrgEoKSkpnzBhQtrqzEa1tbUUFxcnXYbsppbux+rqasqHl6axIqieWUN5eXla28g2+j5mB+3H7BDHfhwzZky1u1c09VjswcvMLge+Apzg7htT2U5FRYVPnTo1LTVmq6qqKiorK5MuQ3ZTS/ejmeHTxqWvIMBGjSedvzeykb6P2UH7MTvEsR/NrNnglZfWlj9byFjg+8BxqYYuERERkWyRzukk7gVeBYaZ2UIzuwr4X6ArMMnM3jazm9PVvoiIiEimSVuPl7tf2MTdf0lXeyIiIiKZTjPXi4iIiMREwUtEREQkJgpeIiIiIjFR8BIRERGJiYKXiIiISEwUvERERERiouAlIiIiEhMFLxEREZGYKHiJiIiIxETBS0RERCQmCl4iIiIiMVHwEhEREYmJgpeIiIhITBS8RGJQNqg/ZtbiS3V1dYueLyIimS0v6QJEOoJ58xfh08a1+HVVi0pb9DobNb7FbYiISHzU4yUiIiISEwUvERERkZgoeImIiIjERMFLREREJCYKXiIiIiIxUfASERERiYmCl4iIiEhMFLxEREREYqLgJSIiIhITBS8RERGRmCh4iYiIiMREwUtEREQkJikFLzM7MN2FiIiIiGS7VHu8/mBmr5vZ182seyovMLNbzWyZmc1ocF8vM5tkZrOjf3u2qmoRERGRdiil4OXuxwAXAwOAajO7x8xO2sXLbgPGNrrvB8Cz7j4UeDa6LSIiItIhpDzGy91nAz8C/h9wHPBbM3vPzM5p5vmTgVWN7j4LuD26fjtwdksLFhEREWmvzN13/SSzkcAVwOnAJOAv7v6mmZUCr7r7oGZeVwY85u4jottr3L1HdN2A1TtuN/Haa4BrAEpKSsonTJjQsnfWwdXW1lJcXJx0GRKprq6mfHhpi19Xu60zxZ22pN7OzJpWtdMS1TNrKC8vT2sb2Ubfx+yg/Zgd4tiPY8aMqXb3iqYeSzV4vQDcAtzv7psaPXapu9/ZzOvKaCZ4RbdXu/sux3lVVFT41KlTd1mnfKKqqorKysqky5CImeHTxrX4dVWLhlHZ7/3U2xk1vlXttISNGk8qvzfkE/o+Zgftx+wQx340s2aDV16K2zgd2OTuddEGc4ACd9/YXOhqxlIz6+vui82sL7CsBa8VkabUb4NNNbB5CbdcDXx8B2xbB3UbwevDJacT5BZCXhHk7wGd94DCvlA4AHLzk34HIiIdRqrB6xngRKA2ul0EPA0c2cL2HgEuA26M/n24ha8XEQjBau27sP5D2DgPwv+JOOMgQhArKAkhy3KBHPBtULcJttVC7Yew5u1oQzlQWArdhkG34dC5V0JvSESkY0g1eBW4+47QhbvXmlnRzl5gZvcClUBvM1sIjCMErr+b2VXAPOCLrapapCOqr4N178Lqt2HDx+G+zntCr0OgSxkUltKn4n/waVftelt1m2HjwhDaaj+Cpc+GS2Ep9KqA7iNCL5mIiLSpVIPXBjM72N3fBDCzcmDTzl7g7hc289AJLahPROo2w8rXYdUbsL0W8nvCXsdB9wPDIcPWyC2ArvuES8kJsHUtrJsJq9+CRY/A4qdhj0Nhj8Mhr7Bt34+ISAeWavD6NnCfmdUABvQBzk9XUSIC1G1l4KaH4P1HoH4zFA+BPc4K/5q1bVv53aH3ESFobZwPK1+D5ZNh5ZQQwHofDbmd27ZNEZEOKKXg5e5vmNl+wLDorvfdfVv6yhLpwNxhzTRY+iyDt9dC131hr8owGD7dzKDLoHDZvCyEr+Uvwaq3oOR46Dk6/TWIiGSxVHu8AA4ByqLXHGxmuPsdaalKpKPatARqHoNNi6CwH28WXsfBgxKauqFgLxhwHuxxBCx5CmoehdVvckD/ZMoREckGKQUvM7sTGAK8DdRFdzug4CXSFuq3R71LL4dpH/qdDT1Gsq5mXyD1ebzSoqgf7H0FrJ0Oi5/izZ8B74yDET/SAHwRkRZKtcerAhjumjVRpO1tXgoLHoQty6DHKOhzSuYNaDeDHiOheB8m/PkXfCnvP6DmCTjyLui2b9LViYi0G6mu1TiDMKBeRNqKexjEPufPULcBBl0E/c/OvNDVUF4Rl90MHH1/mA/siYPgo9uSrkpEpN1ItcerNzDTzF4H/rlwnLufmZaqRLJd3RZY9DCsmxUGz/c7E/K6JF1V6gaeC70Ph1cvhSlXwPJXoOK3YZoKERFpVqrB6yfpLEKkQ9myEuZPCP/2OTlM4dDW00PEoagfjHka3vkxzLwBVlXDcQ9DkUbfi4g0J6VDje7+AjAX6BRdfwN4M411iWSndR+EQ4vbN0LZpWHurPYYunbIyYPR/wXHPgzrZ8NTh4WpJ0REpEkpBS8zuxq4H/hjdFc/4KE01SSSdcyAZS/A/HshvxcMuRqK9066rLbT/0w46SWwHHjmGFj0eNIViYhkpFQH1/8LcBSwDsDdZwN7pasokaxSt5l7rwWWVYUzAwdfAfk9Ei4qDXqOhJNfg67DYPKZ8MHvk65IRCTjpBq8trj71h03zCyPMI+XiOzM1jXw/FjOPxwoOTHMz5XNc18VlcJJk6H0DJh6LVR/OyzuLSIiQOrB6wUz+yFQaGYnAfcBj6avLJEssHEhTDoaVrzCRb8H9jyqfY/nSlVeFzjmQRj2bXj/JphyWZggVkREUg5ePwCWA9OBrwATgR+lqyiRdm/NDHj6CNgwHyqf5N5Xki4oZjm5UP5rGPVfMPdueOmLYQoNEZEOLtVFsuuBP0cXEdmZZZPhhTMhrwhOehF6jkq6ouQccH3oAav+Fkw+G455IHwuIiIdVKprNX5ME2O63H1wm1ck0p7VPAUvfh66DIIxT4Z/O7ph3wzh67Wroeo0OO5R6NQ16apERBLRkrUadygAvgD0avtyRNqxhY/AS1+AbvvD8ZOgYM+kK8ocQ66C3KIw0/1zJ4ZQmt8z6apERGKX6gSqKxtcFrn7b4DT01uaSDsy72/w4rnQczSc+LxCV1PKLgyHGle/Bc+PhW3rkq5IRCR2qU6genCDS4WZfZXUe8tEsttHt8MrF4VZ6I+fpJ6cnel/Fhx9H6x6Mxx23FabdEUiIrFKNTz9qsH17YTlg77Y5tWItDez/whvfBX6nATH/qN9LXSdlP5nwVH3wMsXwAufg8rHNeBeRDqMVM9qHJPuQkTanTl/CaGr9HQ45n7ILUi6ovZj4Begfhu8cglM/nxYXFufn4h0AKme1fivO3vc3f+nbcoRaSc+vjOcpdd3bBi3lNs56Yran7KLwtxer10JL54XJl3NzU+6KhGRtEp1AtUK4GuExbH7AV8FDga6RheRjmPe32DK5VByfBQWFLpabcgVcMjNUPN4OONRywuJSJZLdYxXf+Bgd18PYGY/AR5390vSVZhIRlrwILxyMfQ+KhweyytMuqL2b+hXYPt6eOt7kN8LDvlDx1haSUQ6pFSDVwmwtcHtrdF9Ih3HwkfDgPA9Do0GhGsgfZvZ/zrYsgJm/neYimPkfyRdkYhIWqQavO4AXjezf0S3zwZuT0tFIpmo5kl46TzoMRoqn9DM6+kw6oYQvmb8FDr3DjPei4hkmVTPavyZmT0BHBPddYW7v5W+skQyyJJnwzJA3YfD8U9BfvekK8pOZmG815ZVYW3H/D1g74uTrkpEpE2lOrgeoAhY5+43AQvNbO/WNmpm3zGzd81shpnda2Y6j1wy07LJYa6prkNhjCZHTbucvDDHV8mYcALDoolJVyQi0qZSnbl+HPD/gOujuzoBd7WmQTPrB3wTqHD3EUAucEFrtiWSVstfCbOrdymD45+Bgt5JV9Qx5BbAsQ9Bj5Hh8O7yl5OuSESkzaTa4/V54ExgA4C717B700jkAYVmlkfoSavZjW2JtL2Vb0DVqVBYCic8CwV7JV1Rx9KpG4x5AooGQNUZsGZ60hWJiLSJVIPXVnd3wAHMrNWnc7n7IuCXwHxgMbDW3Z9u7fZE2tyqt+C5k8MA7xOeg8K+SVfUMRXsBcc/Hc4efe5kqP046YpERHabhTy1iyeZXQcMBU4CbgCuBO5x99+1uEGznsADwPnAGuA+4H53v6vR864BrgEoKSkpnzBhQkub6tBqa2spLi5Ouox2p8u2jxi94jvU5RTy1h6/YUtenzbZbnV1NeXDS1v8utptnSnutCX1dmbWtKqdlqieWUN5eXla2wCYPv0dtm7dRq+8JVywx+/ZVN+FCSuvZVN92/1c5+d34sADR7bZ9pqj72N20H7MDnHsxzFjxlS7e0VTj+0yeJmZESZQ3Q84GTDgKXef1JpizOwLwFh3vyq6/SXgcHf/enOvqaio8KlTp7amuQ6rqqqKysrKpMtoX9bOhGcqIScfTnwBug5ps02bGT5tXItfV7VoGJX93k+9nVHjW9VOS9io8aTyH7bdbqfhZ7ZxAXx8R+gFK7uszZYWiuu96PuYHbQfs0Mc+9HMmg1eu5xOwt3dzCa6+4FAq8JWI/OBw82sCNgEnAAoVUmy1n0Az54AlhvGdLVh6JI2UDQABnwB5k+ABX+HgRdCTm7SVYmItFiqY7zeNLND2qJBd38NuB94E5ge1fCntti2SKvUfgTPHg9eF0JXt2FJVyRN6bYv9DsTaufAoochhp4qEZG2lurM9YcBl5jZXMKZjUboDGvV4Ah3Hwek93iISCo2zAuhq24TnPB8mCRVMlfP0bC9FpY+C3lF0OcUresoIu3KToOXmQ109/nAKTHVIxKfjQtD6Nq6NvR09Uz/IGtpA72PCuFr5WuQ1xX2PCrpikREUrarHq+HgIPdfZ6ZPeDu58ZQk0j6bVocxnRtXh4mR+11cNIVSarMQk/X9g2w9Jkw3UTP0UlXJSKSkl0Fr4Z9+IPTWYhIbDYtDT1dmxbBmKeg96FJVyQtZQb9zobtG2HRI+GwY9d9k65KRGSXdjW43pu5LtI+bV4Gzx0PG+ZD5UQdpmrPcnJh4BfDBLfz7wtTToiIZLhdBa9RZrbOzNYDI6Pr68xsvZmti6NAkTazeXno6ar9GCofh72OTboi2V25nWHQRWGJoXn3hH0sIpLBdhq83D3X3bu5e1d3z4uu77jdLa4iRXbb5hXw3Alh6ojjHoOSyqQrkraS1wXKLgHLg7l3hZMlREQyVKrzeIm0X1tWhtC1fjYc9yj0OT7piqSt5feEQRdD/RaYdzds35R0RSIiTVLwkuy2ZRU8dyKsex+OfQT6nJB0RZIuhX1g0AWwdRXMvxfqtyVdkYjIZyh4SfbaEbrWzoJjH4a+JyVdkaRblzLof24YaL/gfvD6pCsSEfkUBS/JTltWwfMnw9p34diHoFRzAHcY3feH0tNh/Qew6FEtLSQiGSXVJYNE2o/Ny+C5k2Dde3DMg1A6NumKJG69KmBbLSx/AfKKdYhZRDKGgpdkl401YSD9hnnh7EUdXuy49jouLC204qVw5mPvw5OuSEREwUuyyIZ50TJAS2HMk5qnq6Mzg9LToG4jLHkq9Hz1GJF0VSLSwWmMVxYqG9Sf6upqzCxtl7JB/ZN+m5+2/kOYdEyYOuL4Z1oUusoG9U/rZ2Vmuy5C0sNyoP85UDQIFv0DauckXZGIdHDq8cpC8+Yvonx4KT5tXNrasFHj07btFls7M5y9WL8NTny+xQsmz5u/KK2fFWTY59XR5OSFaSY+vg3m/w3KLoWiAUlXJSIdlHq8pH1b9RY8c1w4c+3EF1ocuqSDyC2AQZdAXleYezdsWpx0RSLSQSl4Sfu14rWw9mJuIZw4GboPT7oiyWSdiqHsSyGEzb0znP0qIhIzBS9pnxZPCmcvdu4FJ70I3YYmXZG0B/ndQ/iyXJh7J/uUJF2QiHQ0Cl7S/sy9F144HYqHwEkvQZdBSVck7UnnXiF8eT3P/pBwNqyISEwUvKR9ee8meOUi6H1kOLxY2DfpiqQ9KtgTyi6layFhCpKNC5OuSEQ6CAUvaR/c4e0fwpvfhv6fD/N05XdPuippzwr7MPa/CWO9nhmj8CUisVDwksxXvw1e+zLMvAH2uQaOvi8MkBbZTa/PAY5/Oky6q/AlIjFQ8JLMtm0dVJ0BH90KI/4dDrkZcnKTrkqySe/DFb5EJDYKXpK5NiyASUfD0ufgsL/AyP8Iy8CItDWFLxGJiYKXZKZVb8HTh4czzsY8AUOuTLoiyXaNw9eG+UlXJCJZSMFLMs+iifDMMWGupZNehj4nJl2RdBQ7wteW5WHtz3Wzk65IRLKMgpdkDnd479cw+XPQdRicPAV6jEi6Kuloeh8OJzwPdRvhmWNhzYykKxKRLKLgJZmhbgu8dhW8+a/Q76yw7mJRadJVSUfV66DwM2g5YS3QlVOTrkhEskQiwcvMepjZ/Wb2npnNMrMjkqhDMsTmZWH5n4/+CiN+DMfcH9bVE0lS9+FhOapO3cKaoMteTLoiEckCSfV43QQ86e77AaOAWQnVIUlb/TY8eQisehOO+huMHB96GUQyQfHgEL6KSuH5U2DR40lXJCLtXOx/4cysO3As8BcAd9/q7mvirkMywNx74emjgPrwx23QF5OuSOSzivqH5am6D4fJZ8GcW5OuSETaMXP3eBs0Gw38CZhJ6O2qBr7l7hsaPe8a4BqAkpKS8gkTJsRaZ3tWXV3NsKF7U9xpS/ramFnT6tfmUMex3R6jvMuLLNpaxqOrv8SG+m5NPjc/vxMHHjiy1W2lorq6mvLh6R1PVj2zplVt1G7r3KL92Np2WmJ39n1LxbJfystTem5u/SYOWP1jem2Zysddr2Re8SUpzytXW1tLcXF6D59Pn/4OW7duS2sbcXwfM1kc+1HSL479OGbMmGp3r2jqsSSCVwUwBTjK3V8zs5uAde7+7829pqKiwqdO1eDWVJkZz0+8h8p+76evjVHj8WnjWv7CbethwX2wcQHscRj0OSlMG7GzdtL8M2pmrXsvLWmjlZ9X1aJhLdqPrd4vLRBHG3G10+Kfr7qt4SSQuXfB0K9B+e9SWkmhqqqKysrK1heagth+jmP+m5FJ4tiPkn4xfR+bDV55aW25aQuBhe7+WnT7fuAHCdQhcdswL4Su+q3Q/1xNFSHtT24+HHE7FJbCrJ/DpiVw5N2QV5h0ZSLSTsQ+xsvdlwALzGxYdNcJhMOOkq3cYcWr8PHtkFMAg7+s0CXtl+XAQf8N5TfBwofg2coQwEREUpBEjxfAN4C7zSwf+Ai4IqE6JN3qtsCiR2DdTOi2H/Q7G3I7J12VyO4b9k0oGgivXAxPHQrHPQo9RyVdlYhkuETO23f3t929wt1HuvvZ7r46iTokzTYthjl/hnWzoOREGPBFhS7JLgPOhpNeAq+HSUfBwkeTrkhEMpwmTJK2t+PQ4ke3hPFcZV+CPY9K+QwwkXal10FwyuvQbf8w3cSsX4XvgIhIE5I61CjZalstLHoIaudA1/2g3+cgryjpqkTSq6g0LDH06mXw1nWw5h045GYNuheRz1Dwkraz/gNY+HDo5So9A3oerF4u6TjyiuDov8GMn8L0n8Ca6XDMg1BclnRlIpJBFLxk99VvhyWTYNXrUFASpooo2DPpqkTiZzlw4DjoVQ6vXAJPVcBRE9CvWhHZQWO8ZPdsXhYG0K96PUyIOvjLCl0i/c6AU96Agj7w/CkMWH+vxn2JCKDgJbtj5RshdG3fAIMugr5jIUf/sxcBoNtQOHkKDDiPIev/BC+eA1t1ArdIR6fgJS23fSMP/SuweCJ0KYOhX4WuQ5OuSiTzdCqGoybwYbevw6LH4ImDYMWUpKsSkQQpeEnL1H4EH/4fY0cCfU4JPV15WjRWpFlmLCz+Apz0MmAw6RiY9csw95eIdDgKXpKa+rowgH7unZBbwKE/BnofrrMWRVLV+1A49S3ofya89T144UzYvCLpqkQkZgpesmtbVsJHf4EVr4SztYZcwzvzky5KpB3K7wFH3w/lvwv/kXliJCx+OumqRCRGCl7SPHdY/RbM+SNsWwMDzw/zc+V0SroykfbLDIZdC6e8Bvk94flTYOq3YPumpCsTkRgoeEnT6jbDggfCAteF/WCfr4ZFrkWkbfQcDadMhWHfgg9+G+b8Wv120lWJSJopeMlnbZgPH94cLW59ApRdCp26JVJKbg6YWVovIulUNqg/1dXVTf/8dSrCKm7ilBth8dyZbH30IH5wppGXq59jkWylSZfkE14PyybD8slhLMrgK6GoX6Il1dWDTxuX1jZs1Pi0bl86tnnzF1E+vHTXP8fbN0LNY9x4wSxuvKIU+p0FBXul3I5+jkXaBwUvCbaugYUPwsYF0GMU9D0VcjsnXZVIx5FXBAO+AOtmQs1EmPMn2PNY2PMosNykqxORNqLgJbBmBtQ8Fq73Pwd6HJhsPSIdlRl0PyBMTFzzBCx7Hta9B/3PCuugiki7p+DVkdVtgcVPwpq3oWhACF35PZKuSkTyusDA82Dt8Aa9X8dA72MgR71fIu2ZgldHtXFROLS4dTXseRzsdSyYzrUQySjdh4fer8VPwrIXQu9XvzOhsDTpykSklfSXtqNxh+UvwUe3gtfB3pdDSaVCl0imyiuCAeeEefS2b4A5t4TDkHVbkq5MRFpBPV4dybb1sPAfsOFj6HYA9DsDcguSrkpEUtFtv9D7tfQ5WPV6mO6l71jotr+W7hJpRxS8Oor1s2HhQ1C/LRyq6DFav6xF2pvcAig9LZx5XPMoLLgPug6FvqclXZmIpEjBK9vV18GyZ2HFq+GsqAHnQefeSVclIrujqB8MuQZWToGlVTD7D1x3OmH4gKaeEMloCl7ZbOtqWHA/bKqBXhXQ52StsyiSLSwHeh8J3YbD4if4xUUfwId/Cj1iXQYlXZ2INEMjqrPUnltfhQ//CFtWwYAvQunpCl0i2Si/Bwy8gHN+DdRvho9vgwUPhjGdIpJx1OOVbbZv5I9XwQEbfgeF/WHAuZqbSyTbmfGPqcDQfwlnLa94Bda/H2a+3+Nwzf0lkkEUvLLJmhnw8vl8uRLmFZzJoMEjNd5DpCPJyYeS48PJM0uegqXPwOq3whJgXYckXZ2IoEON2cE9jO146hDYspKTb4SPCy9Q6BLpqDr3gkEXwqCLAId5d8H8v4U1WUUkUYkFLzPLNbO3zOyxpGrICts3wKuXwutfCYcVTp3Gs+8mXZSIZISuQ2Gfr4VesPVzYPbvYVlVmFZGRBKR5KHGbwGzgG4J1tC+rX0PXjoP1s6EkT+FA36oGehF5NNy8sI6j91HwtJJYemh1dOgz4nhjEjN5ycSq0T+SptZf+B04JYk2s8K8/4eDi1uXgrHPw0jfqTQJSLNy+8e5vEruwxyO4epZj7+a1i3VURik9Rf6t8A3wfqE2q//arbClO/BS+fDz1Gwqlvhf+5ioikorgsTL5a+jnYugo+ugUW/AO2rUu6MpEOwdw93gbNzgBOc/evm1klcJ27n9HE864BrgEoKSkpnzBhQlrrmj79HbZuTf+4h/z8Thx44MhWvbZz3TIOWPUTum2bxYIu5/FRt6/g9tmjxdXV1QwbujfFndK3iG71zBrKh5embftxtpPJbdRu69yi/ZjJ7yUT26meWZPW7e+Q7u8jtO7zyvVNDNz8MAM2P4FjLCg4g/kFZ1BvTa/hWj2zhvLy8rYot12qra2luLg46TJkN8WxH8eMGVPt7hVNPZZE8LoBuBTYDhQQxng96O6XNPeaiooKnzp1arrrwqeNS2sbADZqPK36zBdPglcuDD1eh98KA89rvg0znp94D5X93t+NSnfORo2P7/NKczuZ3EbVomEt2o+Z/F4ysZ242kj393FHO61+L1vXhKkn1r4LecVQckJYD7LR+K9W//7KElVVVVRWViZdhuymOPajmTUbvGI/1Oju17t7f3cvAy4AnttZ6Orw3OG9m6BqLBT0gbFTdxq6RERaLL9HGP81+Ero1B0WPQxz/gwb5iZdmUjW0WjsTFa3BV6/Gt78NvQ7E06eAt32TboqEclWRQNg8FXQ/xyo2wAf3w7z7oXNy5KuTCRrJDpzvbtXAVVJ1pCxNi+DF8+B5S/DAT+CkeN11qKIpJ8Z9DgQuu0HK6bAipfhw5uhxyj690q6OJH2T3/JM9HqafDkIbCqGo6aAKN+qtAlIvHK6QR7HQP7fhP2OAzWTmf2r4C3vgdbViVdnUi7pb/mmWbBg/D0keB1cNJLMOj8pCsSkY4srwj6ngJDr2XCFGDWr+CRwfDujbB9Y9LVibQ7Cl6Zwh2m/we8eG7o5h/7BvTquKdti0iGye/BFX8ETpsWZsKfdj08OhQ+/DPUb0+6OpF2Q8ErE2zfECZEnT4O9v4SnFgFhX2TrkpE5LN6HAiVj8KJL0KXMnj9Gpg4Iqym4ZoTW2RXFLyStmEBTDoG5t8PB/0CDr8NcpuevFBEJGPsdXQYDnHsQ2C54T+PE0eF32UKYCLNUvBK0vJXw3qLtXPguMdg/+u0YK2ItB9m0P8sOPUdOPJe8O3w0hfgiYPCeFUFMJHPUPBKyke3wbOVYZbok6dAv9OSrkhEpHVycqHsAjhtBhx5N9RvCeNVnzg4rAPZgWe7F2lMwStmOQa8+V2YckUYoHrK69B9/6TLEhHZfTm5UHYRnPYuHHEX1G0K8xE+eTDM+5sG4Yug4BWvus089j3gvf+Bfb8BY56AzpqRUESyTE4u7H0xnP4uHHFnCGAvXwCPDYPZ/wfbNyVdoUhiFLzismUlzLmFEw8ADv0TVPw2TFAoIpKtcvJg70vg9JlwzIPQeU944+vwSBnM+BlsXZ10hSKxU/CKQ+0cmHML1G3ihBuAfa5OuiIRkfhYDgz4PJz8KpxQBT3L4Z0fwUMDw9CLjQuTrlAkNgpe6eQOK1+DuXdDp24w5Mu8+F7SRYmIJMQMSo6DMRPh1GnhjMj3b4KHy+DF82BplQbiS9ZT8EqX+jqoeRQWPwld94XBV0J+z6SrEhHJDD1HwpF3wZlzYL/vwtLn4dkxMPHAMA5s2/qkKxRJCwWvdNi+AebeAavfCmcuDjwfcjsnXZWISObpMggO+m84eyEc/lfI6RzGgf2jH0z9JqxNz2GCskH9MbMWXaqrq1v0/IL83Ba30dJL2aD+afl8JH3yki4g62xaAvMnhPA14FzoPiLpikREMl9eIQy+HPa+LAzR+OD38OEf4YPfwV7HhqMGA8+DvC5t0ty8+YvwaeNa9JqqRaUteo2NGt/iNlrKRo1P6/al7anHqy2tmwUf3xpmax58hUKXiEhLmUHvw+HIO+HsBTDqv2BjDUy5HB7sA1OugmUvaSyYtFvq8WoL7rB8MiyrgsJ+4dBip65JVyUi0r4V7AUHXA/DfwDLX4aPboX5fwv/Fg+GQReGS48Dkq5UJGXq8dpd9dtgwQMhdPUYCXtfrtAlItKWzMKi3IffCp9fEsaCFQ+BmTfAxBEwcSS8ewOsn5N0pSK7pB6v3bF1bfjf1+bFUHIi9D5Si1yLiKRTp+IwFmzw5bBpKcy/D+bdC9N+GC7dD4D+Z4epKnqVhznERDKIgldrbVwQQlf9dhh0EXQdmnRFIiIdS2EJDLs2XDbMgwUPwcKHQk/Yuz8LQz/6nxmC2F6VkJufbL0iKHi1zuq3oeaxMClq2WVQsGfSFYmIdGxdBsF+3wqXLSth0eMhhH10e5gXrFM3KDkB+p4cLiIJUfBqCa+Hpc/Ailehy94w4AvhFGgREckcnfeAwV8Kl+2bYMkzsOgRWPw0LPwHALN/BdQ8HsaKdSmD3IJES5aOQ8ErVXWbwyD62g+h1yHQ9xSw3KSrEhGRnckrhP6fCxd3WP8BLH6aWX/+JvuUToNVUwGDov5QNCj0nBUN1GFJSRsFr1RsWRkmRd2yCkrPCAM2RUSkfTGDbsOg2zDO/NU38bf+H2xaALVzoPZjWPEyrHgJMCgsDSHsn0FMPWLSNhS8dmX9h6Gnywz2vjR0SYuISPuXkxt+p3cpgxKgbms4cWrj3DBYf+UUWPEKYFDQhyE+GtZ1C0EsryjJyqUdU/BqjjusfDWMDSjYK0yKqkWuRUSyV24+dB0SLhDmady4MISwjfMo3fAMzN8WHuu8F3QZGB2eHBgG74ukQMGrKfXbYNGjsHY6dBse5oPJ0fF+EZEOJacTFO8dLsBLCwdzXM/nYcN82DgP1rwTjREj/Md8RwgrGqT/qEuzFLwaazgp6l7Hw55Ha1JUERHBrdMn4744JpzpvnlJ6BHbMB/Wvw9r3g5PzuvKvdcCK98Iz++8p/6WCJBA8DKzAcAdhCPqDvzJ3W+Ku44mbZgH8/8Ovh0GXgjd9k26IhERyVSWEwbhF5ZC7yPCEJUtK0Jv2Ib5HD1sOiyeGJ6bWxjGhu3oESvsq1n1O6gkery2A9919zfNrCtQbWaT3H1mArX801dOAD6+I3QPD7oAOvdOshwREWlvzMKE2gV7Qq8KBpwxHX/jm9EYsfnh3/Xvh+fm5EcD+/cOc4l17q0esQ4i9uDl7ouBxdH19WY2C+gHJBe8Zv6Cm68krHY/4FydNiwiIm0jv2e49Bwdbm9bH4Wwj8MUFus/CPfndQ1/g4oHhzDWqWtiJUt6mbsn17hZGTAZGOHu6xo9dg1wDUBJSUn5hAkT0lZH57rl1H/4F7YNuDTtXb/VM2vSuv0dhg3dm+JOW9K2/eqZNZQPL03b9uNsJ5PbqN3WuUX7MZPfSya2E1cb6f4+7mgnjveSbvn5nTjwwJFpb6e6urrFn1c6vo8FdcvpuX0GPbdNp+f2GXTy2tBW7kBWdhrNyk4HsS53aLN/m+L6mxLXfolDbW0txcXFaW1jzJgx1e5e0dRjiQUvMysGXgB+5u4P7uy5FRUVPnXq1HTXg08bl9Y2AGzU+LS3Y6PG8/zEe6js935a28imzytT26haNKxF+zGT30smtpMt38cd7WTL5xXH36XW/M5P+/fRPQzWr50T5pDcOB/wMD6seB/oOjT822Cpuli/jwl21LSlqqoqKisr09qGmTUbvBI5q9HMOgEPAHfvKnSJiIh0CGZh0H1h33BGfd3mKITNDpe10/nn8kbd9oOu+yVdsbRCEmc1GvAXYJa7/0/c7YuIiLQLuQXQ/YBwcYdNi6IQ9gEsmQRLJvH2fwHLqqDb/mFSVw3Qz3hJ9HgdBVwKTDezt6P7fujuExOoRUREJPPZjoW8+0PJGNi6BtbNYu17T8OyF8Ilv2cIYN32h8J+CmEZKomzGqMVSEVERKRV8ntA7yM47qdP49XfhXXvw7r3PllfslOPqLdsBBSUKIRlEM1cLyIi0p7lFUOv8nCp2xxC2NoZsOJVWPEy5O8RAlj3A8IcY5IoBS8REZFskVsAPUeFy/aNsG5WCGHLXwiXgpJPesK0nmQiFLxERESyUV7RJz1h29bDupmwZgYsfS5cCvtFPWEjoFN657WSTyh4iYiIZLtOXWGPw8Jl6xpY+27oCVvyFCx5OsyW32NEGJiv1VvSSsFLRESkI8nvAXseFS6bl4f5wdbMgEWPQM3j0HVf6H5gmLA1RzGhrekTFRER6agK9oSC42GvMWGesLXTYc27YWxYTufQA9bjQHJ0UmSbUfASERHp6BrOE9bnlLCI95oZ0biwt1n4O6D621B2MfSq0PQUu0HBS0RERD5hOVA8JFzqT4P1s3n1jfs4Z4//g/dvCutFll0ULt2GJV1tu9P0cuciIiIiOZ2g+3DO/Q1wzlI47C/QZRDM+Ck8th88UQ6zfgUbFyVdabuh4CUiIiK7lt8DhlwJJzwDZy+Eg38NlgtvXQcPDYBnj4cPb4Gtq5OuNKMpeImIiEjLFJXCft+Gsa/DGe/DgeNCr9frV8ODJTD5bJj39zCJq3yKxniJiIhI63XbNwSvET+G1W/C3Htg3gRY+HBYzqjfmTDgHCgdC3ldkq42cQpeIiIisvvMPpkpf/TPYfnkEMIW/gPm3RMmZu07NoSwfmd02CWLdKhRREQyRm4OmFnaL5JmOblQMgYO+zN8fgmc8DwMuRpWvgGvfgke2AueOwVm3/zPgfllg/rHsu+nT38n0Y9GPV4iIpIx6urBp41Lezs2anza25BITh6UVIZL+W9g5VRY+CDMfwDe+Fq49BjFlw9bxI/+dmVYQ9LS1y/0q0nb0rbtVCh4iYiISDwsB3ofGi6jboC1M8MyRTWP84PPAR/dCrlFYa6wrkOh6xDILUy66jal4CUiIiLxM4MeB4TL8O+zZxdj9RPnwvrZUDsb1r4DGBT2DYt4Fw+GogFhbrF2TMFLREREErdmI9BjRLh4fVg7cv2csHzRildhxcth3rCigVC8N3QZHEJZGg9LpoOCl4iIiGQWywm9W0UDgEqo2wIb50PtRyGILX0OeA5y8qGwP3QZGJ5b2B9y8xMufucUvERERCSz5XaOxnwNDbe3b4Daj2HjPNi4AJZVRU+MDk0WDQg9Y4X9oFO3jFrUW8FLRERE2pe8Lp8clgSo2wwbF4ZesQ3zYVU1rHwtem4xFJaGEFZYSr7tl1zdKHiJiIhIe5dbAF33CReA+jrYvCSME9tUE40X+wCAwZ0vSrBQBS8RERHJNjm5UNQvXHao2wybFjNv6eDk6kIz14uIiEhHkFsAxXuzqb440TIUvERERERiouAlIiIiEhMFLxEREZGYJBK8zGysmb1vZh+a2Q+SqEFEREQkbrEHLzPLBX4PnAoMBy40s+Fx1yEiIiIStyR6vA4FPnT3j9x9KzABOCuBOkRERERilUTw6gcsaHB7YXSfiIiISFYzd4+3QbPzgLHu/uXo9qXAYe5+baPnXQNcE90cBrwfa6HtX29gRdJFyG7TfswO2o/ZQfsxO8SxHwe5+55NPZDEzPWLgAENbveP7vsUd/8T8Ke4iso2ZjbV3SuSrkN2j/ZjdtB+zA7aj9kh6f2YxKHGN4ChZra3meUDFwCPJFCHiIiISKxi7/Fy9+1mdi3wFJAL3Oru78Zdh4iIiEjcElkk290nAhOTaLsD0WHa7KD9mB20H7OD9mN2SHQ/xj64XkRERKSj0pJBIiIiIjFR8GqHzOxWM1tmZjMa3NfLzCaZ2ezo357R/WZmv42WZ3rHzA5OrnJpqJn9+Aszey/aV/8wsx4NHrs+2o/vm9kpiRQtn9HUfmzw2HfNzM2sd3Rb38cM1dx+NLNvRN/Jd83s5w3u1/cxAzXze3W0mU0xs7fNbKqZHRrdn8j3UcGrfboNGNvovh8Az7r7UODZ6DaEpZmGRpdrgP+LqUbZtdv47H6cBIxw95HAB8D1ANGyWhcAB0Sv+UO0/JYk7zY+ux8xswHAycD8Bnfr+5i5bqPRfjSzMYSVVUa5+wHAL6P79X3MXLfx2e/jz4Hx7j4a+HF0GxL6Pip4tUPuPhlY1ejus4Dbo+u3A2c3uP8OD6YAPcysbyyFyk41tR/d/Wl33x7dnEKY5w7Cfpzg7lvc/WPgQ8LyW5KwZr6PAL8Gvg80HEir72OGamY/fg240d23RM9ZFt2v72OGamY/OtAtut4dqImuJ/J9VPDKHiXuvji6vgQoia5riab260rgiei69mM7YmZnAYvcfVqjh7Qf25d9gWPM7DUze8HMDonu135sX74N/MLMFhB6La+P7k9kPyp4ZSEPp6rqdNV2zMz+DdgO3J10LdIyZlYE/JBwSEPatzygF3A48D3g72ZmyZYkrfA14DvuPgD4DvCXJItR8MoeS3d0kUb/7ugST2mJJskcZnY5cAZwsX8y34v2Y/sxBNgbmGZmcwn76k0z64P2Y3uzEHgwOhT1OlBPWOdP+7F9uQx4MLp+H58cFk5kPyp4ZY9HCD9cRP8+3OD+L0VnbxwOrG1wSFIyjJmNJYwLOtPdNzZ46BHgAjPrbGZ7EwaDvp5EjbJz7j7d3fdy9zJ3LyP88T7Y3Zeg72N78xAwBsDM9gXyCYsr6/vYvtQAx0XXjwdmR9cT+T4mMnO97B4zuxeoBHqb2UJgHHAjoRv8KmAe8MXo6ROB0wiDPzcCV8ResDSpmf14PdAZmBQd0Zji7l9193fN7O/ATMIhyH9x97pkKpeGmtqP7t7coQx9HzNUM9/HW4Fbo6kJtgKXRb3Q+j5mqGb249XATWaWB2wmnMEICX0fNXO9iIiISEx0qFFEREQkJgpeIiIiIjFR8BIRERGJiYKXiIiISEwUvERERERiouAlIiIiEhMFLxHZbWZWZ2Zvm9kMM3vUzHrsxrZ+2Oj2K7tdYNPtHGRmLVo6xMxuMbPhrWyvzMwuas1ro9c/Y2Y9W/t6EckMmsdLRHabmdW6e3F0/XbgA3f/2e5uK53M7D7gP5tYyDpd7VUC17n7Ga18/WVA/9Z+riKSGdTjJSJt7VWgH4CZVZlZRXS9d7R2IWZ2uZk9aGZPmtlsM/t5dP+NQGHUe3Z3dF9t9G+lmb1gZg+b2UdmdqOZXWxmr5vZdDMbEj1vTzN7wMzeiC5HNS7QzLoCI3eELjP7iZndbmYvmtk8MzvHzH4ebfdJM+vUxPupNbOfmdk0M5tiZiXR/beZ2XkN2qqNrt4IHBO9t++YWa6Z/SKq8R0z+0r0/L5mNrlBD+Ix0esfAS5sm10kIklR8BKRNmNmucAJhJCwK6OB84EDgfPNbIC7/wDY5O6j3f3iJl4zCvgqsD9wKbCvux8K3AJ8I3rOTcCv3f0Q4NzoscYqgBmN7htCWMftTOAu4Hl3PxDYBJzexDa6EJZ0GgVMJixLsjM/AF6M3tuvgasIa8MdAhwCXB2t+3cR8JS7j47e79sA7r4a6Gxme+yiHRHJYFqrUUTaQqGZvU3o6ZoFTErhNc+6+1oAM5sJDAIW7OI1b+xYxNbM5gBPR/dPJ1rMGDgRGB6tdQnQzcyK3b22wXb6AssbbfsJd99mZtOBXODJBtsua6KWrcBj0fVq4KRd1N7YycDIBr1j3QmLLb9BWB+wE/CQu7/d4DXLgFJgZQvbEpEMoeAlIm1hk7uPNrMi4CngX4DfEhYQ3tGzXtDoNVsaXK8jtd9HDV9T3+B2fYPX5wCHu/vmndXbXD3uXm9m2/yTAbANt91Qw+c0rP+f79nMcoD8Zmow4Bvu/tRnHjA7ltDLdpuZ/Y+73xE9VBDVLiLtlA41ikibcfeNwDeB75pZHjAXKI8ePq+51zWybceYqlZ6mk8OO2Jmo5t4zixgn91oY2fm8sl7PhPY8V7WA10bPO8p4GsNxo/ta2ZdzGwQsNTd/0w4THpw9LgBfaLti0g7peAlIm3K3d8C3iEMBP8lIVy8BfROcRN/At7ZMbi+Fb4JVEQD1mcSxoQ1rvE9oHs0yL6t/Rk4zsymAUcAG6L73wHqosH43yGEqpnAm2Y2A/gjodesEpgWfWbnE8asQQhzU9x9expqFpGYaDoJEemQovCz3t2bGnyfcczsJuARd3826VpEpPXU4yUiHdX/8ekxY5luhkKXSPunHi8RERGRmKjHS0RERCQmCl4iIiIiMVHwEhEREYmJgpeIiIhITBS8RERERGLy/wHMpwaoBanWmQAAAABJRU5ErkJggg==\n",
       "datasetInfos": [],
       "metadata": {},
       "removedWidgets": [],
       "type": "image"
      }
     },
     "output_type": "display_data"
    }
   ],
   "source": [
    "# Runtime histogram/density plot\n",
    "from pyspark.sql.functions import col\n",
    "from pyspark.sql.types import IntegerType\n",
    "\n",
    "# Cast Runtime to integer (if not already)\n",
    "movies = movies.withColumn(\"Runtime\", col(\"Runtime\").cast(IntegerType()))\n",
    "\n",
    "# Convert to Pandas DataFrame\n",
    "movies_pd = movies.select(\"Runtime\").dropna().toPandas()\n",
    "\n",
    "import seaborn as sns\n",
    "import matplotlib.pyplot as plt\n",
    "\n",
    "plt.figure(figsize=(10, 6))\n",
    "sns.histplot(movies_pd[\"Runtime\"], kde=True, color='orange', bins=20)\n",
    "plt.title(\"Runtime Distribution of Movies\")\n",
    "plt.xlabel(\"Runtime (minutes)\")\n",
    "plt.ylabel(\"Frequency\")\n",
    "plt.grid(True)\n",
    "plt.show()\n"
   ]
  },
  {
   "cell_type": "markdown",
   "metadata": {
    "application/vnd.databricks.v1+cell": {
     "cellMetadata": {
      "byteLimit": 2048000,
      "rowLimit": 10000
     },
     "inputWidgets": {},
     "nuid": "eef06219-96bf-4556-8bf4-59e0f0ea11ea",
     "showTitle": false,
     "tableResultSettingsMap": {},
     "title": ""
    }
   },
   "source": [
    "**`Checkpoint 3:`** Most of the movies appear to be sharply 2 hour-long."
   ]
  },
  {
   "cell_type": "markdown",
   "metadata": {
    "application/vnd.databricks.v1+cell": {
     "cellMetadata": {
      "byteLimit": 2048000,
      "rowLimit": 10000
     },
     "inputWidgets": {},
     "nuid": "6b48da2d-81f2-47fa-8679-e6095108450d",
     "showTitle": false,
     "tableResultSettingsMap": {},
     "title": ""
    }
   },
   "source": [
    "- ### Subtask 2.7: R-Rated Movies\n",
    "\n",
    "Although R rated movies are restricted movies for the under 18 age group, still there are vote counts from that age group. Among all the R rated movies that have been voted by the under-18 age group, find the top 10 movies that have the highest number of votes i.e.`CVotesU18` from the `movies` dataframe. Store these in a dataframe named `PopularR`."
   ]
  },
  {
   "cell_type": "code",
   "execution_count": 0,
   "metadata": {
    "application/vnd.databricks.v1+cell": {
     "cellMetadata": {
      "byteLimit": 2048000,
      "rowLimit": 10000
     },
     "inputWidgets": {},
     "nuid": "3aa1c06e-0065-4bac-b91c-6774feaf5357",
     "showTitle": false,
     "tableResultSettingsMap": {},
     "title": ""
    }
   },
   "outputs": [
    {
     "output_type": "stream",
     "name": "stdout",
     "output_type": "stream",
     "text": [
      "+------------------------------------------+---------+\n|Title                                     |CVotesU18|\n+------------------------------------------+---------+\n|Interstellar                              |5735     |\n|Inception                                 |5678     |\n|Guardians of the Galaxy                   |5154     |\n|The Avengers                              |4953     |\n|The Dark Knight Rises                     |4726     |\n|Star Wars: Episode VII - The Force Awakens|4722     |\n|Deadpool                                  |4598     |\n|Captain America: The Winter Soldier       |3765     |\n|The Hunger Games: Catching Fire           |3650     |\n|The Wolf of Wall Street                   |3622     |\n+------------------------------------------+---------+\n\n"
     ]
    }
   ],
   "source": [
    "# find the top 10 movies that have the highest number of votes i.e.CVotesU18\n",
    "\n",
    "from pyspark.sql.functions import col\n",
    "\n",
    "# Ensure CVotesU18 is numeric\n",
    "movies = movies.withColumn(\"CVotesU18\", col(\"CVotesU18\").cast(\"int\"))\n",
    "\n",
    "# Sort by CVotesU18 and get top 10\n",
    "top10_u18_votes = movies.orderBy(col(\"CVotesU18\").desc()).select(\"Title\", \"CVotesU18\").limit(10)\n",
    "\n",
    "# Show the results\n",
    "top10_u18_votes.show(truncate=False)\n",
    "\n",
    "\n",
    "\n"
   ]
  },
  {
   "cell_type": "markdown",
   "metadata": {
    "application/vnd.databricks.v1+cell": {
     "cellMetadata": {
      "byteLimit": 2048000,
      "rowLimit": 10000
     },
     "inputWidgets": {},
     "nuid": "2cf39b76-7263-4db0-9145-0041d9a7196a",
     "showTitle": false,
     "tableResultSettingsMap": {},
     "title": ""
    }
   },
   "source": [
    "**`Checkpoint 4:`** Are these kids watching `Deadpool` a lot?  **Yes**"
   ]
  },
  {
   "cell_type": "markdown",
   "metadata": {
    "application/vnd.databricks.v1+cell": {
     "cellMetadata": {
      "byteLimit": 2048000,
      "rowLimit": 10000
     },
     "inputWidgets": {},
     "nuid": "fc9a3ab1-a2fd-4da9-9b1a-633ee47994ed",
     "showTitle": false,
     "tableResultSettingsMap": {},
     "title": ""
    }
   },
   "source": [
    "## Task 3 : Demographic analysis\n",
    "\n",
    "If you take a look at the last columns in the dataframe, most of these are related to demographics of the voters (in the last subtask, i.e., 2.8, you made use one of these columns - CVotesU18). We also have three genre columns indicating the genres of a particular movie. We will extensively use these columns for the third and the final stage of our assignment wherein we will analyse the voters across all demographics and also see how these vary across various genres. So without further ado, let's get started with `demographic analysis`."
   ]
  },
  {
   "cell_type": "markdown",
   "metadata": {
    "application/vnd.databricks.v1+cell": {
     "cellMetadata": {
      "byteLimit": 2048000,
      "rowLimit": 10000
     },
     "inputWidgets": {},
     "nuid": "b1415562-baf9-408b-914e-0f14042133ba",
     "showTitle": false,
     "tableResultSettingsMap": {},
     "title": ""
    }
   },
   "source": [
    "-  ###  Subtask 3.1 Combine the Dataframe by Genres\n",
    "\n",
    "There are 3 columns in the dataframe - `genre_1`, `genre_2`, and `genre_3`. As a part of this subtask, you need to aggregate a few values over these 3 columns. \n",
    "1. First create a new dataframe `df_by_genre` that contains `genre_1`, `genre_2`, and `genre_3` and all the columns related to **CVotes/Votes** from the `movies` data frame. There are 47 columns to be extracted in total.\n",
    "2. Now, Add a column called `cnt` to the dataframe `df_by_genre` and initialize it to one. You will realise the use of this column by the end of this subtask.\n",
    "3. First group the dataframe `df_by_genre` by `genre_1` and find the sum of all the numeric columns such as `cnt`, columns related to CVotes and Votes columns and store it in a dataframe `df_by_g1`.\n",
    "4. Perform the same operation for `genre_2` and `genre_3` and store it dataframes `df_by_g2` and `df_by_g3` respectively. \n",
    "5. Now that you have 3 dataframes performed by grouping over `genre_1`, `genre_2`, and `genre_3` separately, it's time to combine them. For this, add the three dataframes and store it in a new dataframe `df_add`, so that the corresponding values of Votes/CVotes get added for each genre.There is a function called `add()` in pandas which lets you do this. You can refer to this link to see how this function works. https://pandas.pydata.org/pandas-docs/version/0.23.4/generated/pandas.DataFrame.add.html\n",
    "6. The column `cnt` on aggregation has basically kept the track of the number of occurences of each genre.Subset the genres that have atleast 10 movies into a new dataframe `genre_top10` based on the `cnt` column value.\n",
    "7. Now, take the mean of all the numeric columns by dividing them with the column value `cnt` and store it back to the same dataframe. We will be using this dataframe for further analysis in this task unless it is explicitly mentioned to use the dataframe `movies`.\n",
    "8. Since the number of votes can't be a fraction, type cast all the CVotes related columns to integers. Also, round off all the Votes related columns upto two digits after the decimal point.\n"
   ]
  },
  {
   "cell_type": "code",
   "execution_count": 0,
   "metadata": {
    "application/vnd.databricks.v1+cell": {
     "cellMetadata": {
      "byteLimit": 2048000,
      "rowLimit": 10000
     },
     "inputWidgets": {},
     "nuid": "2b58077c-82d3-4e45-aa59-1e1492a7b0b9",
     "showTitle": false,
     "tableResultSettingsMap": {},
     "title": ""
    }
   },
   "outputs": [
    {
     "output_type": "stream",
     "name": "stdout",
     "output_type": "stream",
     "text": [
      "+---------+---------+-------+--------+--------+--------+--------+--------+--------+--------+--------+--------+--------+----------+------------+---------+----------+----------+----------+-----------+-----------+----------+-----------+-----------+---------+----------+----------+----------+--------+---------+------+------+--------+---------+---------+---------+----------+----------+---------+----------+----------+--------+---------+---------+---------+-------+--------+\n|genre_1  |genre_2  |genre_3|CVotes10|CVotes09|CVotes08|CVotes07|CVotes06|CVotes05|CVotes04|CVotes03|CVotes02|CVotes01|CVotesMale|CVotesFemale|CVotesU18|CVotesU18M|CVotesU18F|CVotes1829|CVotes1829M|CVotes1829F|CVotes3044|CVotes3044M|CVotes3044F|CVotes45A|CVotes45AM|CVotes45AF|CVotes1000|CVotesUS|CVotesnUS|VotesM|VotesF|VotesU18|VotesU18M|VotesU18F|Votes1829|Votes1829M|Votes1829F|Votes3044|Votes3044M|Votes3044F|Votes45A|Votes45AM|Votes45AF|Votes1000|VotesUS|VotesnUS|\n+---------+---------+-------+--------+--------+--------+--------+--------+--------+--------+--------+--------+--------+----------+------------+---------+----------+----------+----------+-----------+-----------+----------+-----------+-----------+---------+----------+----------+----------+--------+---------+------+------+--------+---------+---------+---------+----------+----------+---------+----------+----------+--------+---------+---------+---------+-------+--------+\n|Action   |Adventure|Fantasy|155391  |161810  |166378  |99402   |40734   |18060   |8751    |5970    |4489    |15768   |425971    |68664       |4722     |3919      |768       |220467    |183671     |34366      |187138    |162918     |21362      |42942    |36441     |5729      |712       |85141   |250769   |8.0   |8.3   |8.5     |8.5      |8.6      |8.2      |8.2       |8.3       |8.0      |7.9       |8.2       |7.9     |7.8      |8.2      |7.7      |8.2    |7.9     |\n|Action   |Sci-Fi   |null   |260257  |234203  |264290  |162604  |67579   |27957   |12176   |7201    |4996    |15528   |691783    |151617      |4953     |3767      |1150      |432999    |343012     |85465      |295318    |247617     |43303      |54282    |44183     |9138      |842       |145826  |423958   |8.0   |8.2   |8.2     |8.2      |8.5      |8.1      |8.1       |8.3       |8.0      |8.0       |8.1       |7.9     |7.9      |8.1      |7.4      |8.3    |7.9     |\n|Action   |Adventure|Comedy |147467  |147966  |170810  |105717  |41811   |15510   |7046    |4273    |3037    |8538    |391955    |79804       |4598     |3601      |969       |232840    |186139     |44316      |159222    |135428     |21521      |28753    |24218     |4009      |667       |67933   |241138   |8.0   |8.1   |8.4     |8.4      |8.6      |8.1      |8.1       |8.1       |7.9      |7.9       |7.9       |7.8     |7.8      |7.9      |7.3      |8.1    |7.9     |\n|Action   |Adventure|Mystery|85219   |83874   |150153  |121748  |50575   |18571   |7591    |4094    |2675    |6978    |307237    |115421      |3650     |1956      |1664      |218884    |148652     |67934      |140683    |109976     |28735      |27789    |21545     |5771      |693       |68521   |221430   |7.4   |8.1   |8.0     |7.7      |8.5      |7.8      |7.6       |8.2       |7.3      |7.2       |7.9       |7.3     |7.2      |7.9      |6.7      |7.7    |7.4     |\n|Animation|Adventure|Comedy |139773  |149992  |158704  |88289   |31291   |11850   |4859    |2932    |2119    |6586    |389014    |98386       |3202     |2405      |776       |260519    |199962     |58366      |169886    |140253     |27658      |32457    |26171     |5806      |769       |105490  |267692   |8.3   |8.3   |8.2     |8.3      |8.0      |8.4      |8.5       |8.4       |8.2      |8.2       |8.3       |8.1     |8.1      |8.1      |8.1      |8.5    |8.3     |\n+---------+---------+-------+--------+--------+--------+--------+--------+--------+--------+--------+--------+--------+----------+------------+---------+----------+----------+----------+-----------+-----------+----------+-----------+-----------+---------+----------+----------+----------+--------+---------+------+------+--------+---------+---------+---------+----------+----------+---------+----------+----------+--------+---------+---------+---------+-------+--------+\nonly showing top 5 rows\n\n"
     ]
    }
   ],
   "source": [
    "# Create the dataframe df_by_genre\n",
    "\n",
    "# Define the desired columns by name\n",
    "selected_columns = [\n",
    "    \"genre_1\", \"genre_2\", \"genre_3\",  # columns 11-13\n",
    "    \"CVotes10\", \"CVotes09\", \"CVotes08\", \"CVotes07\", \"CVotes06\", \"CVotes05\", \"CVotes04\", \"CVotes03\",\n",
    "    \"CVotes02\", \"CVotes01\", \"CVotesMale\", \"CVotesFemale\", \"CVotesU18\", \"CVotesU18M\", \"CVotesU18F\",\n",
    "    \"CVotes1829\", \"CVotes1829M\", \"CVotes1829F\", \"CVotes3044\", \"CVotes3044M\", \"CVotes3044F\",\n",
    "    \"CVotes45A\", \"CVotes45AM\", \"CVotes45AF\", \"CVotes1000\", \"CVotesUS\", \"CVotesnUS\",\n",
    "    \"VotesM\", \"VotesF\", \"VotesU18\", \"VotesU18M\", \"VotesU18F\", \"Votes1829\", \"Votes1829M\",\n",
    "    \"Votes1829F\", \"Votes3044\", \"Votes3044M\", \"Votes3044F\", \"Votes45A\", \"Votes45AM\", \"Votes45AF\",\n",
    "    \"Votes1000\", \"VotesUS\", \"VotesnUS\"\n",
    "]\n",
    "\n",
    "# Create the new DataFrame\n",
    "df_by_genre = movies.select(*selected_columns)\n",
    "\n",
    "# Show a preview\n",
    "df_by_genre.show(5, truncate=False)\n",
    "\n"
   ]
  },
  {
   "cell_type": "code",
   "execution_count": 0,
   "metadata": {
    "application/vnd.databricks.v1+cell": {
     "cellMetadata": {
      "byteLimit": 2048000,
      "rowLimit": 10000
     },
     "inputWidgets": {},
     "nuid": "dad78ed7-386a-472b-b7d4-84123bddd625",
     "showTitle": false,
     "tableResultSettingsMap": {},
     "title": ""
    }
   },
   "outputs": [
    {
     "output_type": "stream",
     "name": "stdout",
     "output_type": "stream",
     "text": [
      "+---------+---------+-------+--------+--------+--------+--------+--------+--------+--------+--------+--------+--------+----------+------------+---------+----------+----------+----------+-----------+-----------+----------+-----------+-----------+---------+----------+----------+----------+--------+---------+------+------+--------+---------+---------+---------+----------+----------+---------+----------+----------+--------+---------+---------+---------+-------+--------+---+\n|genre_1  |genre_2  |genre_3|CVotes10|CVotes09|CVotes08|CVotes07|CVotes06|CVotes05|CVotes04|CVotes03|CVotes02|CVotes01|CVotesMale|CVotesFemale|CVotesU18|CVotesU18M|CVotesU18F|CVotes1829|CVotes1829M|CVotes1829F|CVotes3044|CVotes3044M|CVotes3044F|CVotes45A|CVotes45AM|CVotes45AF|CVotes1000|CVotesUS|CVotesnUS|VotesM|VotesF|VotesU18|VotesU18M|VotesU18F|Votes1829|Votes1829M|Votes1829F|Votes3044|Votes3044M|Votes3044F|Votes45A|Votes45AM|Votes45AF|Votes1000|VotesUS|VotesnUS|cnt|\n+---------+---------+-------+--------+--------+--------+--------+--------+--------+--------+--------+--------+--------+----------+------------+---------+----------+----------+----------+-----------+-----------+----------+-----------+-----------+---------+----------+----------+----------+--------+---------+------+------+--------+---------+---------+---------+----------+----------+---------+----------+----------+--------+---------+---------+---------+-------+--------+---+\n|Action   |Adventure|Fantasy|155391  |161810  |166378  |99402   |40734   |18060   |8751    |5970    |4489    |15768   |425971    |68664       |4722     |3919      |768       |220467    |183671     |34366      |187138    |162918     |21362      |42942    |36441     |5729      |712       |85141   |250769   |8.0   |8.3   |8.5     |8.5      |8.6      |8.2      |8.2       |8.3       |8.0      |7.9       |8.2       |7.9     |7.8      |8.2      |7.7      |8.2    |7.9     |1  |\n|Action   |Sci-Fi   |null   |260257  |234203  |264290  |162604  |67579   |27957   |12176   |7201    |4996    |15528   |691783    |151617      |4953     |3767      |1150      |432999    |343012     |85465      |295318    |247617     |43303      |54282    |44183     |9138      |842       |145826  |423958   |8.0   |8.2   |8.2     |8.2      |8.5      |8.1      |8.1       |8.3       |8.0      |8.0       |8.1       |7.9     |7.9      |8.1      |7.4      |8.3    |7.9     |1  |\n|Action   |Adventure|Comedy |147467  |147966  |170810  |105717  |41811   |15510   |7046    |4273    |3037    |8538    |391955    |79804       |4598     |3601      |969       |232840    |186139     |44316      |159222    |135428     |21521      |28753    |24218     |4009      |667       |67933   |241138   |8.0   |8.1   |8.4     |8.4      |8.6      |8.1      |8.1       |8.1       |7.9      |7.9       |7.9       |7.8     |7.8      |7.9      |7.3      |8.1    |7.9     |1  |\n|Action   |Adventure|Mystery|85219   |83874   |150153  |121748  |50575   |18571   |7591    |4094    |2675    |6978    |307237    |115421      |3650     |1956      |1664      |218884    |148652     |67934      |140683    |109976     |28735      |27789    |21545     |5771      |693       |68521   |221430   |7.4   |8.1   |8.0     |7.7      |8.5      |7.8      |7.6       |8.2       |7.3      |7.2       |7.9       |7.3     |7.2      |7.9      |6.7      |7.7    |7.4     |1  |\n|Animation|Adventure|Comedy |139773  |149992  |158704  |88289   |31291   |11850   |4859    |2932    |2119    |6586    |389014    |98386       |3202     |2405      |776       |260519    |199962     |58366      |169886    |140253     |27658      |32457    |26171     |5806      |769       |105490  |267692   |8.3   |8.3   |8.2     |8.3      |8.0      |8.4      |8.5       |8.4       |8.2      |8.2       |8.3       |8.1     |8.1      |8.1      |8.1      |8.5    |8.3     |1  |\n+---------+---------+-------+--------+--------+--------+--------+--------+--------+--------+--------+--------+--------+----------+------------+---------+----------+----------+----------+-----------+-----------+----------+-----------+-----------+---------+----------+----------+----------+--------+---------+------+------+--------+---------+---------+---------+----------+----------+---------+----------+----------+--------+---------+---------+---------+-------+--------+---+\nonly showing top 5 rows\n\n"
     ]
    }
   ],
   "source": [
    "# Create a column cnt and initialize it to 1\n",
    "\n",
    "from pyspark.sql.functions import lit\n",
    "\n",
    "df_by_genre = df_by_genre.withColumn(\"cnt\", lit(1))\n",
    "\n",
    "# Show a few rows to verify\n",
    "df_by_genre.show(5, truncate=False)\n",
    "\n"
   ]
  },
  {
   "cell_type": "code",
   "execution_count": 0,
   "metadata": {
    "application/vnd.databricks.v1+cell": {
     "cellMetadata": {
      "byteLimit": 2048000,
      "rowLimit": 10000
     },
     "inputWidgets": {},
     "nuid": "e76d5b89-1fa3-462e-a8d2-39cd65dcfafb",
     "showTitle": false,
     "tableResultSettingsMap": {},
     "title": ""
    }
   },
   "outputs": [
    {
     "output_type": "stream",
     "name": "stdout",
     "output_type": "stream",
     "text": [
      "+---------+-----------+\n|Genre    |Movie_Count|\n+---------+-----------+\n|Drama    |65         |\n|Adventure|38         |\n|Action   |31         |\n|Comedy   |23         |\n|Biography|18         |\n|Sci-Fi   |17         |\n|Romance  |13         |\n|Thriller |13         |\n|Crime    |11         |\n|Animation|11         |\n|Mystery  |7          |\n|Fantasy  |7          |\n|History  |4          |\n|Sport    |3          |\n|War      |2          |\n|Family   |2          |\n|Music    |2          |\n|Western  |2          |\n|Musical  |1          |\n|Horror   |1          |\n+---------+-----------+\n\n"
     ]
    }
   ],
   "source": [
    "# Group the movies by individual genres\n",
    "\n",
    "# Step 1: Create separate DataFrames\n",
    "genre1 = df_by_genre.select(col(\"genre_1\").alias(\"Genre\"), \"cnt\")\n",
    "genre2 = df_by_genre.select(col(\"genre_2\").alias(\"Genre\"), \"cnt\")\n",
    "genre3 = df_by_genre.select(col(\"genre_3\").alias(\"Genre\"), \"cnt\")\n",
    "\n",
    "# Step 2: Union all genres\n",
    "all_genres = genre1.union(genre2).union(genre3)\n",
    "\n",
    "# Step 3: Group by Genre and sum counts\n",
    "genre_grouped = all_genres.groupBy(\"Genre\").sum(\"cnt\").withColumnRenamed(\"sum(cnt)\", \"Movie_Count\")\n",
    "\n",
    "# Step 4: Filter out null genres (in case there are missing genre_2 or genre_3)\n",
    "genre_grouped = genre_grouped.filter(col(\"Genre\").isNotNull())\n",
    "\n",
    "# Step 5: Show the grouped genres\n",
    "genre_grouped.orderBy(col(\"Movie_Count\").desc()).show(truncate=False)\n"
   ]
  },
  {
   "cell_type": "code",
   "execution_count": 0,
   "metadata": {
    "application/vnd.databricks.v1+cell": {
     "cellMetadata": {
      "byteLimit": 2048000,
      "rowLimit": 10000
     },
     "inputWidgets": {},
     "nuid": "2d897125-f904-4c3d-b023-45a14624b163",
     "showTitle": false,
     "tableResultSettingsMap": {},
     "title": ""
    }
   },
   "outputs": [
    {
     "output_type": "stream",
     "name": "stdout",
     "output_type": "stream",
     "text": [
      "+---------+-----------+\n|Genre    |Movie_Count|\n+---------+-----------+\n|Drama    |65         |\n|Adventure|38         |\n|Action   |31         |\n|Comedy   |23         |\n|Biography|18         |\n|Sci-Fi   |17         |\n|Romance  |13         |\n|Thriller |13         |\n|Crime    |11         |\n|Animation|11         |\n|Mystery  |7          |\n|Fantasy  |7          |\n|History  |4          |\n|Sport    |3          |\n|War      |2          |\n|Family   |2          |\n|Music    |2          |\n|Western  |2          |\n|Musical  |1          |\n|Horror   |1          |\n+---------+-----------+\n\n"
     ]
    }
   ],
   "source": [
    "# Add the grouped data frames and store it in a new data frame\n",
    "\n",
    "from pyspark.sql.functions import col\n",
    "\n",
    "# Select genre and cnt from each\n",
    "genre1 = df_by_genre.select(col(\"genre_1\").alias(\"Genre\"), \"cnt\")\n",
    "genre2 = df_by_genre.select(col(\"genre_2\").alias(\"Genre\"), \"cnt\")\n",
    "genre3 = df_by_genre.select(col(\"genre_3\").alias(\"Genre\"), \"cnt\")\n",
    "\n",
    "# Union all genres together\n",
    "all_genres = genre1.union(genre2).union(genre3)\n",
    "\n",
    "# Group by Genre and sum cnt\n",
    "final_genre_df = all_genres.groupBy(\"Genre\").sum(\"cnt\").withColumnRenamed(\"sum(cnt)\", \"Movie_Count\")\n",
    "\n",
    "# Filter out null genres\n",
    "final_genre_df = final_genre_df.filter(col(\"Genre\").isNotNull())\n",
    "\n",
    "# View the result\n",
    "final_genre_df.orderBy(col(\"Movie_Count\").desc()).show(truncate=False)\n",
    "\n"
   ]
  },
  {
   "cell_type": "code",
   "execution_count": 0,
   "metadata": {
    "application/vnd.databricks.v1+cell": {
     "cellMetadata": {
      "byteLimit": 2048000,
      "rowLimit": 10000
     },
     "inputWidgets": {},
     "nuid": "4f972689-d6a0-4dba-9629-7ed4b075dda5",
     "showTitle": false,
     "tableResultSettingsMap": {},
     "title": ""
    }
   },
   "outputs": [
    {
     "output_type": "stream",
     "name": "stdout",
     "output_type": "stream",
     "text": [
      "+---------+-----------+\n|Genre    |Movie_Count|\n+---------+-----------+\n|Drama    |65         |\n|Adventure|38         |\n|Action   |31         |\n|Comedy   |23         |\n|Biography|18         |\n|Sci-Fi   |17         |\n|Romance  |13         |\n|Thriller |13         |\n|Crime    |11         |\n|Animation|11         |\n+---------+-----------+\n\n"
     ]
    }
   ],
   "source": [
    "# Get and display genres with atleast 10 occurences\n",
    "\n",
    "# Filter genres with at least 10 occurrences\n",
    "popular_genres = final_genre_df.filter(col(\"Movie_Count\") >= 10)\n",
    "\n",
    "# Show the result\n",
    "popular_genres.orderBy(col(\"Movie_Count\").desc()).show(truncate=False)\n",
    "\n",
    "\n"
   ]
  },
  {
   "cell_type": "code",
   "execution_count": 0,
   "metadata": {
    "application/vnd.databricks.v1+cell": {
     "cellMetadata": {
      "byteLimit": 2048000,
      "rowLimit": 10000
     },
     "inputWidgets": {},
     "nuid": "bfacbb01-c612-41c4-ae2b-5f5da6d3b429",
     "showTitle": false,
     "tableResultSettingsMap": {},
     "title": ""
    }
   },
   "outputs": [
    {
     "output_type": "stream",
     "name": "stdout",
     "output_type": "stream",
     "text": [
      "+---------+------------------+------------------+------------------+------------------+------------------+------------------+------------------+------------------+------------------+------------------+------------------+-----------------+------------------+------------------+------------------+------------------+------------------+------------------+------------------+------------------+------------------+------------------+------------------+------------------+-----------------+------------------+------------------+-----------------+-----------------+-----------------+-----------------+-----------------+------------------+-----------------+-----------------+------------------+------------------+-----------------+------------------+-----------------+------------------+------------------+-----------------+-----------------+-----------+\n|Genre    |CVotes10          |CVotes09          |CVotes08          |CVotes07          |CVotes06          |CVotes05          |CVotes04          |CVotes03          |CVotes02          |CVotes01          |CVotesMale        |CVotesFemale     |CVotesU18         |CVotesU18M        |CVotesU18F        |CVotes1829        |CVotes1829M       |CVotes1829F       |CVotes3044        |CVotes3044M       |CVotes3044F       |CVotes45A         |CVotes45AM        |CVotes45AF        |CVotes1000       |CVotesUS          |CVotesnUS         |VotesM           |VotesF           |VotesU18         |VotesU18M        |VotesU18F        |Votes1829         |Votes1829M       |Votes1829F       |Votes3044         |Votes3044M        |Votes3044F       |Votes45A          |Votes45AM        |Votes45AF         |Votes1000         |VotesUS          |VotesnUS         |Movie_Count|\n+---------+------------------+------------------+------------------+------------------+------------------+------------------+------------------+------------------+------------------+------------------+------------------+-----------------+------------------+------------------+------------------+------------------+------------------+------------------+------------------+------------------+------------------+------------------+------------------+------------------+-----------------+------------------+------------------+-----------------+-----------------+-----------------+-----------------+-----------------+------------------+-----------------+-----------------+------------------+------------------+-----------------+------------------+-----------------+------------------+------------------+-----------------+-----------------+-----------+\n|Action   |108459.51851851853|120811.81481481482|157321.96296296295|98593.33333333333 |36547.18518518518 |13490.148148148148|5783.333333333333 |3314.185185185185 |2295.3703703703704|6015.777777777777 |370171.037037037  |68847.77777777778|2498.1481481481483|1973.7407407407406|506.1111111111111 |212476.7037037037 |173328.44444444444|37077.666666666664|164809.5185185185 |141303.85185185185|21212.25925925926 |30787.74074074074 |25787.11111111111 |4466.518518518518 |695.8518518518518|72758.92592592593 |237464.88888888888|7.844444444444442|7.896296296296297|8.196296296296296|8.177777777777779|8.277777777777779|7.988888888888887 |7.985185185185185|7.974074074074074|7.7444444444444445|7.7333333333333325|7.777777777777778|7.648148148148148 |7.62962962962963 |7.7407407407407405|7.303703703703703 |7.992592592592593|7.759259259259259|27         |\n|Drama    |60040.27777777778 |83002.94444444444 |101520.16666666667|59942.555555555555|23178.055555555555|9104.111111111111 |4195.833333333333 |2547.0            |1781.5555555555557|3970.222222222222 |216288.5          |64680.88888888889|1403.888888888889 |936.5555555555555 |453.5             |139367.77777777778|101385.0          |36538.38888888889 |102774.66666666667|82469.83333333333 |18792.833333333332|21433.444444444445|16993.722222222223|4054.4444444444443|566.7222222222222|43561.61111111111 |159541.0          |7.872222222222224|7.888888888888889|8.283333333333333|8.244444444444444|8.211111111111112|8.038888888888886 |8.038888888888888|7.972222222222222|7.738888888888886 |7.7222222222222205|7.76111111111111 |7.6499999999999995|7.622222222222222|7.705555555555557 |7.222222222222222 |7.955555555555555|7.83888888888889 |18         |\n|Biography|51294.692307692305|83725.38461538461 |127284.92307692308|74075.15384615384 |23557.46153846154 |7692.692307692308 |2990.3076923076924|1656.6153846153845|1181.923076923077 |2882.230769230769 |242408.53846153847|60831.46153846154|1329.5384615384614|993.3846153846154 |323.84615384615387|150285.23076923078|115842.23076923077|32931.0           |111511.61538461539|91223.07692307692 |18690.46153846154 |23156.615384615383|18305.23076923077 |4453.7692307692305|586.1538461538462|45777.38461538462 |173994.53846153847|7.869230769230769|7.915384615384615|8.207692307692307|8.184615384615386|8.207692307692307|7.9923076923076914|8.007692307692306|7.953846153846153|7.753846153846154 |7.746153846153846 |7.792307692307693|7.73076923076923  |7.692307692307692|7.915384615384615 |7.2846153846153845|7.946153846153846|7.807692307692307|13         |\n|Adventure|88231.58333333333 |98318.16666666667 |130045.08333333333|80522.91666666667 |30457.166666666668|11415.416666666666|4879.916666666667 |2764.5            |1834.8333333333333|4008.3333333333335|294589.1666666667 |66908.5          |1959.4166666666667|1510.6666666666667|432.9166666666667 |179444.5          |140454.41666666666|37205.5           |132159.75         |110296.33333333333|19987.166666666668|27136.666666666668|22187.25          |4471.333333333333 |674.9166666666666|54938.583333333336|205330.33333333334|7.841666666666666|7.949999999999999|8.200000000000001|8.166666666666668|8.175            |8.0               |8.016666666666667|8.033333333333333|7.725000000000001 |7.716666666666668 |7.791666666666668|7.666666666666667 |7.633333333333333|7.816666666666666 |7.408333333333334 |7.941666666666667|7.791666666666665|12         |\n|Animation|61960.181818181816|72566.09090909091 |104837.63636363637|65707.45454545454 |22825.090909090908|7551.727272727273 |2792.5454545454545|1430.2727272727273|911.4545454545455 |2290.2727272727275|207544.0909090909 |65894.90909090909|2166.818181818182 |1486.7272727272727|664.2727272727273 |144420.9090909091 |103695.09090909091|39314.90909090909 |94853.36363636363 |75824.45454545454 |17751.636363636364|16305.90909090909 |12966.90909090909 |3063.5454545454545|578.5454545454545|47673.27272727273 |150424.0909090909 |7.854545454545454|8.118181818181817|8.08181818181818 |7.972727272727273|8.245454545454546|8.045454545454547 |7.990909090909093|8.200000000000001|7.763636363636363 |7.718181818181818 |7.981818181818183|7.681818181818182 |7.645454545454546|7.881818181818184 |7.2727272727272725|7.963636363636365|7.827272727272728|11         |\n+---------+------------------+------------------+------------------+------------------+------------------+------------------+------------------+------------------+------------------+------------------+------------------+-----------------+------------------+------------------+------------------+------------------+------------------+------------------+------------------+------------------+------------------+------------------+------------------+------------------+-----------------+------------------+------------------+-----------------+-----------------+-----------------+-----------------+-----------------+------------------+-----------------+-----------------+------------------+------------------+-----------------+------------------+-----------------+------------------+------------------+-----------------+-----------------+-----------+\n\n"
     ]
    }
   ],
   "source": [
    "from pyspark.sql.functions import sum as _sum\n",
    "\n",
    "# 1. List of columns you want to average\n",
    "columns_to_average = [\n",
    "    \"CVotes10\", \"CVotes09\", \"CVotes08\", \"CVotes07\", \"CVotes06\", \"CVotes05\", \"CVotes04\", \"CVotes03\",\n",
    "    \"CVotes02\", \"CVotes01\", \"CVotesMale\", \"CVotesFemale\", \"CVotesU18\", \"CVotesU18M\", \"CVotesU18F\",\n",
    "    \"CVotes1829\", \"CVotes1829M\", \"CVotes1829F\", \"CVotes3044\", \"CVotes3044M\", \"CVotes3044F\",\n",
    "    \"CVotes45A\", \"CVotes45AM\", \"CVotes45AF\", \"CVotes1000\", \"CVotesUS\", \"CVotesnUS\",\n",
    "    \"VotesM\", \"VotesF\", \"VotesU18\", \"VotesU18M\", \"VotesU18F\", \"Votes1829\", \"Votes1829M\",\n",
    "    \"Votes1829F\", \"Votes3044\", \"Votes3044M\", \"Votes3044F\", \"Votes45A\", \"Votes45AM\", \"Votes45AF\",\n",
    "    \"Votes1000\", \"VotesUS\", \"VotesnUS\"\n",
    "]\n",
    "\n",
    "# 2. Build aggregation expressions separately\n",
    "agg_exprs = []\n",
    "for col_name in columns_to_average:\n",
    "    agg_exprs.append(_sum(col_name).alias(col_name))\n",
    "agg_exprs.append(_sum(\"cnt\").alias(\"Movie_Count\"))\n",
    "\n",
    "# 3. Group by 'genre_1' and apply aggregation\n",
    "grouped = df_by_genre.groupBy(\"genre_1\").agg(*agg_exprs)\n",
    "\n",
    "# 4. Now divide each voting column by Movie_Count to get mean\n",
    "for col_name in columns_to_average:\n",
    "    grouped = grouped.withColumn(col_name, col(col_name) / col(\"Movie_Count\"))\n",
    "\n",
    "# 5. Rename 'genre_1' to 'Genre'\n",
    "grouped = grouped.withColumnRenamed(\"genre_1\", \"Genre\")\n",
    "\n",
    "# 6. (Optional) Filter genres with at least 10 movies\n",
    "grouped = grouped.filter(col(\"Movie_Count\") >= 10)\n",
    "\n",
    "# 7. Show the results\n",
    "grouped.orderBy(col(\"Movie_Count\").desc()).show(truncate=False)\n"
   ]
  },
  {
   "cell_type": "code",
   "execution_count": 0,
   "metadata": {
    "application/vnd.databricks.v1+cell": {
     "cellMetadata": {
      "byteLimit": 2048000,
      "rowLimit": 10000
     },
     "inputWidgets": {},
     "nuid": "d7acd7a8-3ce1-427f-9247-9d74e6b3b482",
     "showTitle": false,
     "tableResultSettingsMap": {},
     "title": ""
    }
   },
   "outputs": [
    {
     "output_type": "display_data",
     "data": {
      "text/plain": [
       "\u001B[0;31m---------------------------------------------------------------------------\u001B[0m\n",
       "\u001B[0;31mNameError\u001B[0m                                 Traceback (most recent call last)\n",
       "File \u001B[0;32m<command-34106903549518>:1\u001B[0m\n",
       "\u001B[0;32m----> 1\u001B[0m \u001B[43mgenre_top10\u001B[49m\n",
       "\n",
       "\u001B[0;31mNameError\u001B[0m: name 'genre_top10' is not defined"
      ]
     },
     "metadata": {
      "application/vnd.databricks.v1+output": {
       "arguments": {},
       "data": "\u001B[0;31m---------------------------------------------------------------------------\u001B[0m\n\u001B[0;31mNameError\u001B[0m                                 Traceback (most recent call last)\nFile \u001B[0;32m<command-34106903549518>:1\u001B[0m\n\u001B[0;32m----> 1\u001B[0m \u001B[43mgenre_top10\u001B[49m\n\n\u001B[0;31mNameError\u001B[0m: name 'genre_top10' is not defined",
       "errorSummary": "<span class='ansi-red-fg'>NameError</span>: name 'genre_top10' is not defined",
       "errorTraceType": "ansi",
       "metadata": {},
       "type": "ipynbError"
      }
     },
     "output_type": "display_data"
    }
   ],
   "source": [
    "genre_top10"
   ]
  },
  {
   "cell_type": "code",
   "execution_count": 0,
   "metadata": {
    "application/vnd.databricks.v1+cell": {
     "cellMetadata": {
      "byteLimit": 2048000,
      "rowLimit": 10000
     },
     "inputWidgets": {},
     "nuid": "4f334858-b276-40d4-8249-8ea573f0226e",
     "showTitle": false,
     "tableResultSettingsMap": {},
     "title": ""
    }
   },
   "outputs": [
    {
     "output_type": "display_data",
     "data": {
      "text/plain": [
       "\u001B[0;31m---------------------------------------------------------------------------\u001B[0m\n",
       "\u001B[0;31mNameError\u001B[0m                                 Traceback (most recent call last)\n",
       "File \u001B[0;32m<command-34106903549519>:3\u001B[0m\n",
       "\u001B[1;32m      1\u001B[0m \u001B[38;5;66;03m# Rounding off the columns of Votes to two decimals\u001B[39;00m\n",
       "\u001B[0;32m----> 3\u001B[0m genre_top10\u001B[38;5;241m.\u001B[39miloc[:,\u001B[38;5;241m27\u001B[39m:\u001B[38;5;241m44\u001B[39m] \u001B[38;5;241m=\u001B[39m \u001B[38;5;28mround\u001B[39m(\u001B[43mgenre_top10\u001B[49m\u001B[38;5;241m.\u001B[39miloc[:,\u001B[38;5;241m27\u001B[39m:\u001B[38;5;241m44\u001B[39m],\u001B[38;5;241m2\u001B[39m)\n",
       "\n",
       "\u001B[0;31mNameError\u001B[0m: name 'genre_top10' is not defined"
      ]
     },
     "metadata": {
      "application/vnd.databricks.v1+output": {
       "arguments": {},
       "data": "\u001B[0;31m---------------------------------------------------------------------------\u001B[0m\n\u001B[0;31mNameError\u001B[0m                                 Traceback (most recent call last)\nFile \u001B[0;32m<command-34106903549519>:3\u001B[0m\n\u001B[1;32m      1\u001B[0m \u001B[38;5;66;03m# Rounding off the columns of Votes to two decimals\u001B[39;00m\n\u001B[0;32m----> 3\u001B[0m genre_top10\u001B[38;5;241m.\u001B[39miloc[:,\u001B[38;5;241m27\u001B[39m:\u001B[38;5;241m44\u001B[39m] \u001B[38;5;241m=\u001B[39m \u001B[38;5;28mround\u001B[39m(\u001B[43mgenre_top10\u001B[49m\u001B[38;5;241m.\u001B[39miloc[:,\u001B[38;5;241m27\u001B[39m:\u001B[38;5;241m44\u001B[39m],\u001B[38;5;241m2\u001B[39m)\n\n\u001B[0;31mNameError\u001B[0m: name 'genre_top10' is not defined",
       "errorSummary": "<span class='ansi-red-fg'>NameError</span>: name 'genre_top10' is not defined",
       "errorTraceType": "ansi",
       "metadata": {},
       "type": "ipynbError"
      }
     },
     "output_type": "display_data"
    }
   ],
   "source": [
    "# Rounding off the columns of Votes to two decimals\n",
    "\n",
    "genre_top10.iloc[:,27:44] = round(genre_top10.iloc[:,27:44],2)"
   ]
  },
  {
   "cell_type": "code",
   "execution_count": 0,
   "metadata": {
    "application/vnd.databricks.v1+cell": {
     "cellMetadata": {
      "byteLimit": 2048000,
      "rowLimit": 10000
     },
     "inputWidgets": {},
     "nuid": "60c1c61a-b711-4389-abc4-ccaed13eb98a",
     "showTitle": false,
     "tableResultSettingsMap": {},
     "title": ""
    }
   },
   "outputs": [
    {
     "output_type": "display_data",
     "data": {
      "text/plain": [
       ""
      ]
     },
     "metadata": {
      "application/vnd.databricks.v1+output": {
       "arguments": {},
       "data": "",
       "errorSummary": "Command skipped",
       "errorTraceType": "ansi",
       "metadata": {},
       "type": "ipynbError"
      }
     },
     "output_type": "display_data"
    }
   ],
   "source": [
    "# Converting CVotes to int type\n",
    "\n",
    "genre_top10.iloc[:,0:27] = genre_top10.iloc[:,0:27].astype(int)\n"
   ]
  },
  {
   "cell_type": "markdown",
   "metadata": {
    "application/vnd.databricks.v1+cell": {
     "cellMetadata": {
      "byteLimit": 2048000,
      "rowLimit": 10000
     },
     "inputWidgets": {},
     "nuid": "b6f30525-3493-491b-a47e-cd6cc3631747",
     "showTitle": false,
     "tableResultSettingsMap": {},
     "title": ""
    }
   },
   "source": [
    "If you take a look at the final dataframe that you have gotten, you will see that you now have the complete information about all the demographic (Votes- and CVotes-related) columns across the top 10 genres. We can use this dataset to extract exciting insights about the voters!"
   ]
  },
  {
   "cell_type": "markdown",
   "metadata": {
    "application/vnd.databricks.v1+cell": {
     "cellMetadata": {
      "byteLimit": 2048000,
      "rowLimit": 10000
     },
     "inputWidgets": {},
     "nuid": "756f4f61-251f-4eba-9ab5-deb365578da9",
     "showTitle": false,
     "tableResultSettingsMap": {},
     "title": ""
    }
   },
   "source": [
    "-  ###  Subtask 3.2: Genre Counts!\n",
    "\n",
    "Now let's derive some insights from this data frame. Make a bar chart plotting different genres vs cnt using seaborn."
   ]
  },
  {
   "cell_type": "code",
   "execution_count": 0,
   "metadata": {
    "application/vnd.databricks.v1+cell": {
     "cellMetadata": {
      "byteLimit": 2048000,
      "rowLimit": 10000
     },
     "inputWidgets": {},
     "nuid": "e8617c8e-1021-4aba-a436-8a9396eca563",
     "showTitle": false,
     "tableResultSettingsMap": {},
     "title": ""
    }
   },
   "outputs": [
    {
     "output_type": "display_data",
     "data": {
      "text/plain": [
       ""
      ]
     },
     "metadata": {
      "application/vnd.databricks.v1+output": {
       "arguments": {},
       "data": "",
       "errorSummary": "Command skipped",
       "errorTraceType": "ansi",
       "metadata": {},
       "type": "ipynbError"
      }
     },
     "output_type": "display_data"
    }
   ],
   "source": [
    "# Countplot for genres\n",
    "\n",
    "genre_top10.cnt.plot.bar()\n"
   ]
  },
  {
   "cell_type": "markdown",
   "metadata": {
    "application/vnd.databricks.v1+cell": {
     "cellMetadata": {
      "byteLimit": 2048000,
      "rowLimit": 10000
     },
     "inputWidgets": {},
     "nuid": "9f7e14a5-50aa-4f17-9979-516df475ddcf",
     "showTitle": false,
     "tableResultSettingsMap": {},
     "title": ""
    }
   },
   "source": [
    "**`Checkpoint 5:`** Is the bar for `Drama` the tallest? **Yes**"
   ]
  },
  {
   "cell_type": "code",
   "execution_count": 0,
   "metadata": {
    "application/vnd.databricks.v1+cell": {
     "cellMetadata": {
      "byteLimit": 2048000,
      "rowLimit": 10000
     },
     "inputWidgets": {},
     "nuid": "c4b16e2b-8a72-4ba9-a0ea-d2b1cd7bb66e",
     "showTitle": false,
     "tableResultSettingsMap": {},
     "title": ""
    }
   },
   "outputs": [
    {
     "output_type": "display_data",
     "data": {
      "text/plain": [
       ""
      ]
     },
     "metadata": {
      "application/vnd.databricks.v1+output": {
       "arguments": {},
       "data": "",
       "errorSummary": "Command skipped",
       "errorTraceType": "ansi",
       "metadata": {},
       "type": "ipynbError"
      }
     },
     "output_type": "display_data"
    }
   ],
   "source": [
    "# find the most popular genre\n",
    "\n"
   ]
  },
  {
   "cell_type": "markdown",
   "metadata": {
    "application/vnd.databricks.v1+cell": {
     "cellMetadata": {
      "byteLimit": 2048000,
      "rowLimit": 10000
     },
     "inputWidgets": {},
     "nuid": "cc62df84-f008-484c-9ab6-cd8016494acf",
     "showTitle": false,
     "tableResultSettingsMap": {},
     "title": ""
    }
   },
   "source": [
    "-  ###  Subtask 3.3: Gender and Genre\n",
    "\n",
    "If you have closely looked at the Votes- and CVotes-related columns, you might have noticed the suffixes `F` and `M` indicating Female and Male. Since we have the vote counts for both males and females, across various age groups, let's now see how the popularity of genres vary between the two genders in the dataframe. \n",
    "\n",
    "1. Make the first heatmap to see how the average number of votes of males is varying across the genres. Use seaborn heatmap for this analysis. The X-axis should contain the four age-groups for males, i.e., `CVotesU18M`,`CVotes1829M`, `CVotes3044M`, and `CVotes45AM`. The Y-axis will have the genres and the annotation in the heatmap tell the average number of votes for that age-male group. \n",
    "\n",
    "2. Make the second heatmap to see how the average number of votes of females is varying across the genres. Use seaborn heatmap for this analysis. The X-axis should contain the four age-groups for females, i.e., `CVotesU18F`,`CVotes1829F`, `CVotes3044F`, and `CVotes45AF`. The Y-axis will have the genres and the annotation in the heatmap tell the average number of votes for that age-female group. \n",
    "\n",
    "3. Make sure that you plot these heatmaps side by side using `subplots` so that you can easily compare the two genders and derive insights.\n",
    "\n",
    "4. Write your any three inferences from this plot. You can make use of the previous bar plot also here for better insights.\n",
    "Refer to this link- https://seaborn.pydata.org/generated/seaborn.heatmap.html. You might have to plot something similar to the fifth chart in this page (You have to plot two such heatmaps side by side).\n",
    "\n",
    "5. Repeat subtasks 1 to 4, but now instead of taking the CVotes-related columns, you need to do the same process for the Votes-related columns. These heatmaps will show you how the two genders have rated movies across various genres.\n",
    "\n",
    "You might need the below link for formatting your heatmap.\n",
    "https://stackoverflow.com/questions/56942670/matplotlib-seaborn-first-and-last-row-cut-in-half-of-heatmap-plot\n",
    "\n",
    "-  Note : Use `genre_top10` dataframe for this subtask"
   ]
  },
  {
   "cell_type": "code",
   "execution_count": 0,
   "metadata": {
    "application/vnd.databricks.v1+cell": {
     "cellMetadata": {
      "byteLimit": 2048000,
      "rowLimit": 10000
     },
     "inputWidgets": {},
     "nuid": "64ce479b-e353-4824-9964-29258e944d9b",
     "showTitle": false,
     "tableResultSettingsMap": {},
     "title": ""
    }
   },
   "outputs": [
    {
     "output_type": "display_data",
     "data": {
      "text/plain": [
       ""
      ]
     },
     "metadata": {
      "application/vnd.databricks.v1+output": {
       "arguments": {},
       "data": "",
       "errorSummary": "Command skipped",
       "errorTraceType": "ansi",
       "metadata": {},
       "type": "ipynbError"
      }
     },
     "output_type": "display_data"
    }
   ],
   "source": [
    "# 1st set of heat maps for CVotes-related columns\n",
    "\n",
    "plt.figure(figsize=(20,8))\n",
    "plt.subplot(1,2,1)\n",
    "heatmap_m = sns.heatmap(genre_top10.iloc[:,13:23:3],annot=True,cmap=\"Spectral_r\")\n",
    "bottom, top = heatmap_m.get_ylim()\n",
    "heatmap_m.set_ylim(bottom + 0.5, top - 0.5)\n",
    "plt.subplot(1,2,2)\n",
    "heatmap_f = sns.heatmap(genre_top10.iloc[:,14:24:3],annot=True,cmap=\"Spectral_r\")\n",
    "bottom, top = heatmap_f.get_ylim()\n",
    "heatmap_f.set_ylim(bottom + 0.5, top - 0.5)\n",
    "plt.show()\n"
   ]
  },
  {
   "cell_type": "markdown",
   "metadata": {
    "application/vnd.databricks.v1+cell": {
     "cellMetadata": {
      "byteLimit": 2048000,
      "rowLimit": 10000
     },
     "inputWidgets": {},
     "nuid": "139dbeaf-7f94-4b34-8b49-0e850d9273b7",
     "showTitle": false,
     "tableResultSettingsMap": {},
     "title": ""
    }
   },
   "source": [
    "**`Inferences:`** A few inferences that can be seen from the heatmap above is that males have voted more than females, and Sci-Fi appears to be most popular among the 18-29 age group irrespective of their gender. What more can you infer from the two heatmaps that you have plotted? Write your three inferences/observations below:\n",
    "- **Inference 1**: Sci-Fi also appears to be the most popular category among males and females of age 30-44 and above 45 as well (also applies for males and females of age under 18)\n",
    "\n",
    "- **Inference 2**: Thriller and action seem to the second and adventure seems to be the third favourtie category among males of age 18-29 (animation seems to be the least favourite) whereas adventure seems to be the second and animation seems to be the thrid favourite category among females of age 18-29 (crime seems to be the least favourite). This implies that males of age 18-29 would rather watch any other genre of movie than animation whereas the females of age 18-29 would rather watch any other genre of movie than crime \n",
    "\n",
    "- **Inference 3**: Males of age under 18 like romantic movies the least whereas thats not the case with females under 18, who like crime movies the least.\n",
    "\n",
    "- **Inference 4**: Crime movies are generally the least favourite among females of all ages except when they turn above 45. They somehow like crime movies more than animated movies which used to be their favourite in their younger days. "
   ]
  },
  {
   "cell_type": "code",
   "execution_count": 0,
   "metadata": {
    "application/vnd.databricks.v1+cell": {
     "cellMetadata": {
      "byteLimit": 2048000,
      "rowLimit": 10000
     },
     "inputWidgets": {},
     "nuid": "480a9fd2-cbce-4018-a141-220ce57806ef",
     "showTitle": false,
     "tableResultSettingsMap": {},
     "title": ""
    }
   },
   "outputs": [
    {
     "output_type": "display_data",
     "data": {
      "text/plain": [
       ""
      ]
     },
     "metadata": {
      "application/vnd.databricks.v1+output": {
       "arguments": {},
       "data": "",
       "errorSummary": "Command skipped",
       "errorTraceType": "ansi",
       "metadata": {},
       "type": "ipynbError"
      }
     },
     "output_type": "display_data"
    }
   ],
   "source": [
    "# 2nd set of heat maps for Votes-related columns\n",
    "\n",
    "plt.figure(figsize=(20,8))\n",
    "plt.subplot(1,2,1)\n",
    "heatmap_m = sns.heatmap(genre_top10.iloc[:,30:40:3],annot=True,cmap=\"Spectral_r\")\n",
    "bottom, top = heatmap_m.get_ylim()\n",
    "heatmap_m.set_ylim(bottom + 0.5, top - 0.5)\n",
    "plt.subplot(1,2,2)\n",
    "heatmap_f = sns.heatmap(genre_top10.iloc[:,31:41:3],annot=True,cmap=\"Spectral_r\")\n",
    "bottom, top = heatmap_f.get_ylim()\n",
    "heatmap_f.set_ylim(bottom + 0.5, top - 0.5)\n",
    "plt.show()\n"
   ]
  },
  {
   "cell_type": "markdown",
   "metadata": {
    "application/vnd.databricks.v1+cell": {
     "cellMetadata": {
      "byteLimit": 2048000,
      "rowLimit": 10000
     },
     "inputWidgets": {},
     "nuid": "cf53fbaf-c91d-41d9-b19b-e80d9b991b00",
     "showTitle": false,
     "tableResultSettingsMap": {},
     "title": ""
    }
   },
   "source": [
    "**`Inferences:`** Sci-Fi appears to be the highest rated genre in the age group of U18 for both males and females. Also, females in this age group have rated it a bit higher than the males in the same age group. What more can you infer from the two heatmaps that you have plotted? Write your three inferences/observations below:\n",
    "- **Inference 1**:Sci-Fi appears to be the highest rated genre in males of all age groups whereas for females, after being 18+, the highest rated genre becomes animation for all other age groups.\n",
    "\n",
    "- **Inference 2**: For males, animated movies are the least rated for age group under 18 whereas romantic movies become the least rated for all other age groups. For females, crime movies remain the least rated for all age groups except 45+ where that place is shockingly taken by romantic movies\n",
    "\n",
    "- **Inference 3**:In general, people, irrespective of age and gender like movies more when they are younger and that liking and the tendency to give higher rating decreases over time, thereby decreasing the average rating of age groups if we go from under 18 to 45+"
   ]
  },
  {
   "cell_type": "markdown",
   "metadata": {
    "application/vnd.databricks.v1+cell": {
     "cellMetadata": {
      "byteLimit": 2048000,
      "rowLimit": 10000
     },
     "inputWidgets": {},
     "nuid": "1f0b0f8f-73b0-462e-8931-c7ae82cfd424",
     "showTitle": false,
     "tableResultSettingsMap": {},
     "title": ""
    }
   },
   "source": [
    "-  ###  Subtask 3.4: US vs non-US Cross Analysis\n",
    "\n",
    "The dataset contains both the US and non-US movies. Let's analyse how both the US and the non-US voters have responded to the US and the non-US movies.\n",
    "\n",
    "1. Create a column `IFUS` in the dataframe `movies`. The column `IFUS` should contain the value \"USA\" if the `Country` of the movie is \"USA\". For all other countries other than the USA, `IFUS` should contain the value `non-USA`.\n",
    "\n",
    "\n",
    "2. Now make a boxplot that shows how the number of votes from the US people i.e. `CVotesUS` is varying for the US and non-US movies. Make use of the column `IFUS` to make this plot. Similarly, make another subplot that shows how non US voters have voted for the US and non-US movies by plotting `CVotesnUS` for both the US and non-US movies. Write any of your two inferences/observations from these plots.\n",
    "\n",
    "\n",
    "3. Again do a similar analysis but with the ratings. Make a boxplot that shows how the ratings from the US people i.e. `VotesUS` is varying for the US and non-US movies. Similarly, make another subplot that shows how `VotesnUS` is varying for the US and non-US movies. Write any of your two inferences/observations from these plots.\n",
    "\n",
    "Note : Use `movies` dataframe for this subtask. Make use of this documention to format your boxplot - https://seaborn.pydata.org/generated/seaborn.boxplot.html"
   ]
  },
  {
   "cell_type": "code",
   "execution_count": 0,
   "metadata": {
    "application/vnd.databricks.v1+cell": {
     "cellMetadata": {
      "byteLimit": 2048000,
      "rowLimit": 10000
     },
     "inputWidgets": {},
     "nuid": "2c43f1a2-c14a-4486-bc28-986659e9dd29",
     "showTitle": false,
     "tableResultSettingsMap": {},
     "title": ""
    }
   },
   "outputs": [
    {
     "output_type": "display_data",
     "data": {
      "text/plain": [
       ""
      ]
     },
     "metadata": {
      "application/vnd.databricks.v1+output": {
       "arguments": {},
       "data": "",
       "errorSummary": "Command skipped",
       "errorTraceType": "ansi",
       "metadata": {},
       "type": "ipynbError"
      }
     },
     "output_type": "display_data"
    }
   ],
   "source": [
    "# Creating IFUS column\n",
    "#initializing all columns with USA\n",
    "\n",
    "movies[\"IFUS\"] = \"USA\" \n",
    "\n",
    "#changing all values where country != USA\n",
    "movies.loc[movies[\"Country\"] != \"USA\",\"IFUS\"] = \"non-USA\" \n",
    "movies\n"
   ]
  },
  {
   "cell_type": "code",
   "execution_count": 0,
   "metadata": {
    "application/vnd.databricks.v1+cell": {
     "cellMetadata": {
      "byteLimit": 2048000,
      "rowLimit": 10000
     },
     "inputWidgets": {},
     "nuid": "d7049e3e-88f7-4216-a19d-c4e4d02f554f",
     "showTitle": false,
     "tableResultSettingsMap": {},
     "title": ""
    }
   },
   "outputs": [
    {
     "output_type": "display_data",
     "data": {
      "text/plain": [
       ""
      ]
     },
     "metadata": {
      "application/vnd.databricks.v1+output": {
       "arguments": {},
       "data": "",
       "errorSummary": "Command skipped",
       "errorTraceType": "ansi",
       "metadata": {},
       "type": "ipynbError"
      }
     },
     "output_type": "display_data"
    }
   ],
   "source": [
    "# Box plot - 1: CVotesUS(y) vs IFUS(x)\n",
    "\n",
    "plt.figure(figsize=(20,8))\n",
    "plt.subplot(1,2,1)\n",
    "sns.boxplot(x=movies[\"IFUS\"],y=movies[\"CVotesUS\"])\n",
    "plt.subplot(1,2,2)\n",
    "sns.boxplot(x=movies[\"IFUS\"],y=movies[\"CVotesnUS\"])\n",
    "plt.show()"
   ]
  },
  {
   "cell_type": "markdown",
   "metadata": {
    "application/vnd.databricks.v1+cell": {
     "cellMetadata": {
      "byteLimit": 2048000,
      "rowLimit": 10000
     },
     "inputWidgets": {},
     "nuid": "252969e9-63ff-4e38-9486-b25a4858da61",
     "showTitle": false,
     "tableResultSettingsMap": {},
     "title": ""
    }
   },
   "source": [
    "**`Inferences:`** Write your two inferences/observations below:\n",
    "- Inference 1: From both plots, we can see that non-USA plot's IQR is slightly larger thant USA people plot\n",
    "- Inference 2: From both plots, there seem to be some outliers in USA plot, suggesting that some USA movies got exceptionally high votes from USA and non-USA people"
   ]
  },
  {
   "cell_type": "code",
   "execution_count": 0,
   "metadata": {
    "application/vnd.databricks.v1+cell": {
     "cellMetadata": {
      "byteLimit": 2048000,
      "rowLimit": 10000
     },
     "inputWidgets": {},
     "nuid": "557340eb-3b9e-48ae-b1ef-45b485ecd0de",
     "showTitle": false,
     "tableResultSettingsMap": {},
     "title": ""
    }
   },
   "outputs": [
    {
     "output_type": "display_data",
     "data": {
      "text/plain": [
       ""
      ]
     },
     "metadata": {
      "application/vnd.databricks.v1+output": {
       "arguments": {},
       "data": "",
       "errorSummary": "Command skipped",
       "errorTraceType": "ansi",
       "metadata": {},
       "type": "ipynbError"
      }
     },
     "output_type": "display_data"
    }
   ],
   "source": [
    "# Box plot - 2: VotesUS(y) vs IFUS(x)\n",
    "\n",
    "plt.figure(figsize=(20,8))\n",
    "plt.subplot(1,2,1)\n",
    "sns.boxplot(x=movies[\"IFUS\"],y=movies[\"VotesUS\"])\n",
    "plt.subplot(1,2,2)\n",
    "sns.boxplot(x=movies[\"IFUS\"],y=movies[\"VotesnUS\"])\n",
    "plt.show()\n"
   ]
  },
  {
   "cell_type": "markdown",
   "metadata": {
    "application/vnd.databricks.v1+cell": {
     "cellMetadata": {
      "byteLimit": 2048000,
      "rowLimit": 10000
     },
     "inputWidgets": {},
     "nuid": "c6001a30-80bb-41b1-8a9a-2214ced198ea",
     "showTitle": false,
     "tableResultSettingsMap": {},
     "title": ""
    }
   },
   "source": [
    "**`Inferences:`** Write your two inferences/observations below:\n",
    "- Inference 1: From both plots, we can see that there are some USA movies that have got exceptionally high rating from USA and non-USA people (outliers in USA plot)\n",
    "- Inference 2: From both plots, USA people have roughly given ratings to non-USA movies in range (7.8-8) and USA movies in range (7.8-8.1) whereas non-USA people have roughly given ratings to non-USA movies in range(7.6-8) and USA movies in range(7.6-7.9). There seems to be trend here that states that USA people will rate USA movies higher and non-USA people will rate non-USA movies higher"
   ]
  },
  {
   "cell_type": "markdown",
   "metadata": {
    "application/vnd.databricks.v1+cell": {
     "cellMetadata": {
      "byteLimit": 2048000,
      "rowLimit": 10000
     },
     "inputWidgets": {},
     "nuid": "3a43b905-06a3-47e3-b214-77fd8a3e3935",
     "showTitle": false,
     "tableResultSettingsMap": {},
     "title": ""
    }
   },
   "source": [
    "-  ###  Subtask 3.5:  Top 1000 Voters Vs Genres\n",
    "\n",
    "You might have also observed the column `CVotes1000`. This column represents the top 1000 voters on IMDb and gives the count for the number of these voters who have voted for a particular movie. Let's see how these top 1000 voters have voted across the genres. \n",
    "\n",
    "1. Sort the dataframe genre_top10 based on the value of `CVotes1000`in a descending order.\n",
    "\n",
    "2. Make a seaborn barplot for `genre` vs `CVotes1000`.\n",
    "\n",
    "3. Write your inferences. You can also try to relate it with the heatmaps you did in the previous subtasks.\n",
    "\n",
    "\n"
   ]
  },
  {
   "cell_type": "code",
   "execution_count": 0,
   "metadata": {
    "application/vnd.databricks.v1+cell": {
     "cellMetadata": {
      "byteLimit": 2048000,
      "rowLimit": 10000
     },
     "inputWidgets": {},
     "nuid": "6e508626-5669-409b-831e-11e731923ec7",
     "showTitle": false,
     "tableResultSettingsMap": {},
     "title": ""
    }
   },
   "outputs": [
    {
     "output_type": "display_data",
     "data": {
      "text/plain": [
       ""
      ]
     },
     "metadata": {
      "application/vnd.databricks.v1+output": {
       "arguments": {},
       "data": "",
       "errorSummary": "Command skipped",
       "errorTraceType": "ansi",
       "metadata": {},
       "type": "ipynbError"
      }
     },
     "output_type": "display_data"
    }
   ],
   "source": [
    "genre_top10"
   ]
  },
  {
   "cell_type": "code",
   "execution_count": 0,
   "metadata": {
    "application/vnd.databricks.v1+cell": {
     "cellMetadata": {
      "byteLimit": 2048000,
      "rowLimit": 10000
     },
     "inputWidgets": {},
     "nuid": "88a9849d-baae-45cf-8459-d35e4c9edf4b",
     "showTitle": false,
     "tableResultSettingsMap": {},
     "title": ""
    }
   },
   "outputs": [
    {
     "output_type": "display_data",
     "data": {
      "text/plain": [
       ""
      ]
     },
     "metadata": {
      "application/vnd.databricks.v1+output": {
       "arguments": {},
       "data": "",
       "errorSummary": "Command skipped",
       "errorTraceType": "ansi",
       "metadata": {},
       "type": "ipynbError"
      }
     },
     "output_type": "display_data"
    }
   ],
   "source": [
    "# Sorting by CVotes1000\n",
    "genre_top10.sort_values(by='CVotes1000',ascending=False)\n"
   ]
  },
  {
   "cell_type": "code",
   "execution_count": 0,
   "metadata": {
    "application/vnd.databricks.v1+cell": {
     "cellMetadata": {
      "byteLimit": 2048000,
      "rowLimit": 10000
     },
     "inputWidgets": {},
     "nuid": "bd0c6532-b881-479a-8f5d-1f6d87d1603d",
     "showTitle": false,
     "tableResultSettingsMap": {},
     "title": ""
    }
   },
   "outputs": [
    {
     "output_type": "display_data",
     "data": {
      "text/plain": [
       ""
      ]
     },
     "metadata": {
      "application/vnd.databricks.v1+output": {
       "arguments": {},
       "data": "",
       "errorSummary": "Command skipped",
       "errorTraceType": "ansi",
       "metadata": {},
       "type": "ipynbError"
      }
     },
     "output_type": "display_data"
    }
   ],
   "source": [
    "# Bar plot\n",
    "\n",
    "plt.figure(figsize=(10,5))\n",
    "sns.barplot(x=genre_top10.index,y=genre_top10[\"CVotes1000\"])"
   ]
  },
  {
   "cell_type": "markdown",
   "metadata": {
    "application/vnd.databricks.v1+cell": {
     "cellMetadata": {
      "byteLimit": 2048000,
      "rowLimit": 10000
     },
     "inputWidgets": {},
     "nuid": "cf2751a3-f92d-49ce-b181-b5a844f9a7dd",
     "showTitle": false,
     "tableResultSettingsMap": {},
     "title": ""
    }
   },
   "source": [
    "**`Inferences:`** Write your inferences/observations here.\n",
    "- 1 Sci-Fi still seems to be the highest voted category here as well, as was the case in case of heatmaps\n",
    "- 2 Same trends seen in the heatmaps are seen here with regards to adventure, action and thriller as them being the next voted genres"
   ]
  },
  {
   "cell_type": "markdown",
   "metadata": {
    "application/vnd.databricks.v1+cell": {
     "cellMetadata": {
      "byteLimit": 2048000,
      "rowLimit": 10000
     },
     "inputWidgets": {},
     "nuid": "9cb5794c-5fd2-4b5b-8114-3936be2748a1",
     "showTitle": false,
     "tableResultSettingsMap": {},
     "title": ""
    }
   },
   "source": [
    "**`Checkpoint 6:`** The genre `Romance` seems to be most unpopular among the top 1000 voters."
   ]
  },
  {
   "cell_type": "markdown",
   "metadata": {
    "application/vnd.databricks.v1+cell": {
     "cellMetadata": {
      "byteLimit": 2048000,
      "rowLimit": 10000
     },
     "inputWidgets": {},
     "nuid": "f1cbe2e9-de43-4f11-8716-adc3018fda07",
     "showTitle": false,
     "tableResultSettingsMap": {},
     "title": ""
    }
   },
   "source": [
    "With the above subtask, your assignment is over. In your free time, do explore the dataset further on your own and see what kind of other insights you can get across various other columns."
   ]
  },
  {
   "cell_type": "markdown",
   "metadata": {
    "application/vnd.databricks.v1+cell": {
     "cellMetadata": {
      "byteLimit": 2048000,
      "rowLimit": 10000
     },
     "inputWidgets": {},
     "nuid": "00c4f8c3-17c6-4ff4-9744-d82e7a3de523",
     "showTitle": false,
     "tableResultSettingsMap": {},
     "title": ""
    }
   },
   "source": [
    "## Now complete following scenarios"
   ]
  },
  {
   "cell_type": "code",
   "execution_count": 0,
   "metadata": {
    "application/vnd.databricks.v1+cell": {
     "cellMetadata": {
      "byteLimit": 2048000,
      "rowLimit": 10000
     },
     "inputWidgets": {},
     "nuid": "98308e49-8392-4cde-b50c-aba3ee4ba16e",
     "showTitle": false,
     "tableResultSettingsMap": {},
     "title": ""
    }
   },
   "outputs": [
    {
     "output_type": "display_data",
     "data": {
      "text/plain": [
       ""
      ]
     },
     "metadata": {
      "application/vnd.databricks.v1+output": {
       "arguments": {},
       "data": "",
       "errorSummary": "Command skipped",
       "errorTraceType": "ansi",
       "metadata": {},
       "type": "ipynbError"
      }
     },
     "output_type": "display_data"
    }
   ],
   "source": [
    "# Scenario 1: Top 10 movies by IMDb rating\n",
    "\n",
    "TODO\n"
   ]
  },
  {
   "cell_type": "code",
   "execution_count": 0,
   "metadata": {
    "application/vnd.databricks.v1+cell": {
     "cellMetadata": {
      "byteLimit": 2048000,
      "rowLimit": 10000
     },
     "inputWidgets": {},
     "nuid": "96865f21-557d-40c9-a1eb-3cdc2b4dd818",
     "showTitle": false,
     "tableResultSettingsMap": {},
     "title": ""
    }
   },
   "outputs": [
    {
     "output_type": "display_data",
     "data": {
      "text/plain": [
       ""
      ]
     },
     "metadata": {
      "application/vnd.databricks.v1+output": {
       "arguments": {},
       "data": "",
       "errorSummary": "Command skipped",
       "errorTraceType": "ansi",
       "metadata": {},
       "type": "ipynbError"
      }
     },
     "output_type": "display_data"
    }
   ],
   "source": [
    "# Scenario 2: Movies released after 2010 with rating above 8\n",
    "\n",
    "TODO\n"
   ]
  },
  {
   "cell_type": "code",
   "execution_count": 0,
   "metadata": {
    "application/vnd.databricks.v1+cell": {
     "cellMetadata": {
      "byteLimit": 2048000,
      "rowLimit": 10000
     },
     "inputWidgets": {},
     "nuid": "0d525754-8458-4020-8096-d5aec5b6afdb",
     "showTitle": false,
     "tableResultSettingsMap": {},
     "title": ""
    }
   },
   "outputs": [
    {
     "output_type": "display_data",
     "data": {
      "text/plain": [
       ""
      ]
     },
     "metadata": {
      "application/vnd.databricks.v1+output": {
       "arguments": {},
       "data": "",
       "errorSummary": "Command skipped",
       "errorTraceType": "ansi",
       "metadata": {},
       "type": "ipynbError"
      }
     },
     "output_type": "display_data"
    }
   ],
   "source": [
    "# Scenario 3: Average rating by genre (splitting genres into individual entries)\n",
    "\n",
    "TODO\n"
   ]
  },
  {
   "cell_type": "code",
   "execution_count": 0,
   "metadata": {
    "application/vnd.databricks.v1+cell": {
     "cellMetadata": {
      "byteLimit": 2048000,
      "rowLimit": 10000
     },
     "inputWidgets": {},
     "nuid": "6689acf9-c564-40b3-96b3-ba5f0161031c",
     "showTitle": false,
     "tableResultSettingsMap": {},
     "title": ""
    }
   },
   "outputs": [
    {
     "output_type": "display_data",
     "data": {
      "text/plain": [
       ""
      ]
     },
     "metadata": {
      "application/vnd.databricks.v1+output": {
       "arguments": {},
       "data": "",
       "errorSummary": "Command skipped",
       "errorTraceType": "ansi",
       "metadata": {},
       "type": "ipynbError"
      }
     },
     "output_type": "display_data"
    }
   ],
   "source": [
    "# Scenario 4: Number of movies released each year\n",
    "\n",
    "TODO\n"
   ]
  },
  {
   "cell_type": "code",
   "execution_count": 0,
   "metadata": {
    "application/vnd.databricks.v1+cell": {
     "cellMetadata": {
      "byteLimit": 2048000,
      "rowLimit": 10000
     },
     "inputWidgets": {},
     "nuid": "85099999-f300-4bd2-9937-13f4a4e1925e",
     "showTitle": false,
     "tableResultSettingsMap": {},
     "title": ""
    }
   },
   "outputs": [
    {
     "output_type": "display_data",
     "data": {
      "text/plain": [
       ""
      ]
     },
     "metadata": {
      "application/vnd.databricks.v1+output": {
       "arguments": {},
       "data": "",
       "errorSummary": "Command skipped",
       "errorTraceType": "ansi",
       "metadata": {},
       "type": "ipynbError"
      }
     },
     "output_type": "display_data"
    }
   ],
   "source": [
    "# Scenario 5: Top 5 directors with highest average IMDb rating (minimum 5 movies)\n",
    "\n",
    "TODO\n"
   ]
  },
  {
   "cell_type": "code",
   "execution_count": 0,
   "metadata": {
    "application/vnd.databricks.v1+cell": {
     "cellMetadata": {
      "byteLimit": 2048000,
      "rowLimit": 10000
     },
     "inputWidgets": {},
     "nuid": "2c1473bd-1061-4e82-ac22-87d2ab7a4e07",
     "showTitle": false,
     "tableResultSettingsMap": {},
     "title": ""
    }
   },
   "outputs": [
    {
     "output_type": "display_data",
     "data": {
      "text/plain": [
       ""
      ]
     },
     "metadata": {
      "application/vnd.databricks.v1+output": {
       "arguments": {},
       "data": "",
       "errorSummary": "Command skipped",
       "errorTraceType": "ansi",
       "metadata": {},
       "type": "ipynbError"
      }
     },
     "output_type": "display_data"
    }
   ],
   "source": [
    "# Scenario 6: Movies grouped by content rating and their average durations\n",
    "\n",
    "TODO\n"
   ]
  },
  {
   "cell_type": "code",
   "execution_count": 0,
   "metadata": {
    "application/vnd.databricks.v1+cell": {
     "cellMetadata": {
      "byteLimit": 2048000,
      "rowLimit": 10000
     },
     "inputWidgets": {},
     "nuid": "257826fa-e68d-4a18-875e-590c5b3441ca",
     "showTitle": false,
     "tableResultSettingsMap": {},
     "title": ""
    }
   },
   "outputs": [
    {
     "output_type": "display_data",
     "data": {
      "text/plain": [
       ""
      ]
     },
     "metadata": {
      "application/vnd.databricks.v1+output": {
       "arguments": {},
       "data": "",
       "errorSummary": "Command skipped",
       "errorTraceType": "ansi",
       "metadata": {},
       "type": "ipynbError"
      }
     },
     "output_type": "display_data"
    }
   ],
   "source": [
    "# Scenario 7: Year with the most movie releases\n",
    "\n",
    "TODO\n"
   ]
  },
  {
   "cell_type": "code",
   "execution_count": 0,
   "metadata": {
    "application/vnd.databricks.v1+cell": {
     "cellMetadata": {
      "byteLimit": 2048000,
      "rowLimit": 10000
     },
     "inputWidgets": {},
     "nuid": "8f5666ef-dd5a-4918-8dcf-3f6275bc0ee8",
     "showTitle": false,
     "tableResultSettingsMap": {},
     "title": ""
    }
   },
   "outputs": [
    {
     "output_type": "display_data",
     "data": {
      "text/plain": [
       ""
      ]
     },
     "metadata": {
      "application/vnd.databricks.v1+output": {
       "arguments": {},
       "data": "",
       "errorSummary": "Command skipped",
       "errorTraceType": "ansi",
       "metadata": {},
       "type": "ipynbError"
      }
     },
     "output_type": "display_data"
    }
   ],
   "source": [
    "# Scenario 8: Longest movie per genre\n",
    "\n",
    "TODO\n"
   ]
  },
  {
   "cell_type": "code",
   "execution_count": 0,
   "metadata": {
    "application/vnd.databricks.v1+cell": {
     "cellMetadata": {
      "byteLimit": 2048000,
      "rowLimit": 10000
     },
     "inputWidgets": {},
     "nuid": "8eafdf88-9fa6-469f-bd89-6f6a906619ac",
     "showTitle": false,
     "tableResultSettingsMap": {},
     "title": ""
    }
   },
   "outputs": [
    {
     "output_type": "display_data",
     "data": {
      "text/plain": [
       ""
      ]
     },
     "metadata": {
      "application/vnd.databricks.v1+output": {
       "arguments": {},
       "data": "",
       "errorSummary": "Command skipped",
       "errorTraceType": "ansi",
       "metadata": {},
       "type": "ipynbError"
      }
     },
     "output_type": "display_data"
    }
   ],
   "source": [
    "# Scenario 9: Movies with budget greater than revenue (loss-making)\n",
    "\n",
    "TODO\n"
   ]
  },
  {
   "cell_type": "code",
   "execution_count": 0,
   "metadata": {
    "application/vnd.databricks.v1+cell": {
     "cellMetadata": {
      "byteLimit": 2048000,
      "rowLimit": 10000
     },
     "inputWidgets": {},
     "nuid": "0eb58ec1-3270-41e2-ae31-db6598416749",
     "showTitle": false,
     "tableResultSettingsMap": {},
     "title": ""
    }
   },
   "outputs": [
    {
     "output_type": "display_data",
     "data": {
      "text/plain": [
       ""
      ]
     },
     "metadata": {
      "application/vnd.databricks.v1+output": {
       "arguments": {},
       "data": "",
       "errorSummary": "Command skipped",
       "errorTraceType": "ansi",
       "metadata": {},
       "type": "ipynbError"
      }
     },
     "output_type": "display_data"
    }
   ],
   "source": [
    "# Scenario 10: Most common actor/actress (based on appearances in actor_1_name, actor_2_name, actor_3_name)\n",
    "\n",
    "TODO\n"
   ]
  }
 ],
 "metadata": {
  "application/vnd.databricks.v1+notebook": {
   "computePreferences": null,
   "dashboards": [],
   "environmentMetadata": null,
   "inputWidgetPreferences": null,
   "language": "python",
   "notebookMetadata": {
    "pythonIndentUnit": 4
   },
   "notebookName": "IMDB_Movie_EDA (1)",
   "widgets": {}
  },
  "kernelspec": {
   "display_name": "Python 3",
   "language": "python",
   "name": "python3"
  },
  "language_info": {
   "codemirror_mode": {
    "name": "ipython",
    "version": 3
   },
   "file_extension": ".py",
   "mimetype": "text/x-python",
   "name": "python",
   "nbconvert_exporter": "python",
   "pygments_lexer": "ipython3",
   "version": "3.8.3"
  }
 },
 "nbformat": 4,
 "nbformat_minor": 0
}